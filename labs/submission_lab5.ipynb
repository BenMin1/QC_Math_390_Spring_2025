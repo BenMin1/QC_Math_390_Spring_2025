{
 "cells": [
  {
   "cell_type": "markdown",
   "id": "2b1538b0-f92b-48b9-be07-e9527576bc8b",
   "metadata": {},
   "source": [
    "## Course Assignment Instructions\n",
    "You should have Python (version 3.8 or later) and Jupyter Notebook installed to complete this assignment. You will write code in the empty cell/cells below the problem. While most of this will be a programming assignment, some questions will ask you to \"write a few sentences\" in markdown cells. \n",
    "\n",
    "Submission Instructions:\n",
    "\n",
    "Create a labs directory in your personal class repository (e.g., located in your home directory)\n",
    "Clone the class repository\n",
    "Copy this Jupyter notebook file (.ipynb) into your repo/labs directory\n",
    "Make your edits, commit changes, and push to your repository\n",
    "All submissions must be pushed before the due date to avoid late penalties. \n",
    "\n",
    "Labs are graded out of a 100 pts. Each day late is -10. For a max penalty of -50 after 5 days. From there you may submit the lab anytime before the semester ends for a max score of 50.  \n",
    "\n",
    "Lab 5 is due on 3/17/25"
   ]
  },
  {
   "cell_type": "markdown",
   "id": "baa0e89f-550b-4278-90c1-5b4d73c3d088",
   "metadata": {},
   "source": [
    "Write a function spec'd as follows:"
   ]
  },
  {
   "cell_type": "code",
   "execution_count": 6,
   "id": "80200021-19e2-4bd1-bd14-705326161aee",
   "metadata": {},
   "outputs": [],
   "source": [
    "import numpy as np\n",
    "\n",
    "def norm_vec(x):\n",
    "    \"\"\"Compute the Euclidean norm of a vector.\"\"\"\n",
    "    return np.sqrt(np.sum(x**2))\n",
    "\n",
    "def orthogonal_projection(a, v):\n",
    "    \"\"\"\n",
    "    Projects vector a onto vector v.\n",
    "    \n",
    "    Parameters:\n",
    "        a (numpy.ndarray): The vector to project.\n",
    "        v (numpy.ndarray): The vector to project onto.\n",
    "    \n",
    "    Returns:\n",
    "        dict: A dictionary with keys:\n",
    "            'a_parallel': the projection of a onto v,\n",
    "            'a_perpendicular': the residual component of a orthogonal to v.\n",
    "    \"\"\"\n",
    "    # Ensure that a and v are numpy arrays\n",
    "    a = np.asarray(a)\n",
    "    v = np.asarray(v)\n",
    "    \n",
    "    # Compute the squared norm of v\n",
    "    v_norm_sq = norm_vec(v)**2\n",
    "    \n",
    "    # Create the projection matrix using the outer product of v\n",
    "    H = np.outer(v, v) / v_norm_sq\n",
    "    \n",
    "    # Compute the parallel component of a\n",
    "    a_parallel = H @ a\n",
    "    \n",
    "    # Compute the orthogonal (perpendicular) component\n",
    "    a_perpendicular = a - a_parallel\n",
    "    \n",
    "    return {'a_parallel': a_parallel, 'a_perpendicular': a_perpendicular}\n"
   ]
  },
  {
   "cell_type": "markdown",
   "id": "923afa28-a1f6-46e8-bb9c-b51c427752b3",
   "metadata": {},
   "source": [
    "Provide predictions for each of these computations and then run them to make sure you're correct."
   ]
  },
  {
   "cell_type": "code",
   "execution_count": 7,
   "id": "2bf93752-a0a0-42e0-975a-43f01e967011",
   "metadata": {},
   "outputs": [
    {
     "name": "stdout",
     "output_type": "stream",
     "text": [
      "Test 1: orthogonal_projection([1,2,3,4], [1,2,3,4])\n",
      "a_parallel:\n",
      "[1. 2. 3. 4.]\n",
      "a_perpendicular:\n",
      "[0. 0. 0. 0.]\n",
      "\n",
      "Test 2: orthogonal_projection([1,2,3,4], [0,2,0,-1])\n",
      "a_parallel:\n",
      "[0. 0. 0. 0.]\n",
      "a_perpendicular:\n",
      "[1. 2. 3. 4.]\n",
      "\n",
      "Test 3: result = orthogonal_projection([2,6,7,3], [1,3,5,7]*37)\n",
      "Dot product (should be near 0): -3.552713678800501e-15\n",
      "Sum (should equal original vector [2,6,7,3]):\n",
      "[2. 6. 7. 3.]\n",
      "a_parallel divided by ([1,3,5,7]*37) (percentage of projection):\n",
      "[0.02445302 0.02445302 0.02445302 0.02445302]\n"
     ]
    }
   ],
   "source": [
    "# Test 1:\n",
    "print(\"Test 1: orthogonal_projection([1,2,3,4], [1,2,3,4])\")\n",
    "result1 = orthogonal_projection([1,2,3,4], [1,2,3,4])\n",
    "print(\"a_parallel:\")\n",
    "print(result1['a_parallel'])        # Expected: [1, 2, 3, 4]\n",
    "print(\"a_perpendicular:\")\n",
    "print(result1['a_perpendicular'])     # Expected: [0, 0, 0, 0]\n",
    "\n",
    "# Test 2:\n",
    "print(\"\\nTest 2: orthogonal_projection([1,2,3,4], [0,2,0,-1])\")\n",
    "result2 = orthogonal_projection([1,2,3,4], [0,2,0,-1])\n",
    "print(\"a_parallel:\")\n",
    "print(result2['a_parallel'])          # Expected: [0, 0, 0, 0]\n",
    "print(\"a_perpendicular:\")\n",
    "print(result2['a_perpendicular'])       # Expected: [1, 2, 3, 4]\n",
    "\n",
    "# Test 3:\n",
    "print(\"\\nTest 3: result = orthogonal_projection([2,6,7,3], [1,3,5,7]*37)\")\n",
    "# Multiply [1,3,5,7] by 37 and project\n",
    "v3 = np.array([1,3,5,7]) * 37\n",
    "result3 = orthogonal_projection([2,6,7,3], v3)\n",
    "\n",
    "# Compute dot product between a_parallel and a_perpendicular (should be near 0)\n",
    "dot_product = np.dot(result3['a_parallel'], result3['a_perpendicular'])\n",
    "print(\"Dot product (should be near 0):\", dot_product)\n",
    "\n",
    "# Sum of parallel and perpendicular components should return the original vector.\n",
    "sum_vector = result3['a_parallel'] + result3['a_perpendicular']\n",
    "print(\"Sum (should equal original vector [2,6,7,3]):\")\n",
    "print(sum_vector)\n",
    "\n",
    "# Compute the \"percentage\" of the projection relative to v3.\n",
    "percentage = result3['a_parallel'] / v3\n",
    "print(\"a_parallel divided by ([1,3,5,7]*37) (percentage of projection):\")\n",
    "print(percentage)\n"
   ]
  },
  {
   "cell_type": "markdown",
   "id": "998085c4-9b18-402e-a8b4-4a91cc882b46",
   "metadata": {},
   "source": [
    "Create a vector y by simulating n = 100 standard iid normals. Create a matrix of size 100 x 2 and populate the first column by all ones (for the intercept) and the second column by 100 standard iid normals. Find the R^2 of an OLS regression of `y ~ X`. Use matrix algebra."
   ]
  },
  {
   "cell_type": "code",
   "execution_count": 8,
   "id": "1f1779d5-c6e5-4670-832a-a47634752b35",
   "metadata": {},
   "outputs": [
    {
     "name": "stdout",
     "output_type": "stream",
     "text": [
      "SSR: 127.2452490501258\n",
      "SST: 127.29265592243308\n",
      "R^2: 0.00037242425310191063\n"
     ]
    }
   ],
   "source": [
    "import numpy as np\n",
    "\n",
    "# Set seed for reproducibility\n",
    "np.random.seed(123)\n",
    "\n",
    "# Simulate data\n",
    "n = 100\n",
    "y = np.random.randn(n, 1)  # y as a column vector (100 x 1)\n",
    "X = np.hstack((np.ones((n, 1)), np.random.randn(n, 1)))  # X as 100 x 2 matrix\n",
    "\n",
    "# Compute OLS coefficients: beta_hat = (X'X)^{-1} X'y\n",
    "beta_hat = np.linalg.inv(X.T @ X) @ X.T @ y\n",
    "\n",
    "# Compute the hat matrix H = X (X'X)^{-1} X'\n",
    "H = X @ np.linalg.inv(X.T @ X) @ X.T\n",
    "\n",
    "# Identity matrix of size n\n",
    "I = np.eye(n)\n",
    "\n",
    "# Compute SSR (Residual Sum of Squares) using matrix algebra: SSR = y' (I - H) y\n",
    "SSR = (y.T @ (I - H) @ y).item() #.item() will grab the value out of the array \n",
    "\n",
    "# Define the centering matrix: M = I - (1/n) * 11'\n",
    "M = I - (1/n) * np.ones((n, n))\n",
    "\n",
    "# Compute SST (Total Sum of Squares) using matrix algebra: SST = y' M y\n",
    "SST = (y.T @ M @ y).item() \n",
    "\n",
    "# Calculate R-squared\n",
    "R2 = 1 - SSR / SST\n",
    "\n",
    "# Print the results\n",
    "print(\"SSR:\", SSR)\n",
    "print(\"SST:\", SST)\n",
    "print(\"R^2:\", R2)"
   ]
  },
  {
   "cell_type": "markdown",
   "id": "59b19394-0558-4670-86e0-2d9295ae1243",
   "metadata": {},
   "source": [
    "Write a for loop to each time bind a new column of 100 standard iid normals to the matrix X and find the R^2 each time until the number of columns is 100. Create a vector to save all R^2's. What happened??"
   ]
  },
  {
   "cell_type": "code",
   "execution_count": 9,
   "id": "736b27a0-df6f-447c-8e78-f3c443e2e3a4",
   "metadata": {},
   "outputs": [
    {
     "name": "stdout",
     "output_type": "stream",
     "text": [
      "R^2 values for models with 1 to 100 columns:\n",
      "[0.0, 0.00037242425310191063, 0.0039534712234703395, 0.015515917195883855, 0.016012956955489988, 0.060483757420479956, 0.0604856345047039, 0.06791713923101828, 0.1155205486782005, 0.115985431479941, 0.162531991451342, 0.16324852246361632, 0.1653058735950539, 0.16726405487373353, 0.16959752126125316, 0.186791654654901, 0.18680390934298918, 0.19280704730131826, 0.19656454956494696, 0.20676806135980885, 0.2067805910051016, 0.21297298468610126, 0.21413227261249568, 0.22344231007274185, 0.2644021621922207, 0.2688518991099367, 0.2904508089901391, 0.29132140616382185, 0.2940661523691508, 0.29505341769528637, 0.3224612676383528, 0.34069205476632747, 0.34966372664455914, 0.36519299490256085, 0.36609673260436104, 0.38741665786176294, 0.4030608157085439, 0.40637996512050323, 0.4084185281712275, 0.4086532629450572, 0.4087302243058517, 0.4122560226143147, 0.4199723297044975, 0.45296272233899937, 0.45435748259751674, 0.45838951359740276, 0.4584411626637773, 0.4587105682059598, 0.45982371981347814, 0.4600827673875302, 0.464215577201027, 0.46568539273667275, 0.4740253125991649, 0.4759792162552864, 0.4767914615445271, 0.478609966753774, 0.4838485658728213, 0.4841312500428516, 0.4861020907809164, 0.48632682326221566, 0.48719767430164607, 0.487272657603376, 0.48810957144301814, 0.49143361543092023, 0.502673417939203, 0.5218393708002693, 0.5226854273997588, 0.5306612598397727, 0.5400117729727334, 0.5758618965548252, 0.5794672894601182, 0.5825674203353444, 0.5833897760854554, 0.5977855864294791, 0.6020719460622732, 0.6329237023727556, 0.6428928919050505, 0.6792167766016535, 0.6804377097045042, 0.68369409531706, 0.687726217031866, 0.6958153024269473, 0.6959141060332986, 0.8269638581828747, 0.8269642644890394, 0.8421062351150496, 0.8511300271839719, 0.8526653897465583, 0.8912768916579414, 0.8935047892458806, 0.9170216179578101, 0.9194927487245198, 0.919861978582901, 0.9290091629043679, 0.9358374484878511, 0.9528344080343919, 0.9694364196414711, 0.9746421719572972, 0.998360377510893, 1.0]\n"
     ]
    }
   ],
   "source": [
    "import numpy as np\n",
    "\n",
    "# Set seed for reproducibility\n",
    "np.random.seed(123)\n",
    "\n",
    "# Simulate data\n",
    "n = 100\n",
    "y = np.random.randn(n)  # response vector (100,)\n",
    "\n",
    "# Start with an intercept-only matrix X (100 x 1)\n",
    "X = np.ones((n, 1))\n",
    "\n",
    "# Pre-allocate a list to save R^2 values (one for each model size)\n",
    "R2_list = []\n",
    "\n",
    "# Loop until the number of columns in X is 100\n",
    "# First iteration: intercept only; then add one new column per iteration.\n",
    "for i in range(100):\n",
    "    # For iterations after the first, bind a new column of iid normals.\n",
    "    if i > 0:\n",
    "        new_column = np.random.randn(n, 1)\n",
    "        X = np.hstack((X, new_column))\n",
    "    \n",
    "    # Compute OLS coefficients using the normal equation: beta_hat = (X'X)^{-1} X'y\n",
    "    beta_hat = np.linalg.inv(X.T @ X) @ (X.T @ y)\n",
    "    \n",
    "    # Compute fitted values\n",
    "    y_hat = X @ beta_hat\n",
    "    \n",
    "    # Compute Total Sum of Squares (SST) and Residual Sum of Squares (SSR)\n",
    "    SST = np.sum((y - np.mean(y))**2)\n",
    "    SSR = np.sum((y - y_hat)**2)\n",
    "    \n",
    "    # Calculate R-squared and store it\n",
    "    R2 = 1 - SSR / SST\n",
    "    R2_list.append(R2)\n",
    "\n",
    "# Print the vector of R^2 values\n",
    "print(\"R^2 values for models with 1 to 100 columns:\")\n",
    "print(R2_list)"
   ]
  },
  {
   "cell_type": "markdown",
   "id": "81287175-3680-42bb-9125-67b175c53424",
   "metadata": {},
   "source": [
    "What happened? As more predictors are added, even if they are just noise, the R2 generally increases, relfecting that the model is overfitting the data."
   ]
  },
  {
   "cell_type": "markdown",
   "id": "1e99824f-7049-4057-bfa8-5659a13e3aa4",
   "metadata": {},
   "source": [
    "Test that the projection matrix onto this X is the same as I_n."
   ]
  },
  {
   "cell_type": "code",
   "execution_count": 10,
   "id": "50f24d3f-c93d-4104-937d-e4ec12a072e0",
   "metadata": {},
   "outputs": [
    {
     "name": "stdout",
     "output_type": "stream",
     "text": [
      "Projection matrix P does NOT equal the identity matrix I_n.\n"
     ]
    }
   ],
   "source": [
    "# Compute the projection matrix: P = X (X'X)^{-1} X'\n",
    "P = np.linalg.inv(X.T @ X) @ X.T\n",
    "\n",
    "# Define the 100 x 100 identity matrix\n",
    "I_n = np.eye(n)\n",
    "\n",
    "# Test that the projection matrix P equals the identity matrix.\n",
    "if np.allclose(P, I_n):\n",
    "    print(\"Projection matrix P equals the identity matrix I_n.\")\n",
    "else:\n",
    "    print(\"Projection matrix P does NOT equal the identity matrix I_n.\")\n",
    "\n",
    "# Alternatively, use an assertion to ensure they are equal\n",
    "#assert np.allclose(P, I_n), \"Projection matrix does not equal identity matrix!\""
   ]
  },
  {
   "cell_type": "markdown",
   "id": "0877001c-87e9-46f6-ae2f-29a265b9ba43",
   "metadata": {},
   "source": [
    "Add one final column to X to bring the number of columns to 101. Then try to compute R^2. What happens? "
   ]
  },
  {
   "cell_type": "code",
   "execution_count": 11,
   "id": "eb942568-2bf2-4960-99dc-37a2c39d5a97",
   "metadata": {},
   "outputs": [
    {
     "name": "stdout",
     "output_type": "stream",
     "text": [
      "R^2: 0.5974631978846267\n"
     ]
    }
   ],
   "source": [
    "# Now add one final column to bring the number of columns to 101.\n",
    "extra_col = np.random.randn(n, 1)\n",
    "X_new = np.hstack((X, extra_col)) # X_new is 100 x 101\n",
    "\n",
    "# Try to compute OLS coefficients; catch the error if X.T @ X is singular.\n",
    "try:\n",
    "    beta_hat = np.linalg.inv(X_new.T @ X_new) @ (X_new.T @ y)\n",
    "    y_hat = X_new @ beta_hat\n",
    "    SST = np.sum((y - np.mean(y))**2)\n",
    "    SSR = np.sum((y - y_hat)**2)\n",
    "    R2 = 1 - SSR / SST\n",
    "    print(\"R^2:\", R2)\n",
    "except np.linalg.LinAlgError as e:\n",
    "    print(\"Error in computing beta_hat:\", e)\n",
    "    print(\"Could not compute R^2 because X'X is singular.\")"
   ]
  },
  {
   "cell_type": "markdown",
   "id": "f2564094-7ac8-4061-adea-fbdaa1a79a82",
   "metadata": {},
   "source": [
    "Why does this make sense?"
   ]
  },
  {
   "cell_type": "markdown",
   "id": "cc6b14cc-d0b1-4d19-9633-1cdff50bf579",
   "metadata": {},
   "source": [
    "It has a linearly dependent column. This should lower the R^2 slightly. The 100 variables can perfectly fit the 100 (1) values but 101 variables cannot perfectly fit. "
   ]
  },
  {
   "cell_type": "markdown",
   "id": "c73d693a-5e8d-4efd-8dd7-ee5b840584b9",
   "metadata": {},
   "source": [
    "Let's use the Boston Housing Data for the following exercises"
   ]
  },
  {
   "cell_type": "code",
   "execution_count": 12,
   "id": "0f9e3875-f26e-4e36-addb-dc79442a6fb2",
   "metadata": {},
   "outputs": [
    {
     "name": "stdout",
     "output_type": "stream",
     "text": [
      "Number of predictors (including intercept): 14\n",
      "Number of observations: 506\n"
     ]
    }
   ],
   "source": [
    "import pandas as pd\n",
    "import numpy as np\n",
    "import statsmodels.api as sm\n",
    "\n",
    "# Load the Boston housing data from the provided URL\n",
    "data_url = \"http://lib.stat.cmu.edu/datasets/boston\"\n",
    "raw_df = pd.read_csv(data_url, sep=r\"\\s+\", skiprows=22, header=None)\n",
    "\n",
    "# The dataset from this URL is arranged so that every two rows correspond to one observation:\n",
    "# - The first row of each pair contains the 13 predictors.\n",
    "# - The second row contains (among other entries) the response (medv) in the third column.\n",
    "# Also, the first two columns of the second row are duplicates of the last two predictors.\n",
    "#\n",
    "# To mimic R’s model.matrix(medv ~ ., MASS::Boston), we construct the predictors by:\n",
    "# 1. Taking all 13 predictors from the first row of each pair.\n",
    "# 2. Appending the first two entries from the second row (which complete the predictors).\n",
    "#\n",
    "# This creates a full set of predictors for each observation.\n",
    "X_data = np.hstack([raw_df.values[::2, :], raw_df.values[1::2, :2]])\n",
    "\n",
    "# The response y is stored in the third column of the second row of each pair.\n",
    "y = raw_df.values[1::2, 2]\n",
    "\n",
    "# Add an intercept column (like R's model.matrix does automatically)\n",
    "X = sm.add_constant(X_data)\n",
    "\n",
    "# p_plus_one is the number of columns in X (predictors plus intercept)\n",
    "p_plus_one = X.shape[1]\n",
    "# n is the number of observations (rows in X)\n",
    "n = X.shape[0]\n",
    "\n",
    "print(\"Number of predictors (including intercept):\", p_plus_one)\n",
    "print(\"Number of observations:\", n)\n"
   ]
  },
  {
   "cell_type": "markdown",
   "id": "6f7c1a4b-da46-4b6d-a118-6d555303ef15",
   "metadata": {},
   "source": [
    "Using your function `orthogonal_projection` orthogonally project onto the column space of X by projecting y on each vector of X individually and adding up the projections and call the sum `yhat_naive`."
   ]
  },
  {
   "cell_type": "code",
   "execution_count": 13,
   "id": "d6877ea9-b7b7-45a0-a7aa-e3eea9911088",
   "metadata": {},
   "outputs": [],
   "source": [
    "# Initialize yhat_naive as a zero vector (same shape as y)\n",
    "yhat_naive = np.zeros_like(y, dtype=float)\n",
    "\n",
    "# For each column in X, project y onto that column and add the projection.\n",
    "for j in range(p_plus_one):\n",
    "    # Note: X[:, j] is a 1D array of length n.\n",
    "    proj = orthogonal_projection(y, X[:,j])\n",
    "    yhat_naive += proj['a_parallel']"
   ]
  },
  {
   "cell_type": "markdown",
   "id": "0f46e13e-3846-4cae-904e-05db448815fb",
   "metadata": {},
   "source": [
    "How much double counting occurred? Measure the magnitude relative to the true LS orthogonal projection"
   ]
  },
  {
   "cell_type": "code",
   "execution_count": 14,
   "id": "4b81a208-d76e-4b52-9df6-d828148b6f26",
   "metadata": {},
   "outputs": [
    {
     "name": "stdout",
     "output_type": "stream",
     "text": [
      "Magnitude ratio (sqrt(sum(yhat_naive^2))/sqrt(sum(yhat^2))): 8.997117717661741\n"
     ]
    }
   ],
   "source": [
    "import statsmodels.api as sm\n",
    "\n",
    "# Fit the OLS model using statsmodels\n",
    "model = sm.OLS(y, X).fit()\n",
    "\n",
    "# Extract the fitted values (equivalent to lm(medv ~ ., MASS::Boston)$fitted.values in R)\n",
    "yhat = model.fittedvalues\n",
    "mag_ratio = np.sqrt(np.sum(yhat_naive**2)) / np.sqrt(np.sum(yhat**2))\n",
    "print(\"Magnitude ratio (sqrt(sum(yhat_naive^2))/sqrt(sum(yhat^2))):\", mag_ratio)"
   ]
  },
  {
   "cell_type": "markdown",
   "id": "db340f11-194f-4236-9eb4-b02385a62027",
   "metadata": {},
   "source": [
    "Is this ratio expected? Why or why not?"
   ]
  },
  {
   "cell_type": "markdown",
   "id": "bf111525-6ff3-4f23-a2b0-ee48e8fdba59",
   "metadata": {},
   "source": [
    "In summary, the ratio is expected to deviate from 1 because the sum of individual (non-orthogonal) projections overestimates the overall projection onto the column space, leading to a larger magnitude for the naive projection compared to the true LS projection."
   ]
  },
  {
   "cell_type": "markdown",
   "id": "3c61bf97-44ee-41ac-a3bb-ccbebb3c3dd5",
   "metadata": {},
   "source": [
    "Convert X into V where V has the same column space as X but has orthogonal columns. You can use the function `orthogonal_projection`. This is the Gram-Schmidt orthogonalization algorithm (part A)."
   ]
  },
  {
   "cell_type": "code",
   "execution_count": 15,
   "id": "e7c953a6-710b-4565-83b2-08c651f92490",
   "metadata": {},
   "outputs": [],
   "source": [
    "# Initialize V to hold the orthogonalized columns; same shape as X.\n",
    "V = np.empty_like(X)\n",
    "\n",
    "# The first column of V is just the first column of X.\n",
    "V[:, 0] = X[:, 0]\n",
    "\n",
    "# For each subsequent column of X, subtract the projections onto all previous V columns.\n",
    "for j in range(1,X.shape[1]):\n",
    "    # Start with the original column from X.\n",
    "    V[:, j] = X[:, j].copy()\n",
    "    for k in range(j):\n",
    "        proj = orthogonal_projection(X[:, j], V[:, k])['a_parallel']\n",
    "        V[:, j] = V[:, j] - proj\n"
   ]
  },
  {
   "cell_type": "markdown",
   "id": "f26ba41e-ec46-4966-9ae2-30b95dcd322b",
   "metadata": {},
   "source": [
    "Convert V into Q whose columns are the same except normalized. This is the Gram-Schmidt orthogonalization algorithm (part B)."
   ]
  },
  {
   "cell_type": "code",
   "execution_count": 16,
   "id": "9f9bbc2e-bacb-4106-856a-74013615c745",
   "metadata": {},
   "outputs": [],
   "source": [
    "# Assume V is already defined with shape (n, p_plus_one)\n",
    "Q = np.empty_like(V)\n",
    "for j in range(V.shape[1]):\n",
    "    Q[:, j] = V[:, j] / np.sqrt(np.sum(V[:, j]**2))\n",
    "\n",
    "# Optionally, remove V if you no longer need it.\n",
    "del V"
   ]
  },
  {
   "cell_type": "markdown",
   "id": "c587a626-aae5-4295-81a4-c014d55a0441",
   "metadata": {},
   "source": [
    "Verify Q^T Q is I_{p+1} i.e. Q is an orthonormal matrix."
   ]
  },
  {
   "cell_type": "code",
   "execution_count": 17,
   "id": "5c70bb05-8afa-4f6d-9e6e-6c365a113ad7",
   "metadata": {},
   "outputs": [
    {
     "name": "stdout",
     "output_type": "stream",
     "text": [
      "Q^T Q equals the identity matrix, Q is orthonormal.\n"
     ]
    }
   ],
   "source": [
    "# Verify that Q^T Q is the identity matrix of size p_plus_one\n",
    "p_plus_one = Q.shape[1]\n",
    "\n",
    "assert np.allclose(Q.T @ Q, np.eye(p_plus_one))\n",
    "\n",
    "print(\"Q^T Q equals the identity matrix, Q is orthonormal.\")"
   ]
  },
  {
   "cell_type": "markdown",
   "id": "ad012fab-f233-4a7d-b8b4-c7d5030b1f97",
   "metadata": {},
   "source": [
    "Is your Q the same as what results from R's built-in QR-decomposition function?"
   ]
  },
  {
   "cell_type": "code",
   "execution_count": 18,
   "id": "26df14a5-db7d-4baf-bf3f-ac11a70521fc",
   "metadata": {},
   "outputs": [
    {
     "name": "stdout",
     "output_type": "stream",
     "text": [
      "Q matches the built-in QR decomposition Q (up to sign differences).\n"
     ]
    }
   ],
   "source": [
    "# Compute the Q matrix using NumPy's QR decomposition.\n",
    "# np.linalg.qr returns (Q, R)\n",
    "Q_from_builtin, x = np.linalg.qr(X)\n",
    "\n",
    "# Because QR decomposition can produce Q whose columns differ by a sign,\n",
    "# we compare the absolute values of Q and Q_from_builtin.\n",
    "if np.allclose(np.abs(Q), np.abs(Q_from_builtin)):\n",
    "    print(\"Q matches the built-in QR decomposition Q (up to sign differences).\")\n",
    "else:\n",
    "    print(\"Q does not match the built-in QR decomposition Q.\")"
   ]
  },
  {
   "cell_type": "code",
   "execution_count": 19,
   "id": "c2b6ee10-d06e-4f31-9f16-af11a9775dee",
   "metadata": {},
   "outputs": [
    {
     "name": "stdout",
     "output_type": "stream",
     "text": [
      "Q does not match the built-in QR decomposition Q.\n"
     ]
    }
   ],
   "source": [
    "if np.allclose(Q, Q_from_builtin):\n",
    "    print(\"Q matches the built-in QR decomposition Q (up to sign differences).\")\n",
    "else:\n",
    "    print(\"Q does not match the built-in QR decomposition Q.\")"
   ]
  },
  {
   "cell_type": "markdown",
   "id": "190ac792-5397-437d-9282-6516ae05e7e2",
   "metadata": {},
   "source": [
    "Is this expected? Why did this happen?"
   ]
  },
  {
   "cell_type": "markdown",
   "id": "d5ee2c88-f5dc-4c7d-8241-eb9f2295c407",
   "metadata": {},
   "source": [
    "Yes this is expected because there are an infinite number of orthonormal basis of any column space and the likelihood of them being equal is highly unlikely.  \n",
    "There are many different orthonormal basis of any column space. "
   ]
  },
  {
   "cell_type": "markdown",
   "id": "91635448-669c-4f1a-ab75-4fe76c5f339a",
   "metadata": {},
   "source": [
    "Project y onto colsp[Q] and verify it is the same as the OLS fit."
   ]
  },
  {
   "cell_type": "code",
   "execution_count": 20,
   "id": "8a6ddf2c-c1bb-4c6a-8023-e2e7666ad9cf",
   "metadata": {},
   "outputs": [
    {
     "name": "stdout",
     "output_type": "stream",
     "text": [
      "The projection of y onto colsp[Q] equals the OLS fit.\n",
      "Difference: [-5.96855898e-13  2.27373675e-13  1.24344979e-13 -8.88178420e-14\n",
      " -2.48689958e-14 -1.77635684e-14  8.88178420e-14  3.37507799e-13\n",
      "  3.49942297e-13  3.26849658e-13  3.62376795e-13  2.59348099e-13\n",
      " -1.52766688e-13 -1.10134124e-13  7.10542736e-14 -1.77635684e-13\n",
      " -3.73034936e-13  3.55271368e-15 -2.87769808e-13 -1.38555833e-13\n",
      "  9.05941988e-14  4.97379915e-14  5.15143483e-14  1.19015908e-13\n",
      "  1.11910481e-13  1.43884904e-13  1.24344979e-13  1.70530257e-13\n",
      "  1.49213975e-13  8.17124146e-14  1.04805054e-13  1.70530257e-13\n",
      "  1.33226763e-13  9.05941988e-14  2.41584530e-13 -1.17239551e-13\n",
      " -1.45661261e-13 -2.70006240e-13 -3.73034936e-13  2.23820962e-13\n",
      "  2.06057393e-13 -1.35003120e-13 -1.59872116e-13 -1.66977543e-13\n",
      "  9.59232693e-14 -2.84217094e-14 -4.26325641e-14  4.47641924e-13\n",
      "  4.70734562e-13  2.66453526e-13  3.09086090e-13  4.72510919e-13\n",
      "  1.52766688e-13  1.27897692e-13 -5.27577981e-13  7.95807864e-13\n",
      "  1.63424829e-13  8.17124146e-13  3.51718654e-13  4.08562073e-13\n",
      "  5.75539616e-13  7.85149723e-13  6.11066753e-13  4.97379915e-13\n",
      "  4.36983782e-13 -4.26325641e-14  4.26325641e-14 -4.51194637e-13\n",
      " -3.44613227e-13 -3.65929509e-13 -1.70530257e-13 -7.81597009e-14\n",
      " -1.81188398e-13 -1.70530257e-13 -6.00408612e-13 -2.45137244e-13\n",
      " -3.90798505e-14 -2.87769808e-13 -1.45661261e-13 -3.44613227e-13\n",
      " -7.10542736e-14  2.16715534e-13 -8.88178420e-14  5.68434189e-14\n",
      " -1.35003120e-13 -1.13686838e-13 -2.45137244e-13 -1.88293825e-13\n",
      " -2.62900812e-13 -4.58300065e-13 -4.72510919e-13 -4.05009359e-13\n",
      "  7.67386155e-13  5.61328761e-13  9.41469125e-13 -4.86721774e-13\n",
      " -4.61852778e-13 -3.33955086e-13 -6.53699317e-13 -4.68958206e-13\n",
      " -4.22772928e-13 -4.65405492e-13 -1.77635684e-14 -3.76587650e-13\n",
      " -3.83693077e-13 -3.69482223e-13 -4.26325641e-13 -4.51194637e-13\n",
      " -3.23296945e-13 -3.69482223e-13 -6.53699317e-13 -5.61328761e-13\n",
      " -5.18696197e-13 -4.93827201e-13 -5.68434189e-13 -4.97379915e-13\n",
      " -6.32383035e-13 -5.57776048e-13 -6.07514039e-13 -7.21200877e-13\n",
      "  1.53121960e-12  1.66267000e-12  1.71240799e-12  1.72661885e-12\n",
      "  1.73017156e-12  1.66977543e-12  1.72128978e-12  1.72306613e-13\n",
      "  1.91846539e-13  1.49213975e-13  2.34479103e-13  2.27373675e-13\n",
      "  2.59348099e-13  2.16715534e-13  3.62376795e-13  2.20268248e-13\n",
      "  1.74082970e-13  1.95399252e-13  1.54543045e-13  1.66977543e-13\n",
      "  1.15463195e-13  9.14823772e-14 -2.64677169e-13 -8.52651283e-14\n",
      " -1.42108547e-13  1.82964754e-13  2.04281037e-13 -1.31450406e-13\n",
      " -9.05941988e-14 -5.86197757e-14 -2.48689958e-14  1.06581410e-14\n",
      " -2.48689958e-13  9.59232693e-14 -1.31450406e-13  2.48689958e-14\n",
      "  2.61124455e-13  3.05533376e-13  2.94875235e-13  4.61852778e-14\n",
      "  1.06581410e-13  2.62900812e-13  1.56319402e-13  1.27897692e-13\n",
      "  2.23820962e-13  3.97903932e-13  3.19744231e-13  3.09086090e-13\n",
      "  3.69482223e-13  3.41060513e-13  3.62376795e-13  3.09086090e-13\n",
      " -2.94875235e-13 -2.80664381e-13 -4.29878355e-13 -6.43041176e-13\n",
      " -5.40012479e-13 -3.23296945e-13 -3.23296945e-13 -1.20792265e-13\n",
      "  8.52651283e-14 -1.45661261e-13  1.49213975e-13  1.63424829e-13\n",
      "  8.52651283e-14 -1.42108547e-14 -9.94759830e-14 -6.89226454e-13\n",
      " -7.03437308e-13 -6.39488462e-13 -6.07514039e-13 -5.43565193e-13\n",
      " -5.68434189e-13 -1.56319402e-13 -7.10542736e-14  2.55795385e-13\n",
      " -8.52651283e-14 -4.97379915e-14 -7.81597009e-14 -3.87245791e-13\n",
      " -3.76587650e-13 -2.23820962e-13 -3.48165941e-13  6.75015599e-13\n",
      "  6.75015599e-13 -1.31450406e-13  1.52766688e-13  2.91322522e-13\n",
      "  3.90798505e-14  2.91322522e-13  2.70006240e-13  1.91846539e-13\n",
      " -8.17124146e-14 -2.48689958e-14 -2.75335310e-13  3.55271368e-14\n",
      "  1.66977543e-13  6.11066753e-13  4.36983782e-13  4.90274488e-13\n",
      " -7.10542736e-14 -8.88178420e-14 -1.20792265e-13  5.68434189e-14\n",
      "  7.10542736e-14  1.27897692e-13  1.63424829e-13  9.94759830e-14\n",
      " -3.90798505e-13 -3.94351218e-13 -2.13162821e-14  9.94759830e-14\n",
      "  1.20792265e-13  8.52651283e-14 -1.56319402e-13 -6.39488462e-14\n",
      " -6.03961325e-14  8.52651283e-14 -4.97379915e-14  1.38555833e-13\n",
      "  2.30926389e-13  2.94875235e-13  2.87769808e-13 -6.03961325e-14\n",
      "  4.65405492e-13  3.76587650e-13  1.24344979e-13  5.11590770e-13\n",
      "  2.62900812e-13 -2.13162821e-14 -8.88178420e-14 -8.52651283e-14\n",
      "  3.19744231e-14  4.97379915e-14  2.38031816e-13  1.27897692e-13\n",
      "  6.82121026e-13 -9.94759830e-14  7.10542736e-15 -2.13162821e-14\n",
      " -1.49213975e-13 -6.39488462e-14 -3.55271368e-14 -5.68434189e-14\n",
      " -7.81597009e-14 -3.51718654e-13 -1.38555833e-13 -1.49213975e-13\n",
      " -2.48689958e-13  1.66977543e-13  2.27373675e-13  3.19744231e-14\n",
      "  3.23296945e-13  1.98951966e-13  7.10542736e-15  2.91322522e-13\n",
      "  2.27373675e-13  7.10542736e-14  1.70530257e-13  3.55271368e-14\n",
      "  3.90798505e-13  1.84741111e-13  1.42108547e-13  2.98427949e-13\n",
      "  1.88293825e-13 -1.84741111e-13  5.54223334e-13  3.94351218e-13\n",
      "  5.25801624e-13  3.73034936e-13  5.75539616e-13  5.82645043e-13\n",
      "  5.36459765e-13  1.98951966e-13  3.94351218e-13  3.83693077e-13\n",
      "  5.15143483e-13  5.50670620e-13 -1.06581410e-13 -1.88293825e-13\n",
      "  8.52651283e-14  6.03961325e-14 -9.23705556e-14 -8.52651283e-14\n",
      "  2.27373675e-13  2.94875235e-13  4.33431069e-13  4.05009359e-13\n",
      "  8.88178420e-14 -3.55271368e-15 -3.51718654e-13 -2.30926389e-13\n",
      "  7.46069873e-14  6.75015599e-14  1.31450406e-13  5.32907052e-14\n",
      "  9.59232693e-14  1.77635684e-14 -3.19744231e-14 -9.59232693e-14\n",
      " -3.90798505e-14 -2.13162821e-14 -4.97379915e-14  1.27897692e-13\n",
      " -1.20792265e-13 -2.70006240e-13 -1.59872116e-13 -6.03961325e-14\n",
      " -1.36424205e-12 -1.41753276e-12 -1.24344979e-12 -2.34479103e-13\n",
      " -2.09610107e-13  1.81188398e-13  1.81188398e-13  8.17124146e-14\n",
      "  1.38555833e-13  2.84217094e-13  1.77635684e-14  6.03961325e-14\n",
      "  1.95399252e-13 -2.27373675e-13 -1.32871492e-12 -1.66977543e-13\n",
      " -3.12638804e-13 -4.68958206e-13 -4.24549285e-13  2.23820962e-13\n",
      "  3.97903932e-13 -4.12114787e-13 -3.55271368e-13 -2.23820962e-13\n",
      " -4.08562073e-13  1.47792889e-12  2.71782596e-13  2.70006240e-13\n",
      " -2.70006240e-13 -2.73558953e-13 -3.37507799e-13 -2.20268248e-13\n",
      " -1.17239551e-13 -1.03028697e-13 -1.35003120e-13 -3.37507799e-13\n",
      " -2.41584530e-13 -1.86517468e-13 -9.05941988e-14  2.27373675e-13\n",
      " -1.42108547e-14 -1.63424829e-13 -1.70530257e-13 -3.55271368e-15\n",
      " -2.87769808e-13 -1.73194792e-13 -2.02282635e-13 -4.97379915e-14\n",
      " -9.94759830e-14 -8.88178420e-14 -7.81597009e-14 -6.39488462e-14\n",
      " -8.52651283e-14 -6.75015599e-14 -1.24344979e-13 -1.27897692e-13\n",
      " -1.19015908e-13 -1.75859327e-13 -1.59872116e-13 -2.45137244e-13\n",
      " -1.34114941e-13 -1.17239551e-13 -9.23705556e-14 -1.66977543e-13\n",
      " -1.42108547e-13 -1.13686838e-13 -1.17239551e-13 -4.97379915e-14\n",
      " -1.03028697e-13 -9.94759830e-14 -1.31450406e-13 -2.50466314e-13\n",
      " -1.04805054e-13 -9.94759830e-14 -6.03961325e-14 -1.33226763e-13\n",
      " -1.58095759e-13 -1.06581410e-13 -1.15463195e-13  3.55271368e-15\n",
      "  2.84217094e-14  2.59348099e-13  4.77839990e-13  4.19220214e-13\n",
      "  3.50830476e-13  1.91846539e-13  1.93622895e-13  3.49942297e-13\n",
      "  3.09086090e-13  1.24344979e-13  3.89022148e-13  1.20792265e-13\n",
      "  3.55271368e-14 -1.42108547e-14  3.55271368e-14  3.51718654e-13\n",
      "  2.54019028e-13  3.44613227e-13  1.52766688e-13  2.27373675e-13\n",
      "  1.22568622e-13  2.94875235e-13  2.94875235e-13  3.87245791e-13\n",
      "  2.20268248e-13  2.16715534e-13  2.64677169e-13  2.09610107e-13\n",
      "  2.94875235e-13  3.25073302e-13  1.29674049e-13 -1.86517468e-13\n",
      " -1.72306613e-13 -9.23705556e-14 -8.52651283e-14 -9.23705556e-14\n",
      "  2.84217094e-14  2.64677169e-13 -1.77635684e-14 -8.52651283e-14\n",
      " -5.68434189e-14  3.55271368e-14  3.73034936e-13  1.06581410e-14\n",
      " -9.23705556e-14  2.48689958e-14  3.81916720e-13  2.66453526e-13\n",
      "  3.30402372e-13  2.84217094e-13  1.42108547e-14 -1.20792265e-13\n",
      "  8.52651283e-14 -8.52651283e-14 -1.06581410e-13 -2.13162821e-14\n",
      " -1.98951966e-13 -2.70006240e-13  3.67705866e-13  1.06581410e-13\n",
      " -7.81597009e-14 -2.38031816e-13  1.06581410e-14  1.31450406e-13\n",
      " -4.97379915e-14 -1.31450406e-13  8.52651283e-14  1.49213975e-13\n",
      "  0.00000000e+00  2.30926389e-14  2.84217094e-14 -4.97379915e-14\n",
      " -5.32907052e-14  5.32907052e-14  7.46069873e-14 -1.98951966e-13\n",
      " -2.45137244e-13 -1.45661261e-13  2.13162821e-14 -2.09610107e-13\n",
      " -9.39692768e-13 -8.54427640e-13 -8.50430837e-13 -8.65085781e-13\n",
      " -9.71667191e-13 -6.50146603e-13 -7.38964445e-13 -8.34887715e-13\n",
      " -5.00932629e-13 -4.79616347e-13 -5.54223334e-13 -5.04485342e-13\n",
      " -4.33431069e-13  1.06581410e-14  5.68434189e-14  1.77635684e-13\n",
      "  2.09610107e-13  1.20792265e-13]\n"
     ]
    }
   ],
   "source": [
    "# Assume y, X, and Q are already defined.\n",
    "# Compute the OLS fitted values using statsmodels (similar to lm(y ~ X) in R)\n",
    "model = sm.OLS(y, X).fit()\n",
    "y_hat = model.fittedvalues\n",
    "# Project y onto the column space of Q: compute Q @ Q.T @ y\n",
    "y_hat_from_Q = Q @ Q.T @ y\n",
    "\n",
    "# Compare the two. Since the values may have slight numerical differences, use np.allclose.\n",
    "if np.allclose(y_hat_from_Q, y_hat):\n",
    "    print(\"The projection of y onto colsp[Q] equals the OLS fit.\")\n",
    "else:\n",
    "    print(\"There is a discrepancy between the projection and the OLS fit.\")\n",
    "\n",
    "# Optionally, you can print the difference:\n",
    "print(\"Difference:\", y_hat_from_Q - y_hat)"
   ]
  },
  {
   "cell_type": "markdown",
   "id": "b33be031-6ec3-4d45-b74c-baf3269d0997",
   "metadata": {},
   "source": [
    "Project y onto colsp[Q] one by one and verify it sums to be the projection onto the whole space."
   ]
  },
  {
   "cell_type": "code",
   "execution_count": 21,
   "id": "17ec740d-6bd8-4155-ad3d-203a277984ba",
   "metadata": {},
   "outputs": [
    {
     "name": "stdout",
     "output_type": "stream",
     "text": [
      "The naive projection equals the full projection.\n",
      "Difference: [-2.13162821e-14 -1.77635684e-14 -7.10542736e-15 -3.55271368e-15\n",
      " -1.06581410e-14 -3.55271368e-14 -7.10542736e-15 -1.42108547e-14\n",
      " -1.24344979e-14 -1.77635684e-14 -1.06581410e-14 -7.10542736e-15\n",
      " -1.77635684e-14 -3.55271368e-15 -1.06581410e-14 -1.06581410e-14\n",
      " -1.42108547e-14 -2.13162821e-14 -3.55271368e-15 -2.13162821e-14\n",
      " -1.95399252e-14 -1.06581410e-14 -1.59872116e-14 -1.24344979e-14\n",
      " -1.06581410e-14 -7.10542736e-15 -1.42108547e-14 -1.42108547e-14\n",
      " -1.42108547e-14 -1.06581410e-14 -1.42108547e-14 -1.42108547e-14\n",
      "  0.00000000e+00 -1.42108547e-14 -1.06581410e-14 -2.13162821e-14\n",
      " -1.06581410e-14 -1.77635684e-14 -1.42108547e-14 -1.06581410e-14\n",
      " -2.13162821e-14  0.00000000e+00 -7.10542736e-15 -7.10542736e-15\n",
      " -1.77635684e-14 -1.42108547e-14 -1.77635684e-14 -3.55271368e-15\n",
      " -1.42108547e-14 -2.48689958e-14 -1.42108547e-14 -1.06581410e-14\n",
      " -1.06581410e-14 -1.06581410e-14 -8.88178420e-15 -2.48689958e-14\n",
      " -1.06581410e-14 -2.13162821e-14 -7.10542736e-15 -7.10542736e-15\n",
      " -1.42108547e-14 -1.42108547e-14 -2.13162821e-14 -7.10542736e-15\n",
      " -1.06581410e-14 -2.13162821e-14 -1.42108547e-14 -1.42108547e-14\n",
      " -3.55271368e-15 -7.10542736e-15 -7.10542736e-15  0.00000000e+00\n",
      " -7.10542736e-15 -1.42108547e-14 -1.42108547e-14 -1.06581410e-14\n",
      " -1.42108547e-14 -2.13162821e-14 -1.06581410e-14 -1.06581410e-14\n",
      " -1.42108547e-14 -2.13162821e-14 -7.10542736e-15 -1.42108547e-14\n",
      " -1.06581410e-14  0.00000000e+00 -1.42108547e-14 -1.42108547e-14\n",
      " -2.13162821e-14 -2.13162821e-14 -1.06581410e-14 -1.06581410e-14\n",
      " -7.10542736e-15 -1.42108547e-14 -1.06581410e-14 -1.77635684e-14\n",
      " -1.06581410e-14 -7.10542736e-15 -7.10542736e-15 -1.42108547e-14\n",
      " -1.42108547e-14 -3.55271368e-15 -1.06581410e-14 -7.10542736e-15\n",
      " -1.42108547e-14 -1.06581410e-14 -1.06581410e-14 -1.06581410e-14\n",
      " -1.77635684e-14 -2.13162821e-14 -2.13162821e-14 -1.77635684e-14\n",
      "  0.00000000e+00 -1.42108547e-14 -7.10542736e-15 -7.10542736e-15\n",
      " -7.10542736e-15 -1.06581410e-14 -1.42108547e-14 -2.13162821e-14\n",
      " -2.48689958e-14 -1.42108547e-14 -1.42108547e-14 -1.42108547e-14\n",
      " -3.55271368e-15 -1.42108547e-14  8.88178420e-15 -5.32907052e-15\n",
      " -1.42108547e-14 -1.95399252e-14 -1.42108547e-14 -1.77635684e-14\n",
      " -3.55271368e-15 -1.06581410e-14  0.00000000e+00 -3.55271368e-15\n",
      " -5.32907052e-15 -1.42108547e-14 -1.42108547e-14 -7.10542736e-15\n",
      " -1.59872116e-14 -1.50990331e-14 -8.88178420e-15 -1.77635684e-14\n",
      " -1.24344979e-14 -1.77635684e-14 -5.32907052e-15 -7.10542736e-15\n",
      " -8.88178420e-15 -1.06581410e-14 -1.42108547e-14 -1.77635684e-14\n",
      " -7.10542736e-15 -2.13162821e-14 -2.13162821e-14 -1.77635684e-14\n",
      " -1.42108547e-14 -1.42108547e-14 -1.77635684e-14 -1.42108547e-14\n",
      " -7.10542736e-15 -1.42108547e-14 -7.10542736e-15 -1.42108547e-14\n",
      " -1.77635684e-14 -1.77635684e-14 -2.13162821e-14 -1.42108547e-14\n",
      " -2.84217094e-14 -1.06581410e-14 -7.10542736e-15 -1.42108547e-14\n",
      " -7.10542736e-15  0.00000000e+00 -2.13162821e-14 -1.42108547e-14\n",
      " -2.13162821e-14 -2.13162821e-14  0.00000000e+00 -7.10542736e-15\n",
      " -7.10542736e-15 -1.77635684e-14 -2.84217094e-14 -2.13162821e-14\n",
      " -1.77635684e-14 -3.55271368e-15 -7.10542736e-15  7.10542736e-15\n",
      " -2.13162821e-14 -1.42108547e-14 -2.48689958e-14 -1.77635684e-14\n",
      " -1.42108547e-14 -1.42108547e-14 -1.77635684e-14  1.42108547e-14\n",
      "  7.10542736e-15 -2.13162821e-14 -1.42108547e-14 -2.13162821e-14\n",
      "  1.06581410e-14 -7.10542736e-15 -7.10542736e-15 -1.42108547e-14\n",
      " -2.13162821e-14 -1.06581410e-14 -1.77635684e-14 -2.13162821e-14\n",
      " -2.13162821e-14 -1.06581410e-14 -1.42108547e-14 -1.42108547e-14\n",
      " -2.13162821e-14 -1.42108547e-14 -7.10542736e-15 -2.13162821e-14\n",
      " -3.55271368e-15 -1.06581410e-14 -1.06581410e-14 -1.42108547e-14\n",
      " -7.10542736e-15 -7.10542736e-15 -7.10542736e-15 -1.77635684e-14\n",
      " -7.10542736e-15  0.00000000e+00  7.10542736e-15 -7.10542736e-15\n",
      " -1.42108547e-14 -2.13162821e-14 -2.13162821e-14 -2.13162821e-14\n",
      " -2.13162821e-14  0.00000000e+00 -2.48689958e-14 -1.42108547e-14\n",
      " -7.10542736e-15 -1.42108547e-14 -2.13162821e-14 -1.06581410e-14\n",
      " -1.77635684e-14 -1.77635684e-14 -1.42108547e-14 -1.06581410e-14\n",
      " -1.42108547e-14 -1.06581410e-14 -1.42108547e-14 -1.06581410e-14\n",
      " -3.55271368e-15 -1.42108547e-14 -1.42108547e-14 -3.55271368e-15\n",
      " -2.13162821e-14 -2.13162821e-14 -7.10542736e-15 -7.10542736e-15\n",
      "  0.00000000e+00 -2.13162821e-14  7.10542736e-15 -1.42108547e-14\n",
      "  0.00000000e+00 -7.10542736e-15 -4.26325641e-14 -7.10542736e-15\n",
      " -2.84217094e-14 -1.06581410e-14 -1.06581410e-14 -2.13162821e-14\n",
      " -2.84217094e-14 -1.06581410e-14 -3.55271368e-15 -1.77635684e-14\n",
      " -1.42108547e-14 -7.10542736e-15 -2.13162821e-14 -7.10542736e-15\n",
      " -1.42108547e-14 -1.42108547e-14 -2.13162821e-14 -7.10542736e-15\n",
      " -1.42108547e-14 -7.10542736e-15 -2.84217094e-14  0.00000000e+00\n",
      " -1.77635684e-14 -1.42108547e-14 -1.77635684e-14 -2.48689958e-14\n",
      " -7.10542736e-15 -1.06581410e-14 -2.84217094e-14 -1.42108547e-14\n",
      " -1.42108547e-14  1.06581410e-14 -7.10542736e-15 -1.42108547e-14\n",
      " -3.55271368e-15 -7.10542736e-15 -7.10542736e-15 -2.48689958e-14\n",
      " -1.42108547e-14 -1.77635684e-14 -2.84217094e-14 -2.84217094e-14\n",
      " -2.84217094e-14 -2.48689958e-14  0.00000000e+00 -7.10542736e-15\n",
      " -1.42108547e-14 -1.42108547e-14 -1.42108547e-14 -3.55271368e-15\n",
      " -1.77635684e-14 -1.42108547e-14 -1.42108547e-14 -2.13162821e-14\n",
      " -2.13162821e-14 -1.77635684e-14 -7.10542736e-15 -2.13162821e-14\n",
      " -1.42108547e-14 -1.06581410e-14 -7.10542736e-15 -7.10542736e-15\n",
      " -3.55271368e-15 -1.42108547e-14 -1.42108547e-14 -1.42108547e-14\n",
      " -1.77635684e-14 -1.77635684e-14 -1.06581410e-14 -1.42108547e-14\n",
      " -3.55271368e-15 -7.10542736e-15 -7.10542736e-15 -1.77635684e-14\n",
      " -7.10542736e-15 -3.55271368e-15 -3.55271368e-15 -1.77635684e-14\n",
      " -7.10542736e-15 -3.19744231e-14 -1.06581410e-14 -1.77635684e-14\n",
      " -1.42108547e-14 -1.42108547e-14 -1.42108547e-14 -2.13162821e-14\n",
      " -1.42108547e-14 -1.77635684e-14 -1.77635684e-14 -1.42108547e-14\n",
      " -1.06581410e-14 -1.77635684e-14  0.00000000e+00 -7.10542736e-15\n",
      " -1.06581410e-14 -3.55271368e-15 -1.42108547e-14 -2.13162821e-14\n",
      " -7.10542736e-15 -1.42108547e-14 -1.42108547e-14 -1.42108547e-14\n",
      " -2.13162821e-14 -1.59872116e-14 -8.88178420e-15 -8.88178420e-15\n",
      " -1.77635684e-14 -2.13162821e-14 -7.10542736e-15 -1.77635684e-14\n",
      " -2.13162821e-14 -1.50990331e-14 -1.39888101e-14 -3.55271368e-15\n",
      " -1.06581410e-14 -1.77635684e-14 -7.10542736e-15 -1.42108547e-14\n",
      "  1.42108547e-14  0.00000000e+00 -1.77635684e-14 -1.42108547e-14\n",
      " -9.76996262e-15 -1.24344979e-14 -1.42108547e-14 -1.42108547e-14\n",
      " -7.99360578e-15 -1.59872116e-14 -1.06581410e-14 -7.10542736e-15\n",
      " -8.88178420e-15 -1.06581410e-14 -1.77635684e-14 -3.55271368e-15\n",
      " -7.10542736e-15 -1.77635684e-14 -1.42108547e-14 -1.59872116e-14\n",
      " -1.59872116e-14 -1.42108547e-14 -1.77635684e-14 -1.42108547e-14\n",
      " -1.24344979e-14  1.77635684e-15 -5.32907052e-15 -1.06581410e-14\n",
      " -2.13162821e-14 -2.13162821e-14 -8.88178420e-15 -3.55271368e-15\n",
      " -1.82076576e-14 -8.88178420e-15 -4.44089210e-15  0.00000000e+00\n",
      " -1.77635684e-14 -1.06581410e-14 -1.24344979e-14 -1.77635684e-14\n",
      " -7.10542736e-15 -1.77635684e-14 -1.42108547e-14 -1.42108547e-14\n",
      " -1.24344979e-14 -8.88178420e-15 -1.42108547e-14 -1.95399252e-14\n",
      " -1.24344979e-14 -5.32907052e-15 -2.48689958e-14 -2.13162821e-14\n",
      " -1.77635684e-14 -2.13162821e-14 -1.77635684e-14 -1.59872116e-14\n",
      " -1.06581410e-14 -1.06581410e-14 -1.59872116e-14 -2.13162821e-14\n",
      " -1.42108547e-14 -3.55271368e-15 -7.10542736e-15 -2.13162821e-14\n",
      " -8.88178420e-15 -1.24344979e-14 -1.42108547e-14 -7.10542736e-15\n",
      " -2.13162821e-14 -1.06581410e-14 -1.42108547e-14  3.55271368e-15\n",
      " -1.06581410e-14 -3.55271368e-15 -1.77635684e-14 -1.06581410e-14\n",
      " -8.88178420e-15 -1.42108547e-14 -1.42108547e-14 -1.06581410e-14\n",
      " -1.42108547e-14 -1.06581410e-14 -7.10542736e-15 -7.10542736e-15\n",
      " -1.42108547e-14 -1.77635684e-14 -1.24344979e-14 -1.77635684e-14\n",
      " -1.77635684e-14 -1.42108547e-14 -1.77635684e-14 -1.42108547e-14\n",
      " -1.06581410e-14 -1.42108547e-14 -1.06581410e-14 -7.10542736e-15\n",
      " -7.10542736e-15 -8.88178420e-15 -2.13162821e-14 -1.06581410e-14\n",
      " -1.42108547e-14 -1.77635684e-14 -1.06581410e-14 -1.06581410e-14\n",
      " -1.77635684e-14 -1.77635684e-14 -1.77635684e-14 -1.77635684e-14\n",
      " -7.10542736e-15 -1.42108547e-14 -1.82076576e-14 -1.24344979e-14\n",
      " -1.59872116e-14 -7.10542736e-15 -1.42108547e-14 -1.42108547e-14\n",
      " -1.59872116e-14 -1.06581410e-14 -1.42108547e-14 -2.13162821e-14\n",
      " -2.13162821e-14 -1.77635684e-14 -7.10542736e-15 -1.42108547e-14\n",
      " -7.10542736e-15 -3.55271368e-15]\n"
     ]
    }
   ],
   "source": [
    "# Compute the naive projection: project y onto each column of Q and sum.\n",
    "yhat_naive = np.zeros_like(y)\n",
    "\n",
    "for j in range(p_plus_one):\n",
    "    proj = orthogonal_projection(y, Q[:,j])['a_parallel']\n",
    "    yhat_naive = yhat_naive + proj\n",
    "              \n",
    "# Compute the full projection using the projection matrix H.\n",
    "# Since Q is orthonormal, Q.T @ Q equals the identity matrix.\n",
    "H = Q @ Q.T  # Equivalent to Q @ np.linalg.inv(Q.T @ Q) @ Q.T\n",
    "\n",
    "# Verify that H @ y is the same as yhat_naive.\n",
    "if np.allclose(H @ y, yhat_naive):\n",
    "    print(\"The naive projection equals the full projection.\")\n",
    "else:\n",
    "    print(\"There is a discrepancy between the projections.\")\n",
    "\n",
    "# Optionally, to mimic R's expect_equal with unname:\n",
    "print(\"Difference:\", H @ y - yhat_naive)"
   ]
  },
  {
   "cell_type": "markdown",
   "id": "00bbb76d-1108-40bf-99c1-8eaf8ab3ba38",
   "metadata": {},
   "source": [
    "Split the Boston Housing Data into a training set and a test set where the training set is 80% of the observations. Do so at random."
   ]
  },
  {
   "cell_type": "code",
   "execution_count": 22,
   "id": "59951734-a620-484b-9902-8bdd49d8c1c4",
   "metadata": {},
   "outputs": [
    {
     "name": "stdout",
     "output_type": "stream",
     "text": [
      "X_train shape: (405, 14)\n",
      "X_test shape: (101, 14)\n",
      "y_train length: 405\n",
      "y_test length: 101\n"
     ]
    }
   ],
   "source": [
    "# Assume n, X, and y are already defined. For example:\n",
    "# n = X.shape[0]\n",
    "# (Make sure X is a NumPy array and y is a 1D array or similar.)\n",
    "k = 5\n",
    "n_test = round(n * 1/k)\n",
    "n_train = n - n_test\n",
    "\n",
    "# Create an array of all indices, to be randomly split (0-indexed)\n",
    "all_indices = np.arange(n)\n",
    "\n",
    "#sample from indices without replacement\n",
    "test_indices = np.random.choice(all_indices, size=n_test, replace=False)\n",
    "train_indices = np.setdiff1d(all_indices, test_indices)\n",
    "\n",
    "#get values from indices\n",
    "X_train = X[train_indices, :]\n",
    "y_train = y[train_indices]\n",
    "\n",
    "X_test = X[test_indices, :]\n",
    "y_test = y[test_indices]\n",
    "\n",
    "print(\"X_train shape:\", X_train.shape)\n",
    "print(\"X_test shape:\", X_test.shape)\n",
    "print(\"y_train length:\", len(y_train))\n",
    "print(\"y_test length:\", len(y_test))\n"
   ]
  },
  {
   "cell_type": "markdown",
   "id": "d3e2cf23-efeb-430e-a04f-c361cde984f5",
   "metadata": {},
   "source": [
    "Fit an OLS model. Find the s_e in sample and out of sample. Which one is greater? Note: we are now using s_e and not RMSE since RMSE has the n-(p + 1) in the denominator not n-1 which attempts to de-bias the error estimate by inflating the estimate when overfitting in high p. Again, we're just using `sd(e)`, the sample standard deviation of the residuals."
   ]
  },
  {
   "cell_type": "code",
   "execution_count": 23,
   "id": "80db879f-35ca-4023-9a30-7fa09ff1bcb6",
   "metadata": {},
   "outputs": [
    {
     "name": "stdout",
     "output_type": "stream",
     "text": [
      "In-sample s_e (sample SD of residuals): 4.75573414563032\n",
      "Out-of-sample s_e (sample SD of residuals): 4.534163064894884\n"
     ]
    }
   ],
   "source": [
    "# Fit the OLS model on the training set.\n",
    "# (Assume X_train and y_train have already been defined,\n",
    "# and that X_train already includes a constant column if needed.)\n",
    "model = sm.OLS(y_train, X_train).fit()\n",
    "\n",
    "#in-sample std error\n",
    "in_sample_se = np.std(model.resid, ddof=1)\n",
    "\n",
    "#oos prediction residuals\n",
    "y_pred_test = model.predict(X_test)\n",
    "out_sample_resid = y_test - y_pred_test\n",
    "out_sample_se = np.std(out_sample_resid, ddof=1)\n",
    "\n",
    "\n",
    "print(\"In-sample s_e (sample SD of residuals):\", in_sample_se)\n",
    "print(\"Out-of-sample s_e (sample SD of residuals):\", out_sample_se)\n",
    "\n",
    "# Typically, the out-of-sample s_e will be greater than the in-sample s_e."
   ]
  },
  {
   "cell_type": "markdown",
   "id": "2f02f4a0-209b-466c-ab17-ec7474bcb2f4",
   "metadata": {},
   "source": [
    "Do these two exercises `Nsim = 1000` times and find the average difference between s_e and ooss_e."
   ]
  },
  {
   "cell_type": "code",
   "execution_count": 24,
   "id": "a50414fb-9dc6-4c73-a540-534699b1df68",
   "metadata": {},
   "outputs": [
    {
     "name": "stdout",
     "output_type": "stream",
     "text": [
      "Average difference (s_e - ooss_e): -0.21774141991249865\n"
     ]
    }
   ],
   "source": [
    "# Assume n, X, and y are already defined.\n",
    "# Here, n is the total number of observations.\n",
    "# X is the design matrix and y is the response vector.\n",
    "# For consistency with the R code (which uses '+0'), we will fit the model without a constant.\n",
    "# If X already has a constant column, you might need to remove it; here we assume X does NOT include one.\n",
    "k = 5\n",
    "n_test = round(n * 1/k)\n",
    "n_train = n - n_test\n",
    "Nsim = 1000\n",
    "oosSSE_array = np.empty(Nsim)\n",
    "s_e_array = np.empty(Nsim)\n",
    "\n",
    "for i in range(Nsim):\n",
    "    # Create an array of all indices, to be randomly split (0-indexed)\n",
    "    all_indices = np.arange(n)\n",
    "\n",
    "    #sample from indices without replacement\n",
    "    test_indices = np.random.choice(all_indices, size=n_test, replace=False)\n",
    "    train_indices = np.setdiff1d(all_indices, test_indices)\n",
    "\n",
    "    #get values from indices\n",
    "    X_train = X[train_indices, :]\n",
    "    y_train = y[train_indices]\n",
    "\n",
    "    X_test = X[test_indices, :]\n",
    "    y_test = y[test_indices]\n",
    "\n",
    "    model = sm.OLS(y_train, X_train).fit()\n",
    "\n",
    "    # Predict on the test set\n",
    "    y_hat_test = model.predict(X_test)\n",
    "    \n",
    "    # Compute out-of-sample standard error (sample standard deviation of test residuals)\n",
    "    oosSSE_array[i] = np.std(y_test - y_hat_test, ddof=1)\n",
    "\n",
    "    # Compute in-sample standard error (sample standard deviation of residuals from the training fit)\n",
    "    s_e_array[i] = np.std(model.resid, ddof=1)\n",
    "\n",
    "# Compute the average difference between in-sample and out-of-sample s_e\n",
    "mean_diff = np.mean(s_e_array - oosSSE_array)\n",
    "print(\"Average difference (s_e - ooss_e):\", mean_diff)\n"
   ]
  },
  {
   "cell_type": "markdown",
   "id": "c2aafa5f-d4c5-4fdb-a139-98e3a6154f86",
   "metadata": {},
   "source": [
    "We'll now add random junk to the data so that `p_plus_one = n_train` and create a new data matrix `X_with_junk.`"
   ]
  },
  {
   "cell_type": "code",
   "execution_count": 25,
   "id": "b2b38a88-f31a-46e9-aedd-d2eec495f47d",
   "metadata": {},
   "outputs": [
    {
     "name": "stdout",
     "output_type": "stream",
     "text": [
      "X shape: (506, 14)\n",
      "X_with_junk shape: (506, 405)\n"
     ]
    }
   ],
   "source": [
    "# Assume X, n, n_train, and p_plus_one are already defined.\n",
    "# Create the junk matrix: with n rows and (n_train - p_plus_one) columns.\n",
    "junk = np.random.randn(n, n_train - p_plus_one)\n",
    "\n",
    "# Concatenate X and the junk matrix horizontally\n",
    "X_with_junk = np.hstack((X, junk))\n",
    "\n",
    "# Print dimensions\n",
    "print(\"X shape:\", X.shape)\n",
    "print(\"X_with_junk shape:\", X_with_junk.shape)"
   ]
  },
  {
   "cell_type": "markdown",
   "id": "acafda18-b5bc-4911-aea4-90a2d1d27e3d",
   "metadata": {},
   "source": [
    "Repeat the exercise above measuring the average s_e and ooss_e but this time record these metrics by number of features used. That is, do it for the first column of `X_with_junk` (the intercept column), then do it for the first and second columns, then the first three columns, etc until you do it for all columns of `X_with_junk`. Save these in `s_e_by_p` and `ooss_e_by_p`."
   ]
  },
  {
   "cell_type": "code",
   "execution_count": 26,
   "id": "2ef7cef0-29a4-48fe-81e8-7808dd9e011d",
   "metadata": {},
   "outputs": [
    {
     "name": "stdout",
     "output_type": "stream",
     "text": [
      "Average out-of-sample s_e by number of features:\n",
      "[  9.09476882   8.53212092   7.68407647   8.59229251   9.18357293\n",
      "   7.72903546   6.36648808   5.76629131   5.66724475   5.03574649\n",
      "   5.88188306   5.83998542   5.47499489   4.17402167   5.25535252\n",
      "   3.37402988   5.35944656   4.31040596   5.44623172   5.3980994\n",
      "   6.28379967   4.41092458   4.89176185   3.65001507   5.48252394\n",
      "   5.05696795   4.4735023    4.70421347   6.34660492   4.65091755\n",
      "   5.50013587   5.52344763   4.68643626   4.90115654   5.68930398\n",
      "   5.04275231   4.88362814   5.27229817   5.42071867   5.51809675\n",
      "   4.10520448   5.46986464   4.69012286   3.95619939   5.57849319\n",
      "   4.95592544   5.55647615   4.89148749   4.76384608   4.60082209\n",
      "   4.99570138   5.33943568   6.00523138   4.25049379   5.14273957\n",
      "   4.11488861   4.77603869   4.59905388   4.88115477   4.6935558\n",
      "   6.62434944   4.77229295   5.21236212   4.84878068   4.9145099\n",
      "   4.85596736   5.38781103   5.25328015   4.42183501   4.98578592\n",
      "   5.58343085   5.00697514   5.58416746   4.58344639   4.90341368\n",
      "   5.13245878   4.9883267    4.9703881    5.20559624   6.11648661\n",
      "   5.6515628    5.59241978   6.09880992   5.27852584   5.61353078\n",
      "   5.14681555   4.79309888   4.88630195   5.41996419   5.28797446\n",
      "   5.30144122   4.35396489   6.6166519    6.03306525   5.10829623\n",
      "   5.07891736   5.85822481   5.34367042   6.84356239   5.48570359\n",
      "   5.28076177   4.94626304   5.57068425   5.77370605   4.96453954\n",
      "   6.02285976   5.80857883   5.45089964   5.59968891   6.0856863\n",
      "   6.59572351   5.48511211   6.19345606   6.01026363   5.73903705\n",
      "   5.72254356   5.36597697   6.26453204   5.90117869   5.86915105\n",
      "   5.84537672   5.19642911   5.77489575   5.63365376   4.52630068\n",
      "   6.0132769    6.14433055   6.11988429   6.9403473    5.43912309\n",
      "   6.30418769   5.15371119   6.57893709   6.71285249   5.03827738\n",
      "   5.29945928   5.97383853   5.4769456    5.73822498   5.96751654\n",
      "   6.41142237   6.06823231   6.04404512   5.89419487   5.87125199\n",
      "   6.64118028   5.92763385   5.13108844   7.27621929   6.99776625\n",
      "   6.6621102    5.88099073   5.88640502   6.52598858   4.86170719\n",
      "   6.44842079   5.13679886   6.05745799   6.419968     5.95669722\n",
      "   5.668797     5.76132246   6.76139052   6.37138844   6.10035196\n",
      "   6.30164045   6.34978749   5.67620749   6.24949393   6.421373\n",
      "   6.10069879   6.29797957   6.20902814   6.69172793   6.43513589\n",
      "   6.68587082   6.4481657    6.36268331   5.84690108   6.58444983\n",
      "   5.80304621   5.81721633   6.07958976   5.42869185   6.41477792\n",
      "   6.50849923   6.48958823   6.7050209    7.20668461   6.27957624\n",
      "   6.30619767   5.92734596   6.89815267   6.50407293   6.57127691\n",
      "   6.25029732   6.36204255   6.25090592   6.95939479   6.44258441\n",
      "   7.2739306    6.28409077   6.9425626    6.27932719   6.8750296\n",
      "   6.03410696   7.45598239   6.5783649    6.47748786   7.22012623\n",
      "   6.17094842   7.10570102   7.0675272    7.61113996   6.46609565\n",
      "   7.70563436   5.52640473   6.59176573   6.32024129   7.61958192\n",
      "   6.81856162   7.13943213   5.79680489   7.66316333   6.11889158\n",
      "   7.95114835   6.42645959   7.05548384   7.59236571   7.47517578\n",
      "   6.07261872   6.72837284   7.41206343   7.11587156   7.0743402\n",
      "   6.98217903   7.59106514   7.26354604   8.20509614   7.46218305\n",
      "   7.26232404   7.22718183   7.37863044   6.99770878   7.643726\n",
      "   7.83588498   8.10268306   8.16901216   6.51262513   7.58084889\n",
      "   8.16023126   7.53234129   7.44317837   8.52498759   7.59090912\n",
      "   8.38019954   8.38048959   7.24294798   7.42007916   7.2590461\n",
      "   8.63071432   7.41638451   6.37476801   7.92439168   7.37785095\n",
      "   8.46278701   8.39085081   6.66887319   7.62234185   7.78148761\n",
      "   8.86618633   8.28975332   8.16007801   7.59039906   7.71947624\n",
      "   8.86669585   7.34449048   7.77336834   8.75677679   7.21857191\n",
      "   9.90043075   8.54951013   9.12443991   8.27399386   8.45522014\n",
      "   8.90236446   8.0415278    8.22162997   8.1264145    8.78817524\n",
      "   8.64604706   9.32754922   9.11270744   8.27501391   9.17461591\n",
      "   9.04795499   8.05032722   8.56179447   9.46009257   8.67307691\n",
      "   8.96366516   9.31198312   7.51279253   8.32553779   8.41935343\n",
      "  10.98229142  10.84112755   9.97666286   9.63580968   9.29786935\n",
      "  10.07328174   9.74152441  10.04519925   9.92653926   9.89792417\n",
      "  11.69216645   9.91335062   9.40497549  10.96850747  10.9598039\n",
      "  10.29650921  10.70214787  10.05314111  10.45565343  10.72040564\n",
      "  11.787962     9.69954921   9.20098335  10.59233088  10.03272584\n",
      "  12.66026848  10.79063039  12.52161412  12.06258286  11.42066441\n",
      "  11.66877278  12.58936331  13.4447694   10.73445773  11.3047346\n",
      "  11.02998717  10.82699625  12.18696411  11.58160556  12.19818226\n",
      "  13.03975451  13.28920727  11.26014634  14.59705786  11.13713354\n",
      "  13.91679681  12.03280479  14.85008328  14.82874251  12.96639006\n",
      "  12.03092119  15.24895593  16.20924605  16.96795348  17.24898745\n",
      "  12.04059484  13.59039466  14.79968405  15.94064943  13.79752482\n",
      "  17.58923976  13.94577168  16.39319788  20.77345129  17.52523076\n",
      "  19.80017457  15.69649867  17.30885171  17.78585212  18.23093426\n",
      "  19.45973236  21.0412582   19.56852824  16.99955096  19.50285193\n",
      "  18.68060528  15.53525776  15.62306602  25.70907961  18.79489715\n",
      "  24.47613907  25.7302086   22.0614498   19.14938288  27.91679297\n",
      "  24.71146177  36.13032388  22.42071565  20.79322648  23.57555868\n",
      "  23.64022322  22.13404355  75.37991062  32.41794286  30.08141707\n",
      "  58.5004111   84.04480414  78.58142448  79.49029715 117.55094195]\n",
      "Average in-sample s_e by number of features:\n",
      "[9.23005089e+00 8.46851238e+00 8.15454213e+00 7.51267811e+00\n",
      " 7.08934080e+00 7.47878873e+00 5.78998633e+00 5.93236782e+00\n",
      " 5.58666276e+00 5.71888014e+00 5.45272935e+00 5.15637508e+00\n",
      " 5.09469084e+00 4.82293884e+00 4.56761943e+00 4.94106216e+00\n",
      " 4.53136304e+00 4.75973192e+00 4.48254324e+00 4.45878137e+00\n",
      " 4.24113830e+00 4.72139516e+00 4.61425927e+00 4.86295084e+00\n",
      " 4.44006821e+00 4.55766787e+00 4.70849951e+00 4.68653574e+00\n",
      " 4.24653290e+00 4.63992045e+00 4.43244175e+00 4.42542235e+00\n",
      " 4.62931421e+00 4.58251651e+00 4.42149043e+00 4.57172283e+00\n",
      " 4.57933266e+00 4.43980696e+00 4.42382720e+00 4.36933484e+00\n",
      " 4.68540244e+00 4.35548758e+00 4.55149711e+00 4.74239232e+00\n",
      " 4.37841103e+00 4.49300623e+00 4.33365993e+00 4.46341331e+00\n",
      " 4.55373411e+00 4.57824061e+00 4.42497512e+00 4.36219843e+00\n",
      " 4.20942339e+00 4.60390322e+00 4.38413463e+00 4.63909458e+00\n",
      " 4.47519073e+00 4.53238983e+00 4.46636242e+00 4.50173738e+00\n",
      " 3.99085140e+00 4.49262054e+00 4.32554447e+00 4.44064614e+00\n",
      " 4.40761473e+00 4.39332017e+00 4.33650473e+00 4.28654162e+00\n",
      " 4.48099264e+00 4.33365751e+00 4.20884919e+00 4.31210062e+00\n",
      " 4.19690025e+00 4.40942330e+00 4.32155012e+00 4.26218892e+00\n",
      " 4.33606174e+00 4.32422468e+00 4.28876052e+00 4.06976976e+00\n",
      " 4.17473621e+00 4.18411110e+00 4.09272098e+00 4.25312144e+00\n",
      " 4.21225051e+00 4.27862192e+00 4.36761032e+00 4.36592677e+00\n",
      " 4.22260985e+00 4.20959821e+00 4.24294067e+00 4.41845792e+00\n",
      " 3.93609720e+00 4.00534357e+00 4.32991856e+00 4.29018300e+00\n",
      " 4.14796074e+00 4.26229650e+00 3.77083944e+00 4.15977914e+00\n",
      " 4.16396755e+00 4.24990673e+00 4.11431079e+00 3.99944087e+00\n",
      " 4.21593252e+00 3.89848940e+00 3.99379745e+00 4.10133479e+00\n",
      " 3.99466777e+00 3.84172828e+00 3.83014443e+00 4.09785261e+00\n",
      " 3.81155954e+00 3.86787877e+00 4.03964255e+00 3.96048418e+00\n",
      " 4.09537927e+00 3.83995429e+00 3.89447309e+00 3.92070485e+00\n",
      " 3.85895426e+00 4.05914182e+00 3.92237635e+00 3.92644748e+00\n",
      " 4.18240552e+00 3.93458213e+00 3.84720616e+00 3.81473272e+00\n",
      " 3.61996440e+00 4.03352113e+00 3.89856528e+00 4.04888674e+00\n",
      " 3.71210858e+00 3.63700729e+00 4.09095031e+00 4.00859237e+00\n",
      " 3.78050450e+00 3.87729153e+00 3.86961882e+00 3.78082588e+00\n",
      " 3.56295496e+00 3.80595761e+00 3.75785409e+00 3.86317867e+00\n",
      " 3.76952269e+00 3.58352387e+00 3.72262059e+00 3.88878746e+00\n",
      " 3.45781837e+00 3.56271060e+00 3.52272982e+00 3.72780199e+00\n",
      " 3.72210894e+00 3.54784086e+00 3.91239276e+00 3.58209793e+00\n",
      " 3.86551783e+00 3.65607215e+00 3.49691441e+00 3.70639332e+00\n",
      " 3.77398667e+00 3.73014833e+00 3.54165964e+00 3.70142249e+00\n",
      " 3.68486401e+00 3.61064942e+00 3.49881196e+00 3.76168967e+00\n",
      " 3.56725243e+00 3.56197262e+00 3.58002932e+00 3.52307144e+00\n",
      " 3.63668615e+00 3.42352871e+00 3.43339775e+00 3.41908249e+00\n",
      " 3.51441139e+00 3.54982799e+00 3.59129861e+00 3.50627176e+00\n",
      " 3.65057644e+00 3.58599725e+00 3.53555926e+00 3.66157191e+00\n",
      " 3.58946791e+00 3.31751041e+00 3.44145143e+00 3.31139297e+00\n",
      " 3.31556647e+00 3.45468723e+00 3.51244885e+00 3.58019949e+00\n",
      " 3.37692368e+00 3.41897058e+00 3.42967020e+00 3.35451616e+00\n",
      " 3.48438793e+00 3.43103492e+00 3.39210467e+00 3.39470432e+00\n",
      " 3.15683910e+00 3.38394888e+00 3.16371781e+00 3.33458719e+00\n",
      " 3.12280486e+00 3.42266601e+00 3.18983335e+00 3.21600386e+00\n",
      " 3.41788071e+00 3.12426176e+00 3.28945049e+00 3.27267544e+00\n",
      " 3.08968338e+00 3.01244073e+00 3.19357738e+00 3.06518445e+00\n",
      " 3.44906322e+00 3.24624985e+00 3.18450707e+00 2.99721632e+00\n",
      " 3.21537739e+00 3.17097765e+00 3.28053183e+00 2.97477534e+00\n",
      " 3.24096793e+00 2.95817679e+00 3.26197955e+00 3.13586768e+00\n",
      " 2.95894484e+00 2.96434889e+00 3.26548832e+00 3.13237728e+00\n",
      " 2.88118178e+00 3.05612745e+00 3.11136579e+00 3.08141165e+00\n",
      " 3.06037150e+00 3.07220817e+00 2.81420552e+00 3.04417815e+00\n",
      " 2.95394188e+00 3.02534316e+00 3.02564771e+00 3.15475004e+00\n",
      " 2.92909856e+00 2.86200119e+00 2.91926346e+00 2.58287039e+00\n",
      " 3.07886159e+00 3.01417732e+00 2.87903536e+00 3.01953337e+00\n",
      " 3.03852933e+00 2.80587772e+00 2.90029363e+00 2.71748427e+00\n",
      " 2.79119397e+00 2.97135614e+00 2.93887098e+00 2.79515489e+00\n",
      " 2.75147867e+00 2.92136098e+00 3.09997722e+00 2.72738968e+00\n",
      " 2.90500256e+00 2.67809136e+00 2.88831170e+00 3.00689393e+00\n",
      " 2.96063578e+00 2.90306189e+00 2.63202889e+00 2.65536759e+00\n",
      " 2.62351857e+00 2.88391073e+00 2.76922099e+00 2.74160298e+00\n",
      " 3.01521738e+00 2.73089923e+00 2.74309190e+00 2.78795575e+00\n",
      " 2.41774216e+00 2.63818399e+00 2.37525891e+00 2.49966593e+00\n",
      " 2.66644486e+00 2.63651708e+00 2.65669589e+00 2.58046802e+00\n",
      " 2.73116556e+00 2.56290963e+00 2.48875488e+00 2.48988078e+00\n",
      " 2.49154389e+00 2.55016233e+00 2.23440910e+00 2.36703160e+00\n",
      " 2.49263052e+00 2.53130842e+00 2.32112820e+00 2.28392210e+00\n",
      " 2.15942580e+00 2.26832730e+00 2.58241138e+00 2.61619430e+00\n",
      " 2.28965610e+00 2.14297547e+00 2.14341532e+00 2.22728950e+00\n",
      " 2.18455175e+00 2.43206961e+00 2.07825038e+00 2.18391260e+00\n",
      " 2.12979674e+00 2.18733219e+00 2.33073121e+00 2.22104243e+00\n",
      " 2.18066290e+00 2.30843935e+00 2.00843273e+00 2.06274092e+00\n",
      " 2.12332235e+00 1.79031384e+00 1.95139521e+00 1.96456395e+00\n",
      " 1.92539709e+00 2.14787053e+00 2.10595873e+00 2.01795644e+00\n",
      " 1.81966683e+00 1.95502605e+00 1.99117969e+00 2.02294098e+00\n",
      " 1.56296128e+00 1.55399767e+00 1.91425228e+00 1.98059717e+00\n",
      " 1.78575160e+00 1.95642597e+00 2.03514975e+00 1.93315350e+00\n",
      " 1.97203701e+00 1.79687491e+00 1.73827748e+00 1.85332607e+00\n",
      " 1.90377385e+00 1.68358721e+00 1.98000557e+00 1.85727511e+00\n",
      " 1.55968982e+00 1.73363890e+00 1.47365184e+00 2.00833142e+00\n",
      " 1.69305560e+00 1.71534661e+00 1.74903994e+00 1.63867158e+00\n",
      " 1.69059851e+00 1.66953522e+00 1.40410675e+00 1.69884570e+00\n",
      " 1.82716025e+00 1.80046785e+00 1.21834925e+00 1.59217204e+00\n",
      " 1.36027209e+00 1.58884619e+00 1.71384728e+00 1.32390007e+00\n",
      " 1.23850581e+00 1.58328458e+00 1.18790861e+00 1.47646711e+00\n",
      " 1.53039851e+00 1.45030455e+00 1.28629839e+00 9.84317740e-01\n",
      " 1.03337232e+00 1.09630123e+00 9.73792013e-01 9.78776353e-01\n",
      " 9.98283096e-01 1.06429140e+00 1.02496748e+00 8.88992029e-01\n",
      " 9.50019589e-01 1.00655190e+00 1.06025882e+00 8.09654175e-01\n",
      " 9.80818032e-01 8.16813781e-01 9.15911389e-01 1.00531364e+00\n",
      " 6.33230552e-01 6.61693379e-01 7.10606132e-01 4.67897929e-01\n",
      " 4.60596705e-01 3.61944427e-01 4.85803958e-01 6.66038237e-01\n",
      " 3.59413178e-01 4.49959875e-01 2.57185238e-01 4.64275282e-01\n",
      " 4.20698380e-11]\n"
     ]
    }
   ],
   "source": [
    "k = 5\n",
    "n_test = round(n * 1/k)\n",
    "n_train = n - n_test\n",
    "Nsim = 1\n",
    "num_features = X_with_junk.shape[1]\n",
    "s_e_by_p = np.empty(num_features)\n",
    "ooss_e_by_p = np.empty(num_features)\n",
    "\n",
    "# Loop over model sizes (using the first j columns of X_with_junk)\n",
    "for j in range(1, num_features + 1):\n",
    "    oosSSE_array = np.empty(Nsim)\n",
    "    s_e_array = np.empty(Nsim)\n",
    "    \n",
    "    for i in range(Nsim):\n",
    "        # Generate random test indices without replacement (0-indexed)\n",
    "        all_indices = np.arange(n)\n",
    "        test_indices = np.random.choice(all_indices, size=n_test, replace=False)\n",
    "        train_indices = np.setdiff1d(all_indices, test_indices)\n",
    "        \n",
    "        # Subset the data using the first j columns\n",
    "        X_train = X_with_junk[train_indices, :j]\n",
    "        y_train = y[train_indices]\n",
    "\n",
    "        X_test = X_with_junk[test_indices, :j]\n",
    "        y_test = y[test_indices]\n",
    "       \n",
    "        # Fit an OLS model with no intercept (like lm(... + 0) in R)\n",
    "        model = sm.OLS(y_train, X_train).fit()\n",
    "        \n",
    "        # Predict on the test set\n",
    "        y_hat_test = model.predict(X_test)\n",
    "        \n",
    "        # Compute the sample standard deviation (ddof=1) of residuals\n",
    "        oosSSE_array[i] = np.std(y_test - y_hat_test, ddof=1)\n",
    "        s_e_array[i] = np.std(model.resid, ddof=1)\n",
    "    \n",
    "    # Record the average errors for model size j\n",
    "    s_e_by_p[j-1] = np.mean(s_e_array)\n",
    "    ooss_e_by_p[j-1] = np.mean(oosSSE_array)\n",
    "\n",
    "print(\"Average out-of-sample s_e by number of features:\")\n",
    "print(ooss_e_by_p)\n",
    "print(\"Average in-sample s_e by number of features:\")\n",
    "print(s_e_by_p)"
   ]
  },
  {
   "cell_type": "markdown",
   "id": "fb20846e-3625-4081-9ea6-74e977e8af8e",
   "metadata": {},
   "source": [
    "You can graph them here:"
   ]
  },
  {
   "cell_type": "code",
   "execution_count": 27,
   "id": "d689dae8-a476-46f0-9540-86cd78005c6e",
   "metadata": {},
   "outputs": [
    {
     "data": {
      "image/png": "[encoded data removed]"
     },
     "metadata": {
      "image/png": {
       "height": 480,
       "width": 640
      }
     },
     "output_type": "display_data"
    }
   ],
   "source": [
    "import pandas as pd\n",
    "from plotnine import ggplot, aes, geom_line, labs, theme_minimal\n",
    "\n",
    "# Create data frames for the in-sample and out-of-sample standard errors.\n",
    "df_in = pd.DataFrame({\n",
    "       's_e': s_e_by_p,\n",
    "       'p': range(1, num_features+1),\n",
    "       'series': 'in-sample'\n",
    "})\n",
    "\n",
    "df_out = pd.DataFrame({\n",
    "       's_e': ooss_e_by_p,\n",
    "       'p': range(1, num_features+1),\n",
    "       'series': 'out-of-sample'\n",
    "})\n",
    "\n",
    "# Combine the two dataframes\n",
    "df = pd.concat([df_in, df_out], ignore_index=True)\n",
    "\n",
    "# Create the plot using plotnine\n",
    "plot = (ggplot(df, aes(x='p', y='s_e', color='series'))\n",
    "        + geom_line()\n",
    "        + labs(x='Number of features (p)',\n",
    "               y='s_e',\n",
    "               title='In-sample vs. Out-of-sample s_e by number of features')\n",
    "       )\n",
    "\n",
    "plot"
   ]
  },
  {
   "cell_type": "markdown",
   "id": "503c5d83-d874-4717-8d94-89324d3537ba",
   "metadata": {},
   "source": [
    "Is this shape expected? Explain."
   ]
  },
  {
   "cell_type": "markdown",
   "id": "623ef063-4883-4258-997c-f017a5123742",
   "metadata": {},
   "source": [
    "Yes this shape is expected because as we add more features the in-sample error will decrease due to the the model fitting the additional features and data. However, the out of sample error will start to get worse due to the over-fitting that is occurring. This will lead to a worse modle that produces worse predictions for data that is out of sample. "
   ]
  },
  {
   "cell_type": "markdown",
   "id": "8229ba1f-a813-467d-8a86-6ac3b9112cd3",
   "metadata": {},
   "source": [
    "Now repeat the exercise above except use 5-fold CV (K=5 cross validation) for each p. The code below will also plot the oos RMSE. This oos RMSE curve should be similar to the curve in the above problem, but now it will be more stable. "
   ]
  },
  {
   "cell_type": "code",
   "execution_count": 32,
   "id": "9e221d78",
   "metadata": {},
   "outputs": [
    {
     "data": {
      "image/png": "[encoded data removed]"
     },
     "metadata": {
      "image/png": {
       "height": 480,
       "width": 640
      }
     },
     "output_type": "display_data"
    }
   ],
   "source": [
    "# Assume n, y, and X_with_junk are already defined.\n",
    "# Let p_max be the total number of features (columns) in X_with_junk.\n",
    "p_max = X_with_junk.shape[1]\n",
    "\n",
    "K = 5\n",
    "n_test = round(n * 1/K)\n",
    "\n",
    "# Create a folds array: assign each observation to one of K folds.\n",
    "# Replicate 1:K enough times, then shuffle.\n",
    "folds = np.tile(np.arange(K), n_test+1)[:n]\n",
    "np.random.shuffle(folds)\n",
    "\n",
    "# Initialize a matrix to store the out-of-sample RMSE for each model size and fold.\n",
    "ooss_e_by_p_k = np.empty((p_max, K))\n",
    "\n",
    "for j in range(1, p_max + 1):\n",
    "    for k in range(K):\n",
    "        # Get test and train indices for fold k\n",
    "        test_indices = np.where(folds==k)[0]\n",
    "        train_indices = np.where(folds!=k)[0]\n",
    "        \n",
    "        # Subset the data using the first j columns of X_with_junk\n",
    "        X_train = X_with_junk[train_indices, :j]\n",
    "        y_train = y[train_indices]\n",
    "\n",
    "        X_test = X_with_junk[test_indices, :j]\n",
    "        y_test = y[test_indices]\n",
    "        \n",
    "        # Fit an OLS model with no intercept (mirroring R's '+ 0')\n",
    "        model = sm.OLS(y_train, X_train).fit()\n",
    "        y_hat = model.predict(X_test)\n",
    "        \n",
    "        # Compute RMSE for this fold and model size\n",
    "        ooss_e_by_p_k[j-1, k] = np.sqrt(np.mean((y_test-y_hat)**2))\n",
    "\n",
    "# For each model size (row), compute the standard deviation of the RMSE over the K folds.\n",
    "s_e_by_p = np.std(ooss_e_by_p_k, axis=1)\n",
    "\n",
    "# Create a DataFrame for plotting\n",
    "df_plot = pd.DataFrame({\n",
    "       'p': range(1, p_max + 1),\n",
    "       'RMSE': np.mean(ooss_e_by_p_k, axis=1),\n",
    "       's_e': s_e_by_p\n",
    "})\n",
    "\n",
    "# Plot using plotnine\n",
    "plot = (ggplot(df_plot, aes(x='p', y='RMSE'))\n",
    "        + geom_line()\n",
    "        + labs(x=\"Number of Features\", y=\"OOS RMSE\", title=\"5-fold CV OOS RMSE vs. Number of Features\"))\n",
    "\n",
    "plot"
   ]
  },
  {
   "cell_type": "markdown",
   "id": "bee2321b-3537-4bb9-8b7e-f24fdf5c4419",
   "metadata": {},
   "source": [
    "Even though the concept of confidence intervals (CIs) will not be on the midterm, construct 95% CIs for each of the oosRMSE measurements by number of features, p. A CI is a real-number interval with a lower bound and upper bound. The formula for the CI is [s_e - 2 * s_s_e, s_e + 2 * s_s_e]."
   ]
  },
  {
   "cell_type": "code",
   "execution_count": 33,
   "id": "06f25d85-53c0-4b1d-b4dc-6edb85664970",
   "metadata": {},
   "outputs": [
    {
     "name": "stdout",
     "output_type": "stream",
     "text": [
      "     feature_number    CI_lower    CI_upper\n",
      "0                 1    7.350277   11.008821\n",
      "1                 2    6.535414   10.463357\n",
      "2                 3    6.103715   10.040633\n",
      "3                 4    5.742820    9.744447\n",
      "4                 5    5.836658    9.374334\n",
      "..              ...         ...         ...\n",
      "400             401    3.753054  104.324412\n",
      "401             402   39.722198   65.979259\n",
      "402             403   12.212011  136.124613\n",
      "403             404  -19.954147  224.634702\n",
      "404             405 -239.378417  783.297367\n",
      "\n",
      "[405 rows x 3 columns]\n"
     ]
    }
   ],
   "source": [
    "# Compute the mean out-of-sample RMSE for each model size (row-wise mean)\n",
    "mean_oos = np.mean(ooss_e_by_p_k, axis=1)\n",
    "\n",
    "# Compute the sample standard deviation for each model size (across simulations)\n",
    "sd_oos = np.std(ooss_e_by_p_k, axis=1)\n",
    "\n",
    "# Construct the 95% confidence intervals\n",
    "CI_lower = mean_oos - 2*sd_oos\n",
    "CI_upper = mean_oos + 2*sd_oos\n",
    "\n",
    "# Create a DataFrame with the number of features and the CI bounds.\n",
    "# Assuming n_train is the number of features (columns in X_with_junk)\n",
    "df_CI = pd.DataFrame({\n",
    "    'feature_number': range(1, n_train+1),\n",
    "    'CI_lower': CI_lower,\n",
    "    'CI_upper':CI_upper\n",
    "})\n",
    "\n",
    "print(df_CI)"
   ]
  }
 ],
 "metadata": {
  "kernelspec": {
   "display_name": "Python 3",
   "language": "python",
   "name": "python3"
  },
  "language_info": {
   "codemirror_mode": {
    "name": "ipython",
    "version": 3
   },
   "file_extension": ".py",
   "mimetype": "text/x-python",
   "name": "python",
   "nbconvert_exporter": "python",
   "pygments_lexer": "ipython3",
   "version": "3.10.4"
  }
 },
 "nbformat": 4,
 "nbformat_minor": 5
}
