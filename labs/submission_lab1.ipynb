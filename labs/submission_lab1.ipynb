{
 "cells": [
  {
   "cell_type": "markdown",
   "metadata": {},
   "source": [
    "## Course Assignment Instructions\n",
    "You should have Python (version 3.8 or later) and Jupyter Notebook installed to complete this assignment. You will write code in the empty cell/cells below the problem. While most of this will be a programming assignment, some questions will ask you to \"write a few sentences\" in markdown cells. \n",
    "\n",
    "Submission Instructions:\n",
    "\n",
    "Create a labs directory in your personal class repository (e.g., located in your home directory)\n",
    "Clone the class repository\n",
    "Copy this Jupyter notebook file (.ipynb) into your repo/labs directory\n",
    "Make your edits, commit changes, and push to your repository\n",
    "All submissions must be pushed before the due date to avoid late penalties"
   ]
  },
  {
   "cell_type": "markdown",
   "metadata": {},
   "source": [
    "* Install the numpy, scipy, statsmodels, and pandas packages (we will be using these throughout the semester)"
   ]
  },
  {
   "cell_type": "code",
   "execution_count": 138,
   "metadata": {
    "scrolled": false
   },
   "outputs": [],
   "source": [
    "import numpy as np\n",
    "import pandas as pd\n",
    "import statsmodels as sm\n",
    "import scipy as sp"
   ]
  },
  {
   "cell_type": "markdown",
   "metadata": {},
   "source": [
    "* Print out the numerical constant pi with ten digits after the decimal point using constant 'pi'. You will need to use the math module in python for this. "
   ]
  },
  {
   "cell_type": "code",
   "execution_count": 139,
   "metadata": {
    "colab": {
     "base_uri": "https://localhost:8080/"
    },
    "id": "bnvDOejmkGVm",
    "outputId": "4c897e58-b256-48ec-8dd4-6a6b1ba72114"
   },
   "outputs": [
    {
     "data": {
      "text/plain": [
       "3.1415926536"
      ]
     },
     "execution_count": 139,
     "metadata": {},
     "output_type": "execute_result"
    }
   ],
   "source": [
    "import math\n",
    "round(math.pi, 10)"
   ]
  },
  {
   "cell_type": "markdown",
   "metadata": {
    "id": "Uavy5yJm7sLm"
   },
   "source": [
    "* Sum up the first 103 terms of the series 1 + 1/2 + 1/4 + 1/8 + ... use base python"
   ]
  },
  {
   "cell_type": "code",
   "execution_count": 140,
   "metadata": {
    "colab": {
     "base_uri": "https://localhost:8080/"
    },
    "id": "xRoIK9LW70-z",
    "outputId": "fb7d981e-d80e-4a2b-cb5a-9037d1a8bba9"
   },
   "outputs": [
    {
     "data": {
      "text/plain": [
       "2.0"
      ]
     },
     "execution_count": 140,
     "metadata": {},
     "output_type": "execute_result"
    }
   ],
   "source": [
    "terms = [1]*103\n",
    "for i in range(1, len(terms)):\n",
    "    terms[i]=terms[i-1]/2\n",
    "\n",
    "sum(terms)"
   ]
  },
  {
   "cell_type": "markdown",
   "metadata": {},
   "source": [
    "using numpy"
   ]
  },
  {
   "cell_type": "code",
   "execution_count": 141,
   "metadata": {
    "colab": {
     "base_uri": "https://localhost:8080/"
    },
    "id": "rn-pDnETQO7H",
    "outputId": "64add9d3-6314-46fc-a953-60e628a5dcf6"
   },
   "outputs": [
    {
     "name": "stderr",
     "output_type": "stream",
     "text": [
      "C:\\Users\\sneeky\\AppData\\Local\\Temp\\ipykernel_14516\\2925419549.py:2: DeprecationWarning: Calling np.sum(generator) is deprecated, and in the future will give a different result. Use np.sum(np.fromiter(generator)) or the python sum builtin instead.\n",
      "  total = np.sum(1/(2**i) for i in np.arange(103))\n",
      "C:\\Users\\sneeky\\AppData\\Local\\Temp\\ipykernel_14516\\2925419549.py:2: RuntimeWarning: divide by zero encountered in scalar divide\n",
      "  total = np.sum(1/(2**i) for i in np.arange(103))\n"
     ]
    },
    {
     "data": {
      "text/plain": [
       "inf"
      ]
     },
     "execution_count": 141,
     "metadata": {},
     "output_type": "execute_result"
    }
   ],
   "source": [
    "np.sum(np.geomspace(1,2**(-102),103, endpoint=True))\n",
    "total = np.sum(1/(2**i) for i in np.arange(103))\n",
    "total"
   ]
  },
  {
   "cell_type": "markdown",
   "metadata": {
    "id": "oQEj31GARHuP"
   },
   "source": [
    " * The issue here arises because NumPy's 2 ** np.arange(103) may overflow for very large exponents, leading to incorrect results. NumPy uses fixed-precision data types, which can cause problems when dealing with extremely large numbers.  * The issue here arises because NumPy's 2 ** np.arange(103) may overflow for very large exponents, leading to incorrect results. NumPy uses fixed-precision data types, which can cause problems when dealing with extremely large numbers."
   ]
  },
  {
   "cell_type": "code",
   "execution_count": null,
   "metadata": {
    "colab": {
     "base_uri": "https://localhost:8080/"
    },
    "id": "4znUgZRjQwoD",
    "outputId": "d580e891-8291-4c4e-9abe-ff987a806201"
   },
   "outputs": [],
   "source": []
  },
  {
   "cell_type": "markdown",
   "metadata": {
    "id": "p7X2hTJWRtuo"
   },
   "source": [
    "* Find the product of the first 387 terms of `1 * 1/2 * 1/4 * 1/8 *` ..."
   ]
  },
  {
   "cell_type": "markdown",
   "metadata": {
    "id": "fy1ZDTxJSL7_"
   },
   "source": [
    "using base python"
   ]
  },
  {
   "cell_type": "code",
   "execution_count": 142,
   "metadata": {
    "colab": {
     "base_uri": "https://localhost:8080/"
    },
    "id": "jp0AKiCiRxB9",
    "outputId": "d025dd82-9434-463f-f228-9d42d15ef398"
   },
   "outputs": [
    {
     "data": {
      "text/plain": [
       "0.0"
      ]
     },
     "execution_count": 142,
     "metadata": {},
     "output_type": "execute_result"
    }
   ],
   "source": [
    "prod=1\n",
    "temp=1\n",
    "\n",
    "for i in range(387):\n",
    "    prod*=temp\n",
    "    temp/=2\n",
    "\n",
    "prod"
   ]
  },
  {
   "cell_type": "markdown",
   "metadata": {
    "id": "EPMSU8pySJtw"
   },
   "source": [
    "using numpy"
   ]
  },
  {
   "cell_type": "code",
   "execution_count": 143,
   "metadata": {
    "colab": {
     "base_uri": "https://localhost:8080/"
    },
    "id": "A2ctxQ1iRvG7",
    "outputId": "86d4b076-a029-4342-a1fb-6e1f0ac53c12"
   },
   "outputs": [
    {
     "data": {
      "text/plain": [
       "0.0"
      ]
     },
     "execution_count": 143,
     "metadata": {},
     "output_type": "execute_result"
    }
   ],
   "source": [
    "np.prod(np.geomspace(1,2**(-386),387, endpoint=True))"
   ]
  },
  {
   "cell_type": "markdown",
   "metadata": {
    "id": "B4VQOLKYTPCj"
   },
   "source": [
    "Is this answer *exactly* correct?\n",
    "\n",
    "No, this answer is not exactly correct. The number should be positive although very small and the answer generated is a result of numerical underflow."
   ]
  },
  {
   "cell_type": "markdown",
   "metadata": {
    "id": "zFA5JJfzTJtX"
   },
   "source": [
    "* Figure out a means to express the answer more exactly. Not compute exactly, but express more exactly."
   ]
  },
  {
   "cell_type": "code",
   "execution_count": 144,
   "metadata": {
    "colab": {
     "base_uri": "https://localhost:8080/"
    },
    "id": "VIjX6xzAS-gf",
    "outputId": "9c704c4c-5656-4106-f969-0ebc7664222f"
   },
   "outputs": [
    {
     "name": "stdout",
     "output_type": "stream",
     "text": [
      "log base 2 answer is -74691.0\n"
     ]
    }
   ],
   "source": [
    "from fractions import Fraction\n",
    "\n",
    "log_prod=0\n",
    "d=1\n",
    "\n",
    "for i in range(387):\n",
    "    temp=Fraction(1,d)\n",
    "    log_prod+=math.log(temp, 2)\n",
    "    d*=2\n",
    "\n",
    "print(\"log base 2 answer is\", log_prod)"
   ]
  },
  {
   "cell_type": "markdown",
   "metadata": {},
   "source": [
    "* using numpy ... Hint: use the `log` and `sum` functions in numpy"
   ]
  },
  {
   "cell_type": "code",
   "execution_count": 145,
   "metadata": {
    "colab": {
     "base_uri": "https://localhost:8080/"
    },
    "id": "GUqiwC3nS-oh",
    "outputId": "a98e5f2b-8391-40c6-a1a4-7535d1b971c9"
   },
   "outputs": [
    {
     "name": "stdout",
     "output_type": "stream",
     "text": [
      "log base 2 answer is -74691\n"
     ]
    }
   ],
   "source": [
    "exponent=np.sum(np.arange(387))*-1\n",
    "print(\"log base 2 answer is\", exponent)"
   ]
  },
  {
   "cell_type": "markdown",
   "metadata": {
    "id": "aykGSWDVVIkE"
   },
   "source": [
    "* Create the sequence `x = [Inf, 20, 18, ..., -20]`."
   ]
  },
  {
   "cell_type": "markdown",
   "metadata": {
    "id": "mLlQPD-VVCle"
   },
   "source": [
    "Pure python"
   ]
  },
  {
   "cell_type": "code",
   "execution_count": 146,
   "metadata": {
    "colab": {
     "base_uri": "https://localhost:8080/"
    },
    "id": "S8Mnf42kU5D3",
    "outputId": "b69d220c-b166-4f37-b013-067e1adaf73b"
   },
   "outputs": [
    {
     "name": "stdout",
     "output_type": "stream",
     "text": [
      "[inf, 20, 18, 16, 14, 12, 10, 8, 6, 4, 2, 0, -2, -4, -6, -8, -10, -12, -14, -16, -18, -20]\n"
     ]
    }
   ],
   "source": [
    "# Create the sequence\n",
    "x = [float('inf')] + list(range(20, -21, -2))\n",
    "\n",
    "# Print the result\n",
    "print(x)"
   ]
  },
  {
   "cell_type": "markdown",
   "metadata": {
    "id": "ANVsEVzkU_N6"
   },
   "source": [
    "Using numpy"
   ]
  },
  {
   "cell_type": "code",
   "execution_count": 147,
   "metadata": {
    "colab": {
     "base_uri": "https://localhost:8080/"
    },
    "id": "pi0uutpUU5NA",
    "outputId": "db7fab14-b6d7-4619-9527-3b2aee8be37a"
   },
   "outputs": [
    {
     "name": "stdout",
     "output_type": "stream",
     "text": [
      "[inf, 20, 18, 16, 14, 12, 10, 8, 6, 4, 2, 0, -2, -4, -6, -8, -10, -12, -14, -16, -18, -20]\n"
     ]
    }
   ],
   "source": [
    "# Create the sequence\n",
    "x = [float('inf')] + list(np.arange(20, -22, -2))\n",
    "\n",
    "# Print the result\n",
    "print(x)"
   ]
  },
  {
   "cell_type": "markdown",
   "metadata": {
    "id": "8cu3L5kJVNU3"
   },
   "source": [
    "*   Create the sequence `x = [log_3(Inf), log_3(100), log_3(98), ... log_3(-20)]` ... Use `log` from numpy."
   ]
  },
  {
   "cell_type": "code",
   "execution_count": 148,
   "metadata": {
    "colab": {
     "base_uri": "https://localhost:8080/"
    },
    "id": "vud6_UONVRH8",
    "outputId": "d659e652-a527-4661-d651-1c23b6b61e88"
   },
   "outputs": [
    {
     "name": "stderr",
     "output_type": "stream",
     "text": [
      "C:\\Users\\sneeky\\AppData\\Local\\Temp\\ipykernel_14516\\1185925641.py:2: RuntimeWarning: divide by zero encountered in log\n",
      "  x = np.log(sequence)/np.log(3)\n",
      "C:\\Users\\sneeky\\AppData\\Local\\Temp\\ipykernel_14516\\1185925641.py:2: RuntimeWarning: invalid value encountered in log\n",
      "  x = np.log(sequence)/np.log(3)\n"
     ]
    },
    {
     "data": {
      "text/plain": [
       "array([       inf, 4.19180655, 4.17341725, 4.15464877, 4.13548513,\n",
       "       4.11590934, 4.09590327, 4.0754476 , 4.05452164, 4.03310326,\n",
       "       4.01116872, 3.98869254, 3.96564727, 3.94200337, 3.91772888,\n",
       "       3.89278926, 3.86714702, 3.84076143, 3.81358809, 3.78557852,\n",
       "       3.75667961, 3.72683303, 3.69597451, 3.66403301, 3.63092975,\n",
       "       3.59657703, 3.5608768 , 3.52371901, 3.48497958, 3.44451785,\n",
       "       3.4021735 , 3.35776278, 3.31107361, 3.26185951, 3.20983168,\n",
       "       3.15464877, 3.09590327, 3.03310326, 2.96564727, 2.89278926,\n",
       "       2.81358809, 2.72683303, 2.63092975, 2.52371901, 2.4021735 ,\n",
       "       2.26185951, 2.09590327, 1.89278926, 1.63092975, 1.26185951,\n",
       "       0.63092975,       -inf,        nan,        nan,        nan,\n",
       "              nan,        nan,        nan,        nan,        nan,\n",
       "              nan,        nan])"
      ]
     },
     "execution_count": 148,
     "metadata": {},
     "output_type": "execute_result"
    }
   ],
   "source": [
    "sequence=[float('inf')] + list(range(100,-21,-2))\n",
    "x = np.log(sequence)/np.log(3)\n",
    "x"
   ]
  },
  {
   "cell_type": "markdown",
   "metadata": {
    "id": "Zb1X0R2Nav9g"
   },
   "source": [
    "* Create a vector of booleans where the entry is true if `x[i]` is positive and finite. Use `&` from base python along with `isnan` and `isinfinite` from numpy"
   ]
  },
  {
   "cell_type": "code",
   "execution_count": 153,
   "metadata": {
    "colab": {
     "base_uri": "https://localhost:8080/"
    },
    "id": "4Q_oZqgGViSO",
    "outputId": "93139bc4-3567-4408-b40e-34fb7fccdc0b"
   },
   "outputs": [
    {
     "name": "stdout",
     "output_type": "stream",
     "text": [
      "[False  True  True  True  True  True  True  True  True  True  True  True\n",
      "  True  True  True  True  True  True  True  True  True  True  True  True\n",
      "  True  True  True  True  True  True  True  True  True  True  True  True\n",
      "  True  True  True  True  True  True  True  True  True  True  True  True\n",
      "  True  True  True False False False False False False False False False\n",
      " False False]\n"
     ]
    }
   ],
   "source": [
    "y = ~np.isnan(x) & np.isfinite(x) & (x > 0)\n",
    "print(y)"
   ]
  },
  {
   "cell_type": "markdown",
   "metadata": {
    "id": "9mtTSGAua4kJ"
   },
   "source": [
    "* Locate the indices of the non-real numbers in this vector. Numpy has a `where` function in lieu of R's `which`"
   ]
  },
  {
   "cell_type": "code",
   "execution_count": 152,
   "metadata": {
    "colab": {
     "base_uri": "https://localhost:8080/"
    },
    "id": "ROPylzDFaQ6C",
    "outputId": "dc23b4b7-acc9-49af-b2d0-19eb5ead974c"
   },
   "outputs": [
    {
     "name": "stdout",
     "output_type": "stream",
     "text": [
      "[ 0 51 52 53 54 55 56 57 58 59 60 61]\n"
     ]
    }
   ],
   "source": [
    "false_indices=np.where(y==False)[0]\n",
    "print(false_indices)"
   ]
  },
  {
   "cell_type": "markdown",
   "metadata": {
    "id": "b0UOuLWlbCrX"
   },
   "source": [
    "* Locate the indices of the infinite quantities in this vector using `where` and `isinf` from numpy."
   ]
  },
  {
   "cell_type": "code",
   "execution_count": 154,
   "metadata": {
    "colab": {
     "base_uri": "https://localhost:8080/"
    },
    "id": "qxleb46Kah7O",
    "outputId": "bebf0016-acce-4df3-9317-faa1613e8dad"
   },
   "outputs": [
    {
     "name": "stdout",
     "output_type": "stream",
     "text": [
      "[ 0 51]\n"
     ]
    }
   ],
   "source": [
    "infin_indices=np.where(np.isinf(x))[0]\n",
    "print(infin_indices)"
   ]
  },
  {
   "cell_type": "markdown",
   "metadata": {
    "id": "jy81AOKHbdtI"
   },
   "source": [
    "* Locate the indices of the min and max in this vector. Hint: use the `arg.min` and `arg.max` functions from numpy"
   ]
  },
  {
   "cell_type": "code",
   "execution_count": 155,
   "metadata": {
    "colab": {
     "base_uri": "https://localhost:8080/"
    },
    "id": "5aLvgov5bJ0D",
    "outputId": "880b4174-f433-47a3-bb1d-1caf83b97469"
   },
   "outputs": [
    {
     "name": "stdout",
     "output_type": "stream",
     "text": [
      "51\n",
      "0\n"
     ]
    }
   ],
   "source": [
    "xs=[i for i in x if(~np.isnan(i))]\n",
    "print(np.argmin(xs))\n",
    "print(np.argmax(xs))"
   ]
  },
  {
   "cell_type": "markdown",
   "metadata": {
    "id": "oRIpi-b2b9KD"
   },
   "source": [
    "* Count the number of unique values in `x`. Use `unique` from numpy."
   ]
  },
  {
   "cell_type": "code",
   "execution_count": 158,
   "metadata": {
    "colab": {
     "base_uri": "https://localhost:8080/"
    },
    "id": "no85_We5bry1",
    "outputId": "af1283fa-e34e-4472-bcb2-72210ff9eda6"
   },
   "outputs": [
    {
     "name": "stdout",
     "output_type": "stream",
     "text": [
      "53\n"
     ]
    }
   ],
   "source": [
    "print(len(np.unique(x)))"
   ]
  },
  {
   "cell_type": "markdown",
   "metadata": {
    "id": "oHRN70mTcHsB"
   },
   "source": [
    "* Cast `x` to a factor. Do the number of levels make sense? Should be 53 unique values. Use `categorical` from pandas."
   ]
  },
  {
   "cell_type": "code",
   "execution_count": 159,
   "metadata": {
    "colab": {
     "base_uri": "https://localhost:8080/"
    },
    "id": "nduGObKldhd9",
    "outputId": "1abf3207-ffe6-4931-8c49-e1182162afa0"
   },
   "outputs": [
    {
     "name": "stdout",
     "output_type": "stream",
     "text": [
      "Factor levels: Index([              -inf, 0.6309297535714574, 1.2618595071429148,\n",
      "       1.6309297535714573,  1.892789260714372,  2.095903274289385,\n",
      "       2.2618595071429146,  2.402173502732879, 2.5237190142858297,\n",
      "        2.630929753571457, 2.7268330278608417, 2.8135880922155954,\n",
      "       2.8927892607143724,   2.96564727304425,  3.033103256304337,\n",
      "       3.0959032742893844,  3.154648767857287, 3.2098316767340234,\n",
      "       3.2618595071429146, 3.3110736128178324,  3.357762781432299,\n",
      "       3.4021735027328797, 3.4445178457870527, 3.4849795837717283,\n",
      "       3.5237190142858297, 3.5608767950073115, 3.5965770266157073,\n",
      "       3.6309297535714573, 3.6640330098757947, 3.6959745056821194,\n",
      "       3.7268330278608417,  3.756679610828472,  3.785578521428744,\n",
      "        3.813588092215595, 3.8407614303054807, 3.8671470234508067,\n",
      "        3.892789260714372, 3.9177288817897304, 3.9420033663892897,\n",
      "       3.9656472730442496, 3.9886925350037563,  4.011168719591413,\n",
      "       4.0331032563043365, 4.0545216380691365,   4.07544759935851,\n",
      "        4.095903274289384,  4.115909337343186,  4.135485128951194,\n",
      "        4.154648767857287,  4.173417251894302,   4.19180654857877,\n",
      "                      inf],\n",
      "      dtype='float64')\n",
      "Number of levels: 52\n"
     ]
    }
   ],
   "source": [
    "# Cast x to a categorical (similar to as.factor(x) in R)\n",
    "x_factor = pd.Categorical(x)\n",
    "\n",
    "# Check the unique levels (categories)\n",
    "levels = x_factor.categories\n",
    "num_levels = len(levels)\n",
    "\n",
    "print(f\"Factor levels: {levels}\")\n",
    "print(f\"Number of levels: {num_levels}\")"
   ]
  },
  {
   "cell_type": "markdown",
   "metadata": {
    "id": "IorrCNzsdnSe"
   },
   "source": [
    "* In Python, using pandas, NaN is not treated as a level in a categorical type by default. Pandas does not allow NaN to be a category. To include NaN as a level, you need to explicitly handle it by filling them with a placeholder value (like \"NaN\" or a specific number) before making the data categorical. Use `categorical` and `isna` from pandas."
   ]
  },
  {
   "cell_type": "code",
   "execution_count": 160,
   "metadata": {
    "colab": {
     "base_uri": "https://localhost:8080/"
    },
    "id": "hSd4wayScFtz",
    "outputId": "02f6d619-363c-49c3-e4e7-edd651a8d2c7"
   },
   "outputs": [
    {
     "name": "stdout",
     "output_type": "stream",
     "text": [
      "Factor levels (including NaN): Index([              -inf, 0.6309297535714574, 1.2618595071429148,\n",
      "       1.6309297535714573,  1.892789260714372,  2.095903274289385,\n",
      "       2.2618595071429146,  2.402173502732879, 2.5237190142858297,\n",
      "        2.630929753571457, 2.7268330278608417, 2.8135880922155954,\n",
      "       2.8927892607143724,   2.96564727304425,  3.033103256304337,\n",
      "       3.0959032742893844,  3.154648767857287, 3.2098316767340234,\n",
      "       3.2618595071429146, 3.3110736128178324,  3.357762781432299,\n",
      "       3.4021735027328797, 3.4445178457870527, 3.4849795837717283,\n",
      "       3.5237190142858297, 3.5608767950073115, 3.5965770266157073,\n",
      "       3.6309297535714573, 3.6640330098757947, 3.6959745056821194,\n",
      "       3.7268330278608417,  3.756679610828472,  3.785578521428744,\n",
      "        3.813588092215595, 3.8407614303054807, 3.8671470234508067,\n",
      "        3.892789260714372, 3.9177288817897304, 3.9420033663892897,\n",
      "       3.9656472730442496, 3.9886925350037563,  4.011168719591413,\n",
      "       4.0331032563043365, 4.0545216380691365,   4.07544759935851,\n",
      "        4.095903274289384,  4.115909337343186,  4.135485128951194,\n",
      "        4.154648767857287,  4.173417251894302,   4.19180654857877,\n",
      "                      inf,              'NaN'],\n",
      "      dtype='object')\n",
      "Number of levels: 53\n"
     ]
    }
   ],
   "source": [
    "# Replace NaN with a placeholder value (e.g., 'NaN')\n",
    "x_filled = [val if not pd.isna(val) else 'NaN' for val in x] #list comprehension\n",
    "\n",
    "# Convert to categorical\n",
    "x_factor = pd.Categorical(x_filled)\n",
    "\n",
    "# Check the unique levels (including 'NaN' as a level)\n",
    "factor_levels = x_factor.categories\n",
    "num_levels = len(factor_levels)\n",
    "\n",
    "print(f\"Factor levels (including NaN): {factor_levels}\")\n",
    "print(f\"Number of levels: {num_levels}\")"
   ]
  },
  {
   "cell_type": "markdown",
   "metadata": {
    "id": "w4o3ULW7eICC"
   },
   "source": [
    "* Cast `x` to integers. Use `where`, `isinfinite` from numpy and `astype` from base python."
   ]
  },
  {
   "cell_type": "code",
   "execution_count": 162,
   "metadata": {
    "colab": {
     "base_uri": "https://localhost:8080/"
    },
    "id": "CHtCOU1wcfld",
    "outputId": "a1aefd63-5ffc-4dfa-9e8b-3c9e00bfaa25"
   },
   "outputs": [
    {
     "name": "stdout",
     "output_type": "stream",
     "text": [
      "[0 4 4 4 4 4 4 4 4 4 4 3 3 3 3 3 3 3 3 3 3 3 3 3 3 3 3 3 3 3 3 3 3 3 3 3 3\n",
      " 3 2 2 2 2 2 2 2 2 2 1 1 1 0 0 0 0 0 0 0 0 0 0 0 0]\n"
     ]
    }
   ],
   "source": [
    "replaced_inf = np.where(np.isfinite(x), x,0)\n",
    "int_replace = replaced_inf.astype(int)\n",
    "print(int_replace)"
   ]
  },
  {
   "cell_type": "markdown",
   "metadata": {
    "id": "X3zDD-zgeyRf"
   },
   "source": [
    "* Use `x` to create a new vector `y` containing only the real numbers in x. Use `isnan`, `logical_and`, and `reduce` from numpy"
   ]
  },
  {
   "cell_type": "code",
   "execution_count": 163,
   "metadata": {
    "colab": {
     "base_uri": "https://localhost:8080/"
    },
    "id": "nLNq9Pr8eiHD",
    "outputId": "0c69bf4b-5d73-4a03-dd85-726efe122b63"
   },
   "outputs": [
    {
     "data": {
      "text/plain": [
       "array([4.19180655, 4.17341725, 4.15464877, 4.13548513, 4.11590934,\n",
       "       4.09590327, 4.0754476 , 4.05452164, 4.03310326, 4.01116872,\n",
       "       3.98869254, 3.96564727, 3.94200337, 3.91772888, 3.89278926,\n",
       "       3.86714702, 3.84076143, 3.81358809, 3.78557852, 3.75667961,\n",
       "       3.72683303, 3.69597451, 3.66403301, 3.63092975, 3.59657703,\n",
       "       3.5608768 , 3.52371901, 3.48497958, 3.44451785, 3.4021735 ,\n",
       "       3.35776278, 3.31107361, 3.26185951, 3.20983168, 3.15464877,\n",
       "       3.09590327, 3.03310326, 2.96564727, 2.89278926, 2.81358809,\n",
       "       2.72683303, 2.63092975, 2.52371901, 2.4021735 , 2.26185951,\n",
       "       2.09590327, 1.89278926, 1.63092975, 1.26185951, 0.63092975])"
      ]
     },
     "execution_count": 163,
     "metadata": {},
     "output_type": "execute_result"
    }
   ],
   "source": [
    "y=x[np.logical_and.reduce((~np.isnan(x), np.isfinite(x), x>0))]\n",
    "y\n"
   ]
  },
  {
   "cell_type": "markdown",
   "metadata": {
    "id": "S8qnxXNqt3JE"
   },
   "source": [
    "* Use the left rectangle method to numerically integrate x^2 from 0 to 1 with rectangle width size 1e-6. Use `arrange` and `sum` from numpy"
   ]
  },
  {
   "cell_type": "code",
   "execution_count": 164,
   "metadata": {
    "colab": {
     "base_uri": "https://localhost:8080/"
    },
    "id": "W3zsckaxt32K",
    "outputId": "461405b1-dfc1-4f46-ed5c-5b4ce2fd3e93"
   },
   "outputs": [
    {
     "name": "stdout",
     "output_type": "stream",
     "text": [
      "0.33333283333349994\n"
     ]
    }
   ],
   "source": [
    "# Define the rectangle width\n",
    "width = 1e-6\n",
    "\n",
    "# Create the sequence for the left endpoints (similar to seq in R)\n",
    "x = np.arange(0, 1, width)\n",
    "\n",
    "# Compute the sum using the left rectangle method\n",
    "approximation = np.sum(x ** 2) * width\n",
    "\n",
    "# Print the result\n",
    "print(approximation)\n"
   ]
  },
  {
   "cell_type": "markdown",
   "metadata": {
    "id": "LFF_X0FKuyD4"
   },
   "source": [
    "* Calculate the average of 100 realizations of standard Bernoullis in one line using the numpy's random.choice function."
   ]
  },
  {
   "cell_type": "code",
   "execution_count": 165,
   "metadata": {
    "colab": {
     "base_uri": "https://localhost:8080/"
    },
    "id": "JdeauzBkuVTr",
    "outputId": "cdfb63d0-43b5-4fa9-e6ad-5f0d5cd9efdd"
   },
   "outputs": [
    {
     "data": {
      "text/plain": [
       "0.5"
      ]
     },
     "execution_count": 165,
     "metadata": {},
     "output_type": "execute_result"
    }
   ],
   "source": [
    "mean_bern=np.mean(np.random.choice([0,1], size=100, replace=True))\n",
    "mean_bern"
   ]
  },
  {
   "cell_type": "markdown",
   "metadata": {
    "id": "I9wgl1ycvvTx"
   },
   "source": [
    "* Calculate the average of 500 realizations of Bernoullis with p = 0.9 in one line using the `random.choice` and `mean` functions in numpy."
   ]
  },
  {
   "cell_type": "code",
   "execution_count": 166,
   "metadata": {
    "colab": {
     "base_uri": "https://localhost:8080/"
    },
    "id": "ZcichNlevpph",
    "outputId": "b0b4181a-188d-4813-c5df-e907dac6c3a9"
   },
   "outputs": [
    {
     "data": {
      "text/plain": [
       "0.904"
      ]
     },
     "execution_count": 166,
     "metadata": {},
     "output_type": "execute_result"
    }
   ],
   "source": [
    "np.mean(np.random.choice([0,1], p=[0.1, 0.9], replace=True, size=500))"
   ]
  },
  {
   "cell_type": "markdown",
   "metadata": {
    "id": "pr9oLtR0wdqq"
   },
   "source": [
    "* Calculate the average of 1000 realizations of Bernoullis with p = 0.9 in one line using `binom` from scipy.stats."
   ]
  },
  {
   "cell_type": "code",
   "execution_count": 170,
   "metadata": {},
   "outputs": [
    {
     "data": {
      "text/plain": [
       "0.91"
      ]
     },
     "execution_count": 170,
     "metadata": {},
     "output_type": "execute_result"
    }
   ],
   "source": [
    "from scipy.stats import binom\n",
    "avg_bern=binom.rvs(n=1, p=0.9, size=1000).mean()\n",
    "avg_bern"
   ]
  },
  {
   "cell_type": "markdown",
   "metadata": {
    "id": "pZuC50jpw35z"
   },
   "source": [
    "* Let `n = 50`. Create a n x n matrix `R` of exactly 50% entries 0's, 25% 1's 25% 2's. These values should be in random locations."
   ]
  },
  {
   "cell_type": "code",
   "execution_count": 171,
   "metadata": {
    "colab": {
     "base_uri": "https://localhost:8080/"
    },
    "id": "YhA5CdjRwzIb",
    "outputId": "b95c17ad-e8af-4edd-cfa7-3f8260d6781c"
   },
   "outputs": [
    {
     "name": "stdout",
     "output_type": "stream",
     "text": [
      "    0   1   2   3   4   5   6   7   8   9   ...  40  41  42  43  44  45  46  \\\n",
      "0    2   2   0   2   0   1   1   1   0   0  ...   0   0   2   1   0   0   0   \n",
      "1    2   0   1   0   2   2   2   2   2   0  ...   0   1   0   1   0   0   2   \n",
      "2    0   0   0   1   0   0   2   1   0   2  ...   2   1   0   0   1   0   0   \n",
      "3    0   0   2   1   1   0   0   1   2   0  ...   1   2   0   0   0   1   1   \n",
      "4    2   0   0   1   0   2   0   0   0   2  ...   0   1   0   2   0   1   0   \n",
      "5    1   2   1   0   1   2   0   0   1   0  ...   1   1   0   0   0   0   2   \n",
      "6    1   0   1   0   2   0   0   0   2   1  ...   2   0   2   0   0   1   0   \n",
      "7    2   1   0   1   0   0   0   2   2   2  ...   1   0   1   1   0   0   0   \n",
      "8    0   1   1   0   1   0   2   2   1   1  ...   0   0   0   0   1   0   0   \n",
      "9    1   0   2   1   0   2   0   0   0   0  ...   0   0   0   2   0   2   2   \n",
      "10   1   0   0   2   1   0   0   2   0   0  ...   1   0   0   2   1   0   0   \n",
      "11   0   2   0   2   0   1   2   1   0   0  ...   0   2   0   0   0   2   1   \n",
      "12   0   0   2   0   2   0   0   0   0   2  ...   0   0   0   2   1   0   0   \n",
      "13   2   2   0   0   0   2   1   1   0   0  ...   0   0   0   0   2   1   2   \n",
      "14   2   2   2   1   0   0   2   0   0   0  ...   0   0   0   0   0   0   2   \n",
      "15   1   1   1   0   1   1   0   0   0   0  ...   2   0   2   1   0   0   1   \n",
      "16   0   1   2   1   1   1   0   1   0   2  ...   0   1   1   1   0   1   1   \n",
      "17   2   1   0   2   0   0   0   0   0   1  ...   0   0   1   0   0   1   2   \n",
      "18   0   1   0   0   2   0   0   1   2   0  ...   2   0   0   0   0   1   0   \n",
      "19   1   0   2   1   2   2   0   0   0   2  ...   0   0   1   0   1   0   0   \n",
      "20   2   1   2   2   2   0   2   0   2   0  ...   1   0   0   2   0   1   1   \n",
      "21   0   1   1   2   1   1   2   0   0   2  ...   2   1   1   0   0   0   1   \n",
      "22   1   1   0   2   0   0   0   0   1   2  ...   0   2   0   0   0   0   0   \n",
      "23   0   0   0   1   0   1   2   0   1   0  ...   2   0   1   0   1   0   1   \n",
      "24   1   2   2   2   2   0   0   0   1   0  ...   0   0   2   0   0   2   1   \n",
      "25   2   1   1   2   0   0   1   0   2   0  ...   1   2   1   2   2   1   0   \n",
      "26   0   2   0   1   0   2   0   0   2   1  ...   0   0   1   1   2   0   0   \n",
      "27   0   2   2   1   2   0   1   1   0   2  ...   1   0   1   0   2   0   2   \n",
      "28   1   0   2   0   0   2   1   1   0   0  ...   1   0   1   0   2   0   1   \n",
      "29   0   0   1   2   0   0   0   1   0   1  ...   2   1   2   1   0   1   0   \n",
      "30   2   0   0   2   0   0   0   2   1   0  ...   0   2   0   0   1   1   2   \n",
      "31   1   2   0   0   0   0   1   0   0   0  ...   2   1   0   1   2   2   0   \n",
      "32   0   1   0   1   1   1   0   0   0   2  ...   2   0   1   0   1   0   0   \n",
      "33   0   0   0   2   2   0   0   0   2   2  ...   1   2   1   0   0   2   0   \n",
      "34   0   0   2   1   0   1   0   1   1   2  ...   2   0   1   0   0   0   2   \n",
      "35   0   1   0   0   0   0   0   0   1   1  ...   0   0   0   0   0   2   0   \n",
      "36   0   0   0   1   2   0   0   0   0   0  ...   2   0   0   0   1   2   2   \n",
      "37   0   0   1   0   0   0   1   0   0   2  ...   0   0   1   0   1   0   1   \n",
      "38   0   1   1   0   1   0   1   0   0   0  ...   1   0   0   0   0   2   0   \n",
      "39   1   2   0   0   2   2   2   0   0   1  ...   2   2   0   0   0   2   0   \n",
      "40   0   2   2   0   0   0   1   2   0   2  ...   2   1   2   0   0   0   0   \n",
      "41   2   2   1   1   0   0   2   1   0   0  ...   0   0   0   1   1   0   0   \n",
      "42   1   1   1   1   0   0   0   1   0   1  ...   0   2   0   0   1   2   2   \n",
      "43   1   1   0   0   2   1   0   2   0   0  ...   0   0   0   0   2   0   2   \n",
      "44   1   2   2   0   0   0   1   2   0   1  ...   0   2   0   2   1   2   1   \n",
      "45   0   2   2   0   1   2   0   0   2   0  ...   0   1   0   1   0   2   0   \n",
      "46   2   0   0   0   0   0   2   0   2   1  ...   2   0   1   2   0   0   1   \n",
      "47   1   2   0   1   1   2   1   1   2   2  ...   0   2   0   2   0   2   2   \n",
      "48   2   0   1   2   1   0   1   1   0   0  ...   0   0   0   2   2   2   0   \n",
      "49   1   2   0   0   1   0   2   0   0   2  ...   1   2   2   1   0   0   2   \n",
      "\n",
      "    47  48  49  \n",
      "0    1   0   0  \n",
      "1    2   2   1  \n",
      "2    0   0   1  \n",
      "3    0   1   2  \n",
      "4    2   0   2  \n",
      "5    1   2   0  \n",
      "6    0   1   2  \n",
      "7    1   0   2  \n",
      "8    1   0   0  \n",
      "9    0   0   1  \n",
      "10   2   1   0  \n",
      "11   1   1   2  \n",
      "12   2   2   0  \n",
      "13   0   0   0  \n",
      "14   0   0   0  \n",
      "15   0   0   0  \n",
      "16   0   2   0  \n",
      "17   2   0   2  \n",
      "18   0   1   0  \n",
      "19   0   1   0  \n",
      "20   0   0   0  \n",
      "21   0   0   1  \n",
      "22   2   1   2  \n",
      "23   0   1   0  \n",
      "24   2   0   2  \n",
      "25   1   1   1  \n",
      "26   0   0   0  \n",
      "27   2   0   0  \n",
      "28   0   0   0  \n",
      "29   0   2   0  \n",
      "30   1   0   0  \n",
      "31   2   2   2  \n",
      "32   2   1   1  \n",
      "33   0   1   0  \n",
      "34   0   2   2  \n",
      "35   1   0   0  \n",
      "36   2   2   0  \n",
      "37   0   0   1  \n",
      "38   1   1   0  \n",
      "39   0   2   1  \n",
      "40   1   2   2  \n",
      "41   1   2   0  \n",
      "42   2   0   2  \n",
      "43   0   0   0  \n",
      "44   0   2   0  \n",
      "45   0   2   1  \n",
      "46   2   2   0  \n",
      "47   0   1   2  \n",
      "48   1   1   0  \n",
      "49   0   0   0  \n",
      "\n",
      "[50 rows x 50 columns]\n"
     ]
    }
   ],
   "source": [
    "# Set n\n",
    "n = 50\n",
    "\n",
    "# Generate the random values with specified proportions\n",
    "values = np.random.permutation(\n",
    "    np.concatenate([\n",
    "        np.full(int(n * n * 0.5), 0),  # 50% 0's\n",
    "        np.full(int(n * n * 0.25), 1), # 25% 1's\n",
    "        np.full(int(n * n * 0.25), 2)  # 25% 2's\n",
    "    ])\n",
    ")\n",
    "\n",
    "# Reshape the values into an n x n matrix\n",
    "R = values.reshape(n, n)\n",
    "\n",
    "# Convert the matrix into a DataFrame\n",
    "df = pd.DataFrame(R)\n",
    "\n",
    "# Print the DataFrame\n",
    "print(df)"
   ]
  },
  {
   "cell_type": "markdown",
   "metadata": {
    "id": "nP6M8hfrxWUJ"
   },
   "source": [
    "* Randomly punch holes (i.e. `NA`) values in this matrix so that an each entry is missing with probability 30%."
   ]
  },
  {
   "cell_type": "code",
   "execution_count": 172,
   "metadata": {
    "colab": {
     "base_uri": "https://localhost:8080/"
    },
    "id": "ffLrQxVTydX9",
    "outputId": "971f187e-4642-4ae7-d01e-4629b165e40d"
   },
   "outputs": [
    {
     "name": "stdout",
     "output_type": "stream",
     "text": [
      "     0    1    2    3    4    5    6    7    8    9   ...   40   41   42   43  \\\n",
      "0   2.0  2.0  NaN  2.0  0.0  1.0  NaN  NaN  0.0  NaN  ...  0.0  0.0  2.0  NaN   \n",
      "1   2.0  0.0  NaN  0.0  2.0  2.0  NaN  2.0  2.0  NaN  ...  NaN  1.0  0.0  NaN   \n",
      "2   NaN  0.0  0.0  NaN  NaN  NaN  NaN  1.0  NaN  2.0  ...  NaN  1.0  0.0  0.0   \n",
      "3   0.0  0.0  2.0  NaN  1.0  0.0  0.0  NaN  2.0  NaN  ...  NaN  NaN  NaN  NaN   \n",
      "4   NaN  0.0  0.0  NaN  0.0  2.0  0.0  NaN  NaN  2.0  ...  0.0  1.0  0.0  2.0   \n",
      "5   1.0  2.0  NaN  0.0  1.0  2.0  0.0  0.0  NaN  0.0  ...  1.0  1.0  NaN  NaN   \n",
      "6   1.0  0.0  NaN  0.0  2.0  0.0  0.0  NaN  2.0  1.0  ...  NaN  0.0  2.0  0.0   \n",
      "7   2.0  NaN  NaN  1.0  0.0  NaN  0.0  2.0  2.0  2.0  ...  NaN  0.0  NaN  NaN   \n",
      "8   NaN  NaN  1.0  NaN  1.0  NaN  2.0  2.0  1.0  1.0  ...  0.0  NaN  NaN  NaN   \n",
      "9   NaN  0.0  2.0  NaN  NaN  2.0  0.0  NaN  0.0  NaN  ...  0.0  0.0  0.0  2.0   \n",
      "10  NaN  NaN  NaN  2.0  1.0  NaN  0.0  2.0  0.0  0.0  ...  NaN  NaN  0.0  2.0   \n",
      "11  0.0  NaN  0.0  NaN  0.0  1.0  2.0  1.0  0.0  NaN  ...  0.0  2.0  0.0  0.0   \n",
      "12  0.0  0.0  NaN  NaN  2.0  NaN  0.0  NaN  0.0  NaN  ...  0.0  0.0  0.0  2.0   \n",
      "13  2.0  2.0  0.0  0.0  0.0  NaN  1.0  NaN  0.0  NaN  ...  0.0  0.0  0.0  NaN   \n",
      "14  2.0  2.0  NaN  1.0  0.0  0.0  2.0  NaN  NaN  0.0  ...  0.0  NaN  NaN  0.0   \n",
      "15  1.0  NaN  NaN  0.0  1.0  1.0  NaN  NaN  0.0  NaN  ...  2.0  0.0  2.0  NaN   \n",
      "16  NaN  1.0  2.0  NaN  1.0  1.0  NaN  NaN  0.0  2.0  ...  0.0  1.0  1.0  NaN   \n",
      "17  2.0  1.0  0.0  2.0  0.0  0.0  0.0  NaN  0.0  1.0  ...  0.0  NaN  NaN  0.0   \n",
      "18  NaN  1.0  0.0  0.0  2.0  NaN  NaN  1.0  2.0  NaN  ...  2.0  0.0  0.0  0.0   \n",
      "19  NaN  0.0  2.0  1.0  2.0  2.0  0.0  NaN  0.0  2.0  ...  0.0  0.0  1.0  NaN   \n",
      "20  2.0  1.0  2.0  NaN  2.0  NaN  2.0  0.0  2.0  NaN  ...  1.0  0.0  0.0  2.0   \n",
      "21  0.0  1.0  1.0  2.0  NaN  1.0  NaN  0.0  0.0  2.0  ...  NaN  1.0  1.0  NaN   \n",
      "22  1.0  1.0  0.0  2.0  0.0  NaN  0.0  0.0  NaN  2.0  ...  NaN  NaN  0.0  0.0   \n",
      "23  NaN  NaN  NaN  NaN  0.0  1.0  2.0  NaN  1.0  NaN  ...  NaN  0.0  NaN  NaN   \n",
      "24  1.0  2.0  2.0  2.0  2.0  0.0  NaN  0.0  1.0  0.0  ...  0.0  0.0  NaN  NaN   \n",
      "25  NaN  NaN  1.0  2.0  NaN  NaN  1.0  NaN  NaN  NaN  ...  NaN  2.0  1.0  2.0   \n",
      "26  0.0  2.0  0.0  1.0  NaN  NaN  0.0  0.0  NaN  1.0  ...  0.0  0.0  NaN  1.0   \n",
      "27  0.0  NaN  2.0  1.0  NaN  0.0  1.0  NaN  0.0  2.0  ...  1.0  0.0  1.0  0.0   \n",
      "28  1.0  0.0  NaN  NaN  0.0  2.0  1.0  NaN  NaN  NaN  ...  NaN  NaN  1.0  0.0   \n",
      "29  0.0  NaN  NaN  2.0  0.0  0.0  0.0  1.0  NaN  1.0  ...  NaN  1.0  NaN  NaN   \n",
      "30  2.0  0.0  0.0  2.0  0.0  0.0  0.0  NaN  1.0  NaN  ...  0.0  2.0  0.0  NaN   \n",
      "31  NaN  2.0  0.0  NaN  0.0  0.0  1.0  0.0  0.0  0.0  ...  NaN  1.0  0.0  NaN   \n",
      "32  0.0  NaN  0.0  1.0  NaN  1.0  0.0  NaN  0.0  2.0  ...  NaN  NaN  1.0  0.0   \n",
      "33  0.0  0.0  NaN  2.0  NaN  0.0  NaN  NaN  NaN  2.0  ...  1.0  2.0  1.0  0.0   \n",
      "34  0.0  NaN  2.0  1.0  0.0  1.0  0.0  1.0  1.0  NaN  ...  2.0  NaN  1.0  0.0   \n",
      "35  0.0  NaN  0.0  0.0  NaN  0.0  NaN  NaN  1.0  1.0  ...  0.0  0.0  NaN  0.0   \n",
      "36  0.0  0.0  0.0  1.0  2.0  0.0  0.0  0.0  NaN  0.0  ...  2.0  0.0  0.0  0.0   \n",
      "37  0.0  0.0  1.0  NaN  0.0  NaN  1.0  0.0  0.0  NaN  ...  0.0  0.0  1.0  0.0   \n",
      "38  0.0  1.0  NaN  0.0  1.0  NaN  1.0  0.0  0.0  0.0  ...  NaN  0.0  NaN  0.0   \n",
      "39  1.0  NaN  0.0  NaN  2.0  2.0  2.0  0.0  NaN  NaN  ...  NaN  NaN  0.0  0.0   \n",
      "40  NaN  2.0  NaN  NaN  0.0  0.0  NaN  2.0  0.0  NaN  ...  NaN  NaN  2.0  0.0   \n",
      "41  NaN  2.0  1.0  1.0  NaN  0.0  2.0  1.0  0.0  NaN  ...  NaN  0.0  0.0  NaN   \n",
      "42  1.0  NaN  1.0  1.0  NaN  NaN  0.0  NaN  0.0  1.0  ...  0.0  NaN  0.0  0.0   \n",
      "43  NaN  1.0  0.0  0.0  2.0  1.0  0.0  2.0  NaN  NaN  ...  0.0  0.0  0.0  NaN   \n",
      "44  1.0  NaN  2.0  NaN  0.0  0.0  1.0  2.0  0.0  NaN  ...  0.0  NaN  NaN  2.0   \n",
      "45  0.0  2.0  2.0  0.0  NaN  2.0  NaN  0.0  2.0  NaN  ...  0.0  1.0  0.0  1.0   \n",
      "46  2.0  NaN  0.0  0.0  0.0  0.0  2.0  0.0  NaN  1.0  ...  2.0  0.0  NaN  2.0   \n",
      "47  1.0  NaN  NaN  1.0  1.0  2.0  NaN  1.0  2.0  2.0  ...  0.0  NaN  0.0  NaN   \n",
      "48  2.0  0.0  NaN  2.0  1.0  0.0  1.0  1.0  NaN  0.0  ...  0.0  0.0  0.0  2.0   \n",
      "49  1.0  2.0  0.0  0.0  1.0  0.0  2.0  0.0  NaN  2.0  ...  1.0  2.0  2.0  1.0   \n",
      "\n",
      "     44   45   46   47   48   49  \n",
      "0   0.0  NaN  NaN  1.0  NaN  0.0  \n",
      "1   0.0  0.0  NaN  2.0  2.0  1.0  \n",
      "2   1.0  0.0  NaN  0.0  NaN  1.0  \n",
      "3   NaN  1.0  NaN  0.0  1.0  2.0  \n",
      "4   0.0  1.0  0.0  2.0  0.0  2.0  \n",
      "5   NaN  NaN  2.0  1.0  2.0  0.0  \n",
      "6   0.0  1.0  0.0  NaN  1.0  2.0  \n",
      "7   0.0  NaN  NaN  1.0  NaN  2.0  \n",
      "8   NaN  0.0  0.0  1.0  0.0  0.0  \n",
      "9   0.0  2.0  2.0  0.0  0.0  1.0  \n",
      "10  1.0  NaN  0.0  NaN  1.0  NaN  \n",
      "11  0.0  2.0  1.0  NaN  NaN  2.0  \n",
      "12  1.0  NaN  0.0  2.0  2.0  NaN  \n",
      "13  2.0  NaN  NaN  NaN  0.0  0.0  \n",
      "14  NaN  0.0  2.0  0.0  0.0  0.0  \n",
      "15  NaN  0.0  1.0  NaN  0.0  0.0  \n",
      "16  0.0  1.0  NaN  0.0  2.0  0.0  \n",
      "17  0.0  1.0  2.0  2.0  NaN  2.0  \n",
      "18  0.0  1.0  NaN  0.0  NaN  0.0  \n",
      "19  NaN  0.0  0.0  NaN  NaN  NaN  \n",
      "20  0.0  NaN  NaN  0.0  0.0  0.0  \n",
      "21  0.0  NaN  1.0  0.0  NaN  1.0  \n",
      "22  0.0  0.0  0.0  2.0  1.0  2.0  \n",
      "23  1.0  0.0  NaN  NaN  1.0  NaN  \n",
      "24  0.0  2.0  NaN  2.0  0.0  2.0  \n",
      "25  NaN  1.0  NaN  1.0  1.0  1.0  \n",
      "26  NaN  0.0  0.0  0.0  0.0  0.0  \n",
      "27  2.0  NaN  NaN  2.0  0.0  NaN  \n",
      "28  2.0  NaN  NaN  0.0  0.0  0.0  \n",
      "29  NaN  NaN  0.0  0.0  2.0  0.0  \n",
      "30  1.0  1.0  NaN  1.0  0.0  0.0  \n",
      "31  NaN  NaN  NaN  2.0  NaN  2.0  \n",
      "32  NaN  0.0  0.0  2.0  1.0  NaN  \n",
      "33  0.0  NaN  NaN  0.0  1.0  0.0  \n",
      "34  NaN  0.0  2.0  NaN  2.0  NaN  \n",
      "35  0.0  2.0  0.0  1.0  NaN  0.0  \n",
      "36  NaN  2.0  NaN  2.0  2.0  0.0  \n",
      "37  NaN  0.0  NaN  0.0  0.0  1.0  \n",
      "38  NaN  2.0  0.0  NaN  1.0  0.0  \n",
      "39  NaN  NaN  NaN  NaN  2.0  1.0  \n",
      "40  0.0  0.0  0.0  1.0  2.0  NaN  \n",
      "41  NaN  NaN  NaN  1.0  2.0  NaN  \n",
      "42  1.0  2.0  NaN  2.0  0.0  NaN  \n",
      "43  2.0  NaN  NaN  NaN  0.0  0.0  \n",
      "44  1.0  NaN  1.0  0.0  NaN  0.0  \n",
      "45  0.0  2.0  NaN  0.0  2.0  1.0  \n",
      "46  0.0  NaN  NaN  2.0  2.0  0.0  \n",
      "47  0.0  2.0  NaN  0.0  1.0  2.0  \n",
      "48  2.0  2.0  0.0  1.0  1.0  0.0  \n",
      "49  NaN  NaN  2.0  0.0  0.0  0.0  \n",
      "\n",
      "[50 rows x 50 columns]\n"
     ]
    }
   ],
   "source": [
    "# Convert to float to allow NaN\n",
    "df = df.astype(float)\n",
    "\n",
    "# Randomly punch holes with 30% probability\n",
    "mask = np.random.choice([True, False], size=df.shape, p=[0.3, 0.7])\n",
    "df[mask] = np.nan\n",
    "\n",
    "# View the resulting DataFrame\n",
    "print(df)"
   ]
  },
  {
   "cell_type": "code",
   "execution_count": 173,
   "metadata": {
    "colab": {
     "base_uri": "https://localhost:8080/"
    },
    "id": "LaCZ-_c4xPxp",
    "outputId": "198e2ee0-f845-4ec5-ae0d-10fe2ebc0aae"
   },
   "outputs": [
    {
     "name": "stdout",
     "output_type": "stream",
     "text": [
      "     0    1    2    3    4    5    6    7    8    9   ...   40   41   42   43  \\\n",
      "0   NaN  1.0  0.0  NaN  NaN  NaN  1.0  2.0  NaN  0.0  ...  0.0  0.0  0.0  NaN   \n",
      "1   NaN  NaN  NaN  0.0  NaN  1.0  2.0  0.0  NaN  0.0  ...  1.0  2.0  0.0  NaN   \n",
      "2   2.0  0.0  0.0  NaN  NaN  NaN  0.0  2.0  NaN  NaN  ...  1.0  0.0  1.0  NaN   \n",
      "3   2.0  NaN  2.0  0.0  0.0  1.0  NaN  NaN  NaN  1.0  ...  0.0  0.0  NaN  0.0   \n",
      "4   NaN  2.0  NaN  NaN  0.0  0.0  0.0  1.0  NaN  1.0  ...  0.0  0.0  NaN  1.0   \n",
      "5   NaN  0.0  2.0  NaN  0.0  NaN  0.0  1.0  NaN  0.0  ...  1.0  NaN  NaN  2.0   \n",
      "6   0.0  0.0  0.0  NaN  2.0  0.0  1.0  NaN  0.0  1.0  ...  0.0  0.0  1.0  0.0   \n",
      "7   NaN  1.0  1.0  NaN  2.0  NaN  0.0  0.0  0.0  NaN  ...  2.0  NaN  0.0  2.0   \n",
      "8   2.0  2.0  2.0  NaN  0.0  NaN  2.0  NaN  0.0  1.0  ...  NaN  0.0  2.0  NaN   \n",
      "9   0.0  1.0  2.0  0.0  2.0  1.0  1.0  2.0  0.0  0.0  ...  1.0  1.0  NaN  2.0   \n",
      "10  1.0  2.0  1.0  NaN  1.0  2.0  0.0  NaN  0.0  0.0  ...  0.0  NaN  NaN  NaN   \n",
      "11  1.0  NaN  0.0  NaN  0.0  0.0  2.0  0.0  NaN  0.0  ...  2.0  0.0  0.0  0.0   \n",
      "12  2.0  0.0  0.0  1.0  1.0  0.0  0.0  NaN  NaN  0.0  ...  2.0  0.0  0.0  1.0   \n",
      "13  0.0  2.0  2.0  1.0  2.0  NaN  0.0  NaN  0.0  1.0  ...  2.0  0.0  2.0  0.0   \n",
      "14  1.0  NaN  NaN  2.0  1.0  2.0  2.0  0.0  0.0  NaN  ...  0.0  NaN  1.0  2.0   \n",
      "15  0.0  1.0  NaN  NaN  NaN  0.0  0.0  2.0  2.0  2.0  ...  NaN  2.0  2.0  0.0   \n",
      "16  0.0  NaN  0.0  0.0  0.0  1.0  NaN  NaN  0.0  2.0  ...  NaN  0.0  0.0  1.0   \n",
      "17  NaN  2.0  NaN  0.0  1.0  2.0  NaN  0.0  0.0  1.0  ...  NaN  2.0  0.0  NaN   \n",
      "18  1.0  NaN  0.0  NaN  2.0  2.0  NaN  0.0  NaN  0.0  ...  1.0  NaN  NaN  NaN   \n",
      "19  NaN  2.0  NaN  NaN  0.0  2.0  0.0  NaN  1.0  NaN  ...  0.0  2.0  0.0  0.0   \n",
      "20  2.0  2.0  1.0  2.0  NaN  0.0  2.0  2.0  NaN  NaN  ...  0.0  0.0  2.0  NaN   \n",
      "21  0.0  0.0  NaN  1.0  1.0  NaN  1.0  2.0  2.0  1.0  ...  0.0  1.0  1.0  0.0   \n",
      "22  NaN  NaN  NaN  0.0  0.0  0.0  0.0  NaN  1.0  0.0  ...  1.0  1.0  0.0  0.0   \n",
      "23  2.0  0.0  1.0  1.0  NaN  NaN  NaN  NaN  1.0  0.0  ...  0.0  NaN  0.0  0.0   \n",
      "24  0.0  2.0  1.0  0.0  0.0  1.0  0.0  1.0  0.0  NaN  ...  NaN  NaN  0.0  1.0   \n",
      "25  0.0  0.0  0.0  0.0  NaN  1.0  0.0  NaN  0.0  NaN  ...  0.0  1.0  2.0  2.0   \n",
      "26  2.0  1.0  NaN  1.0  0.0  0.0  NaN  1.0  1.0  NaN  ...  0.0  1.0  0.0  2.0   \n",
      "27  NaN  0.0  0.0  2.0  2.0  2.0  1.0  2.0  0.0  0.0  ...  2.0  NaN  2.0  NaN   \n",
      "28  1.0  0.0  2.0  0.0  0.0  NaN  0.0  0.0  2.0  0.0  ...  0.0  NaN  1.0  2.0   \n",
      "29  0.0  NaN  NaN  1.0  0.0  0.0  0.0  0.0  0.0  0.0  ...  0.0  2.0  NaN  0.0   \n",
      "30  0.0  2.0  0.0  NaN  2.0  NaN  1.0  2.0  1.0  2.0  ...  1.0  0.0  NaN  2.0   \n",
      "31  0.0  NaN  0.0  2.0  NaN  0.0  2.0  0.0  0.0  2.0  ...  0.0  1.0  NaN  2.0   \n",
      "32  1.0  NaN  NaN  1.0  2.0  2.0  NaN  2.0  2.0  1.0  ...  NaN  1.0  NaN  2.0   \n",
      "33  0.0  1.0  NaN  0.0  1.0  0.0  0.0  0.0  0.0  NaN  ...  0.0  NaN  1.0  0.0   \n",
      "34  NaN  1.0  0.0  0.0  0.0  NaN  1.0  2.0  0.0  2.0  ...  2.0  0.0  0.0  0.0   \n",
      "35  0.0  NaN  1.0  0.0  NaN  0.0  1.0  0.0  0.0  NaN  ...  NaN  NaN  NaN  1.0   \n",
      "36  NaN  NaN  1.0  0.0  0.0  1.0  NaN  NaN  NaN  1.0  ...  2.0  NaN  1.0  NaN   \n",
      "37  0.0  0.0  1.0  0.0  0.0  0.0  2.0  0.0  1.0  0.0  ...  NaN  2.0  0.0  2.0   \n",
      "38  0.0  0.0  0.0  2.0  0.0  0.0  NaN  0.0  NaN  NaN  ...  1.0  0.0  0.0  2.0   \n",
      "39  0.0  0.0  0.0  NaN  2.0  NaN  0.0  1.0  NaN  0.0  ...  1.0  0.0  NaN  0.0   \n",
      "40  NaN  2.0  0.0  NaN  2.0  1.0  2.0  2.0  2.0  NaN  ...  NaN  0.0  1.0  NaN   \n",
      "41  0.0  NaN  NaN  NaN  NaN  1.0  2.0  NaN  2.0  NaN  ...  0.0  1.0  2.0  1.0   \n",
      "42  0.0  0.0  NaN  1.0  0.0  NaN  2.0  1.0  1.0  1.0  ...  0.0  0.0  0.0  1.0   \n",
      "43  0.0  1.0  NaN  NaN  NaN  0.0  1.0  1.0  0.0  NaN  ...  NaN  2.0  0.0  NaN   \n",
      "44  0.0  NaN  NaN  0.0  0.0  NaN  NaN  1.0  2.0  0.0  ...  0.0  NaN  0.0  1.0   \n",
      "45  NaN  0.0  1.0  NaN  NaN  2.0  0.0  0.0  2.0  NaN  ...  0.0  2.0  1.0  1.0   \n",
      "46  NaN  1.0  NaN  1.0  NaN  0.0  0.0  2.0  1.0  0.0  ...  NaN  1.0  NaN  NaN   \n",
      "47  0.0  0.0  0.0  0.0  0.0  0.0  0.0  0.0  NaN  0.0  ...  0.0  1.0  2.0  0.0   \n",
      "48  NaN  NaN  NaN  0.0  0.0  0.0  2.0  2.0  NaN  NaN  ...  0.0  0.0  1.0  NaN   \n",
      "49  0.0  NaN  NaN  2.0  0.0  2.0  NaN  0.0  2.0  0.0  ...  NaN  NaN  NaN  NaN   \n",
      "\n",
      "     44   45   46   47   48   49  \n",
      "0   2.0  1.0  2.0  2.0  NaN  1.0  \n",
      "1   2.0  NaN  0.0  0.0  1.0  2.0  \n",
      "2   NaN  NaN  NaN  2.0  2.0  0.0  \n",
      "3   NaN  NaN  NaN  0.0  NaN  2.0  \n",
      "4   NaN  0.0  0.0  NaN  NaN  2.0  \n",
      "5   0.0  NaN  NaN  2.0  0.0  1.0  \n",
      "6   NaN  2.0  0.0  0.0  NaN  NaN  \n",
      "7   2.0  1.0  NaN  0.0  2.0  NaN  \n",
      "8   0.0  1.0  0.0  NaN  1.0  NaN  \n",
      "9   1.0  NaN  0.0  NaN  NaN  1.0  \n",
      "10  NaN  NaN  NaN  1.0  NaN  1.0  \n",
      "11  1.0  1.0  1.0  0.0  2.0  0.0  \n",
      "12  0.0  0.0  NaN  NaN  0.0  NaN  \n",
      "13  NaN  0.0  2.0  1.0  2.0  2.0  \n",
      "14  NaN  1.0  0.0  2.0  1.0  0.0  \n",
      "15  0.0  NaN  2.0  0.0  1.0  0.0  \n",
      "16  2.0  NaN  1.0  2.0  0.0  NaN  \n",
      "17  0.0  NaN  0.0  NaN  2.0  2.0  \n",
      "18  0.0  0.0  NaN  1.0  2.0  0.0  \n",
      "19  1.0  0.0  0.0  0.0  0.0  0.0  \n",
      "20  0.0  2.0  NaN  2.0  NaN  2.0  \n",
      "21  0.0  0.0  NaN  NaN  0.0  0.0  \n",
      "22  2.0  1.0  0.0  NaN  0.0  0.0  \n",
      "23  2.0  0.0  1.0  2.0  0.0  1.0  \n",
      "24  0.0  2.0  NaN  NaN  1.0  1.0  \n",
      "25  1.0  1.0  0.0  1.0  0.0  0.0  \n",
      "26  2.0  0.0  2.0  1.0  NaN  0.0  \n",
      "27  0.0  2.0  1.0  NaN  NaN  NaN  \n",
      "28  0.0  0.0  0.0  0.0  2.0  0.0  \n",
      "29  1.0  NaN  1.0  NaN  0.0  0.0  \n",
      "30  NaN  NaN  1.0  0.0  NaN  NaN  \n",
      "31  NaN  NaN  NaN  0.0  1.0  NaN  \n",
      "32  NaN  2.0  0.0  2.0  0.0  NaN  \n",
      "33  0.0  1.0  NaN  2.0  1.0  NaN  \n",
      "34  0.0  0.0  0.0  1.0  NaN  0.0  \n",
      "35  NaN  NaN  NaN  NaN  0.0  0.0  \n",
      "36  NaN  0.0  NaN  NaN  1.0  0.0  \n",
      "37  0.0  NaN  NaN  0.0  2.0  2.0  \n",
      "38  0.0  2.0  2.0  0.0  0.0  0.0  \n",
      "39  0.0  NaN  NaN  NaN  1.0  NaN  \n",
      "40  2.0  1.0  2.0  2.0  0.0  1.0  \n",
      "41  1.0  0.0  NaN  NaN  NaN  1.0  \n",
      "42  2.0  NaN  NaN  2.0  0.0  0.0  \n",
      "43  NaN  2.0  2.0  0.0  0.0  2.0  \n",
      "44  NaN  1.0  NaN  0.0  0.0  NaN  \n",
      "45  1.0  NaN  0.0  NaN  1.0  2.0  \n",
      "46  1.0  1.0  0.0  0.0  NaN  NaN  \n",
      "47  NaN  NaN  0.0  1.0  1.0  1.0  \n",
      "48  NaN  1.0  2.0  2.0  0.0  0.0  \n",
      "49  NaN  0.0  0.0  0.0  2.0  1.0  \n",
      "\n",
      "[50 rows x 50 columns]\n"
     ]
    }
   ],
   "source": [
    "# Set matrix dimensions and proportions\n",
    "n = 50\n",
    "values = np.random.permutation(\n",
    "    np.concatenate([\n",
    "        np.full(int(n * n * 0.5), 0),  # 50% 0's\n",
    "        np.full(int(n * n * 0.25), 1), # 25% 1's\n",
    "        np.full(int(n * n * 0.25), 2)  # 25% 2's\n",
    "    ])\n",
    ")\n",
    "\n",
    "# Reshape the matrix\n",
    "R = values.reshape(n, n)\n",
    "\n",
    "# Create a mask for punching holes with a 30% probability\n",
    "random_holes = np.random.choice([True, False], size=(n, n), p=[0.3, 0.7])\n",
    "\n",
    "# Assign NaN to the corresponding positions\n",
    "R = R.astype(float)  # Convert to float to support NaN\n",
    "R[random_holes] = np.nan\n",
    "\n",
    "# Convert to DataFrame\n",
    "df = pd.DataFrame(R)\n",
    "\n",
    "\n",
    "print(df)\n"
   ]
  },
  {
   "cell_type": "markdown",
   "metadata": {
    "id": "trL0Ltu4yp9m"
   },
   "source": [
    "* Sort the rows in matrix `R` by the largest row sum to lowest. Be careful about the NA's!"
   ]
  },
  {
   "cell_type": "code",
   "execution_count": 174,
   "metadata": {
    "colab": {
     "base_uri": "https://localhost:8080/"
    },
    "id": "QGPEL3Ba1ana",
    "outputId": "5fed490c-5567-42dd-f607-495500c373ed"
   },
   "outputs": [
    {
     "data": {
      "text/plain": [
       "array([40, 20, 14,  5, 41, 26, 48,  7, 15, 30, 42, 44,  1,  6, 45,  9, 47,\n",
       "       32, 27, 16, 17,  2, 23, 10, 37, 11, 29, 13, 34,  0, 33, 24,  8, 28,\n",
       "       25, 39,  3, 21, 31, 18, 12, 46,  4, 49, 22, 38, 43, 36, 35, 19],\n",
       "      dtype=int64)"
      ]
     },
     "execution_count": 174,
     "metadata": {},
     "output_type": "execute_result"
    }
   ],
   "source": [
    "#compute row sums, ignoring NaN values\n",
    "row_sum=np.nansum(R, axis=1)\n",
    "\n",
    "#get the row indices sorted by largest rowsum to smallest\n",
    "row_sort = np.argsort(-row_sum)\n",
    "row_sort"
   ]
  },
  {
   "cell_type": "markdown",
   "metadata": {
    "id": "1T_tkkym9FIP"
   },
   "source": [
    "* Python does not have an apply function. Instead use the nanstd function in numpy to calculate the standard devation of each column. Print them and combine then into a dataframe."
   ]
  },
  {
   "cell_type": "code",
   "execution_count": 176,
   "metadata": {},
   "outputs": [
    {
     "name": "stdout",
     "output_type": "stream",
     "text": [
      "[0.8422247684280209, 0.7752936520529368, 0.81967981553775, 0.8411874071229224, 0.8454843286542927, 0.8833308765689106, 0.8426193117902646, 0.9187391537607729, 0.8190839013800723, 0.8439143072757396, 0.8324830903589637, 0.9051717723725149, 0.7709571972554637, 0.9131223741405675, 0.8778452283278408, 0.866524697803308, 0.8202679477907445, 0.888015443881146, 0.7907630001770314, 0.7180219742846006, 0.8744746321952062, 0.6718812375489759, 0.7915448249319448, 0.7592027982620249, 0.7752936520529368, 0.7405919620773836, 0.8542809364414888, 0.888015443881146, 0.871207650381413, 0.7888273965266452, 0.8298826628866153, 0.8786992562500797, 0.8534606386520677, 0.7729918727608158, 0.7888273965266452, 0.6813851438692469, 0.7319250547113999, 0.7842895215030988, 0.7794197001831111, 0.8265564664839913, 0.8655798028268269, 0.8027894294360562, 0.8741060339889853, 0.7282010825376439, 0.8447886244908865, 0.8425917976695477, 0.7591617288906527, 0.7766431633476234, 0.8542809364414888, 0.886950134507582]\n",
      "[0.8030553898602971, 0.8447886244908864, 0.7782153601170851, 0.7749747979773278, 0.8657090474619985, 0.82915619758885, 0.8527327768367126, 0.8815949421783832, 0.8398250546685182, 0.732347035175808, 0.5938156952201642, 0.8022459821756384, 0.8548156974127291, 0.8989790127172728, 0.7591617288906528, 0.8387398581433911, 0.906675440164851, 0.8198915917499228, 0.8324830903589637, 0.9040262963743212, 0.7360580485752194, 0.8538789577942649, 0.7385964333504628, 0.8092244995410355, 0.7925880161413612, 0.8870956969291443, 0.7690046994211831, 0.8339053308400819, 0.8486587103472158, 0.826104702560055, 0.7480190542215159, 0.9051717723725149, 0.8463175784102389, 0.7761362712039818, 0.823529411764706, 0.8065476000471816, 0.8330289193201319, 0.8439143072757395, 0.8076779989575054, 0.8124038404635961, 0.7793206786821497, 0.8031573497111643, 0.8031573497111643, 0.8599952539024234, 0.844144744071765, 0.7680128579652817, 0.8498025724077091, 0.8870956969291443, 0.8099094088525239, 0.8188787787861145]\n",
      "Count of non-NaN values in row_sd: 50\n",
      "Count of non-NaN values in col_sd: 50\n"
     ]
    }
   ],
   "source": [
    "#compute row-wise and column-wise standard deviation\n",
    "row_sd = np.nanstd(R, axis=1)\n",
    "col_sd = np.nanstd(R, axis=0)\n",
    "\n",
    "#combine the results into a dictionary\n",
    "result = {\"row_sd\": row_sd.tolist(), \"col_sd\": col_sd.tolist()} \n",
    "\n",
    "#Print the results\n",
    "print(result[\"row_sd\"])\n",
    "print(result[\"col_sd\"])\n",
    "\n",
    "\n",
    "row_sd_count = sum(~np.isnan(result[\"row_sd\"]))\n",
    "col_sd_count = sum(~np.isnan(result[\"col_sd\"]))  # Count of valid values in col_sd\n",
    "\n",
    "#Print the counts\n",
    "print(\"Count of non-NaN values in row_sd:\", row_sd_count)\n",
    "print(\"Count of non-NaN values in col_sd:\", col_sd_count)"
   ]
  },
  {
   "cell_type": "markdown",
   "metadata": {},
   "source": [
    "* combine the results from the previous cell into a dataframe"
   ]
  },
  {
   "cell_type": "code",
   "execution_count": 177,
   "metadata": {
    "colab": {
     "base_uri": "https://localhost:8080/",
     "height": 1000
    },
    "id": "ZT3Gzrcm5pR2",
    "outputId": "89a7707e-c0e9-45be-cf24-8d7193609bae"
   },
   "outputs": [
    {
     "data": {
      "text/html": [
       "<div>\n",
       "<style scoped>\n",
       "    .dataframe tbody tr th:only-of-type {\n",
       "        vertical-align: middle;\n",
       "    }\n",
       "\n",
       "    .dataframe tbody tr th {\n",
       "        vertical-align: top;\n",
       "    }\n",
       "\n",
       "    .dataframe thead th {\n",
       "        text-align: right;\n",
       "    }\n",
       "</style>\n",
       "<table border=\"1\" class=\"dataframe\">\n",
       "  <thead>\n",
       "    <tr style=\"text-align: right;\">\n",
       "      <th></th>\n",
       "      <th>row_sd</th>\n",
       "      <th>col_sd</th>\n",
       "    </tr>\n",
       "  </thead>\n",
       "  <tbody>\n",
       "    <tr>\n",
       "      <th>0</th>\n",
       "      <td>0.842225</td>\n",
       "      <td>0.803055</td>\n",
       "    </tr>\n",
       "    <tr>\n",
       "      <th>1</th>\n",
       "      <td>0.775294</td>\n",
       "      <td>0.844789</td>\n",
       "    </tr>\n",
       "    <tr>\n",
       "      <th>2</th>\n",
       "      <td>0.819680</td>\n",
       "      <td>0.778215</td>\n",
       "    </tr>\n",
       "    <tr>\n",
       "      <th>3</th>\n",
       "      <td>0.841187</td>\n",
       "      <td>0.774975</td>\n",
       "    </tr>\n",
       "    <tr>\n",
       "      <th>4</th>\n",
       "      <td>0.845484</td>\n",
       "      <td>0.865709</td>\n",
       "    </tr>\n",
       "    <tr>\n",
       "      <th>5</th>\n",
       "      <td>0.883331</td>\n",
       "      <td>0.829156</td>\n",
       "    </tr>\n",
       "    <tr>\n",
       "      <th>6</th>\n",
       "      <td>0.842619</td>\n",
       "      <td>0.852733</td>\n",
       "    </tr>\n",
       "    <tr>\n",
       "      <th>7</th>\n",
       "      <td>0.918739</td>\n",
       "      <td>0.881595</td>\n",
       "    </tr>\n",
       "    <tr>\n",
       "      <th>8</th>\n",
       "      <td>0.819084</td>\n",
       "      <td>0.839825</td>\n",
       "    </tr>\n",
       "    <tr>\n",
       "      <th>9</th>\n",
       "      <td>0.843914</td>\n",
       "      <td>0.732347</td>\n",
       "    </tr>\n",
       "    <tr>\n",
       "      <th>10</th>\n",
       "      <td>0.832483</td>\n",
       "      <td>0.593816</td>\n",
       "    </tr>\n",
       "    <tr>\n",
       "      <th>11</th>\n",
       "      <td>0.905172</td>\n",
       "      <td>0.802246</td>\n",
       "    </tr>\n",
       "    <tr>\n",
       "      <th>12</th>\n",
       "      <td>0.770957</td>\n",
       "      <td>0.854816</td>\n",
       "    </tr>\n",
       "    <tr>\n",
       "      <th>13</th>\n",
       "      <td>0.913122</td>\n",
       "      <td>0.898979</td>\n",
       "    </tr>\n",
       "    <tr>\n",
       "      <th>14</th>\n",
       "      <td>0.877845</td>\n",
       "      <td>0.759162</td>\n",
       "    </tr>\n",
       "    <tr>\n",
       "      <th>15</th>\n",
       "      <td>0.866525</td>\n",
       "      <td>0.838740</td>\n",
       "    </tr>\n",
       "    <tr>\n",
       "      <th>16</th>\n",
       "      <td>0.820268</td>\n",
       "      <td>0.906675</td>\n",
       "    </tr>\n",
       "    <tr>\n",
       "      <th>17</th>\n",
       "      <td>0.888015</td>\n",
       "      <td>0.819892</td>\n",
       "    </tr>\n",
       "    <tr>\n",
       "      <th>18</th>\n",
       "      <td>0.790763</td>\n",
       "      <td>0.832483</td>\n",
       "    </tr>\n",
       "    <tr>\n",
       "      <th>19</th>\n",
       "      <td>0.718022</td>\n",
       "      <td>0.904026</td>\n",
       "    </tr>\n",
       "    <tr>\n",
       "      <th>20</th>\n",
       "      <td>0.874475</td>\n",
       "      <td>0.736058</td>\n",
       "    </tr>\n",
       "    <tr>\n",
       "      <th>21</th>\n",
       "      <td>0.671881</td>\n",
       "      <td>0.853879</td>\n",
       "    </tr>\n",
       "    <tr>\n",
       "      <th>22</th>\n",
       "      <td>0.791545</td>\n",
       "      <td>0.738596</td>\n",
       "    </tr>\n",
       "    <tr>\n",
       "      <th>23</th>\n",
       "      <td>0.759203</td>\n",
       "      <td>0.809224</td>\n",
       "    </tr>\n",
       "    <tr>\n",
       "      <th>24</th>\n",
       "      <td>0.775294</td>\n",
       "      <td>0.792588</td>\n",
       "    </tr>\n",
       "    <tr>\n",
       "      <th>25</th>\n",
       "      <td>0.740592</td>\n",
       "      <td>0.887096</td>\n",
       "    </tr>\n",
       "    <tr>\n",
       "      <th>26</th>\n",
       "      <td>0.854281</td>\n",
       "      <td>0.769005</td>\n",
       "    </tr>\n",
       "    <tr>\n",
       "      <th>27</th>\n",
       "      <td>0.888015</td>\n",
       "      <td>0.833905</td>\n",
       "    </tr>\n",
       "    <tr>\n",
       "      <th>28</th>\n",
       "      <td>0.871208</td>\n",
       "      <td>0.848659</td>\n",
       "    </tr>\n",
       "    <tr>\n",
       "      <th>29</th>\n",
       "      <td>0.788827</td>\n",
       "      <td>0.826105</td>\n",
       "    </tr>\n",
       "    <tr>\n",
       "      <th>30</th>\n",
       "      <td>0.829883</td>\n",
       "      <td>0.748019</td>\n",
       "    </tr>\n",
       "    <tr>\n",
       "      <th>31</th>\n",
       "      <td>0.878699</td>\n",
       "      <td>0.905172</td>\n",
       "    </tr>\n",
       "    <tr>\n",
       "      <th>32</th>\n",
       "      <td>0.853461</td>\n",
       "      <td>0.846318</td>\n",
       "    </tr>\n",
       "    <tr>\n",
       "      <th>33</th>\n",
       "      <td>0.772992</td>\n",
       "      <td>0.776136</td>\n",
       "    </tr>\n",
       "    <tr>\n",
       "      <th>34</th>\n",
       "      <td>0.788827</td>\n",
       "      <td>0.823529</td>\n",
       "    </tr>\n",
       "    <tr>\n",
       "      <th>35</th>\n",
       "      <td>0.681385</td>\n",
       "      <td>0.806548</td>\n",
       "    </tr>\n",
       "    <tr>\n",
       "      <th>36</th>\n",
       "      <td>0.731925</td>\n",
       "      <td>0.833029</td>\n",
       "    </tr>\n",
       "    <tr>\n",
       "      <th>37</th>\n",
       "      <td>0.784290</td>\n",
       "      <td>0.843914</td>\n",
       "    </tr>\n",
       "    <tr>\n",
       "      <th>38</th>\n",
       "      <td>0.779420</td>\n",
       "      <td>0.807678</td>\n",
       "    </tr>\n",
       "    <tr>\n",
       "      <th>39</th>\n",
       "      <td>0.826556</td>\n",
       "      <td>0.812404</td>\n",
       "    </tr>\n",
       "    <tr>\n",
       "      <th>40</th>\n",
       "      <td>0.865580</td>\n",
       "      <td>0.779321</td>\n",
       "    </tr>\n",
       "    <tr>\n",
       "      <th>41</th>\n",
       "      <td>0.802789</td>\n",
       "      <td>0.803157</td>\n",
       "    </tr>\n",
       "    <tr>\n",
       "      <th>42</th>\n",
       "      <td>0.874106</td>\n",
       "      <td>0.803157</td>\n",
       "    </tr>\n",
       "    <tr>\n",
       "      <th>43</th>\n",
       "      <td>0.728201</td>\n",
       "      <td>0.859995</td>\n",
       "    </tr>\n",
       "    <tr>\n",
       "      <th>44</th>\n",
       "      <td>0.844789</td>\n",
       "      <td>0.844145</td>\n",
       "    </tr>\n",
       "    <tr>\n",
       "      <th>45</th>\n",
       "      <td>0.842592</td>\n",
       "      <td>0.768013</td>\n",
       "    </tr>\n",
       "    <tr>\n",
       "      <th>46</th>\n",
       "      <td>0.759162</td>\n",
       "      <td>0.849803</td>\n",
       "    </tr>\n",
       "    <tr>\n",
       "      <th>47</th>\n",
       "      <td>0.776643</td>\n",
       "      <td>0.887096</td>\n",
       "    </tr>\n",
       "    <tr>\n",
       "      <th>48</th>\n",
       "      <td>0.854281</td>\n",
       "      <td>0.809909</td>\n",
       "    </tr>\n",
       "    <tr>\n",
       "      <th>49</th>\n",
       "      <td>0.886950</td>\n",
       "      <td>0.818879</td>\n",
       "    </tr>\n",
       "  </tbody>\n",
       "</table>\n",
       "</div>"
      ],
      "text/plain": [
       "      row_sd    col_sd\n",
       "0   0.842225  0.803055\n",
       "1   0.775294  0.844789\n",
       "2   0.819680  0.778215\n",
       "3   0.841187  0.774975\n",
       "4   0.845484  0.865709\n",
       "5   0.883331  0.829156\n",
       "6   0.842619  0.852733\n",
       "7   0.918739  0.881595\n",
       "8   0.819084  0.839825\n",
       "9   0.843914  0.732347\n",
       "10  0.832483  0.593816\n",
       "11  0.905172  0.802246\n",
       "12  0.770957  0.854816\n",
       "13  0.913122  0.898979\n",
       "14  0.877845  0.759162\n",
       "15  0.866525  0.838740\n",
       "16  0.820268  0.906675\n",
       "17  0.888015  0.819892\n",
       "18  0.790763  0.832483\n",
       "19  0.718022  0.904026\n",
       "20  0.874475  0.736058\n",
       "21  0.671881  0.853879\n",
       "22  0.791545  0.738596\n",
       "23  0.759203  0.809224\n",
       "24  0.775294  0.792588\n",
       "25  0.740592  0.887096\n",
       "26  0.854281  0.769005\n",
       "27  0.888015  0.833905\n",
       "28  0.871208  0.848659\n",
       "29  0.788827  0.826105\n",
       "30  0.829883  0.748019\n",
       "31  0.878699  0.905172\n",
       "32  0.853461  0.846318\n",
       "33  0.772992  0.776136\n",
       "34  0.788827  0.823529\n",
       "35  0.681385  0.806548\n",
       "36  0.731925  0.833029\n",
       "37  0.784290  0.843914\n",
       "38  0.779420  0.807678\n",
       "39  0.826556  0.812404\n",
       "40  0.865580  0.779321\n",
       "41  0.802789  0.803157\n",
       "42  0.874106  0.803157\n",
       "43  0.728201  0.859995\n",
       "44  0.844789  0.844145\n",
       "45  0.842592  0.768013\n",
       "46  0.759162  0.849803\n",
       "47  0.776643  0.887096\n",
       "48  0.854281  0.809909\n",
       "49  0.886950  0.818879"
      ]
     },
     "execution_count": 177,
     "metadata": {},
     "output_type": "execute_result"
    }
   ],
   "source": [
    "sd_df=pd.DataFrame({\"row_sd\": row_sd.tolist(), \"col_sd\": col_sd.tolist()})\n",
    "sd_df"
   ]
  },
  {
   "cell_type": "markdown",
   "metadata": {
    "id": "L-A7Cfa98DDg"
   },
   "source": [
    "* Use the Pandas apply function to compute a vector whose entries are the count of entries that are 1 or 2 in each column"
   ]
  },
  {
   "cell_type": "code",
   "execution_count": 178,
   "metadata": {
    "colab": {
     "base_uri": "https://localhost:8080/"
    },
    "id": "54XfftmJ77oY",
    "outputId": "8baa21e3-58dc-4348-d205-288750a36dd2"
   },
   "outputs": [
    {
     "name": "stdout",
     "output_type": "stream",
     "text": [
      "0     13\n",
      "1     19\n",
      "2     15\n",
      "3     15\n",
      "4     16\n",
      "5     18\n",
      "6     20\n",
      "7     21\n",
      "8     17\n",
      "9     15\n",
      "10    10\n",
      "11    24\n",
      "12    14\n",
      "13    18\n",
      "14    20\n",
      "15    19\n",
      "16    16\n",
      "17    17\n",
      "18    22\n",
      "19    19\n",
      "20    15\n",
      "21    11\n",
      "22    19\n",
      "23    20\n",
      "24    12\n",
      "25    19\n",
      "26    19\n",
      "27    17\n",
      "28    18\n",
      "29    15\n",
      "30    17\n",
      "31    21\n",
      "32    13\n",
      "33    14\n",
      "34    16\n",
      "35    18\n",
      "36    20\n",
      "37    16\n",
      "38    18\n",
      "39    22\n",
      "40    16\n",
      "41    18\n",
      "42    18\n",
      "43    21\n",
      "44    17\n",
      "45    19\n",
      "46    14\n",
      "47    19\n",
      "48    20\n",
      "49    19\n",
      "dtype: int64\n"
     ]
    }
   ],
   "source": [
    "R = pd.DataFrame(R)\n",
    "#Compute the count of 1's and 2's in each column\n",
    "counts = R.apply(lambda col: ((col == 1) | (col == 2)).sum(), axis=0)\n",
    "\n",
    "#Print the counts\n",
    "print(counts)"
   ]
  },
  {
   "cell_type": "markdown",
   "metadata": {
    "id": "YGsPbNYnGw7b"
   },
   "source": [
    "Since we just switched between Pandas dataframes and Numpy arrays. Here are some handy ways to check to see if you are working with a Pandas dataframe or a Numpy array"
   ]
  },
  {
   "cell_type": "code",
   "execution_count": 179,
   "metadata": {
    "colab": {
     "base_uri": "https://localhost:8080/"
    },
    "id": "XIaPkMlqHaN4",
    "outputId": "a1564ca8-68a0-4696-ac53-d7283a2bd919"
   },
   "outputs": [
    {
     "name": "stdout",
     "output_type": "stream",
     "text": [
      "R is a Pandas DataFrame\n"
     ]
    }
   ],
   "source": [
    "# Check type directly\n",
    "if type(R) == pd.DataFrame:\n",
    "    print(\"R is a Pandas DataFrame\")\n",
    "\n",
    "if type(R) == np.ndarray:\n",
    "    print(\"R is a NumPy array\")"
   ]
  },
  {
   "cell_type": "code",
   "execution_count": 180,
   "metadata": {
    "colab": {
     "base_uri": "https://localhost:8080/"
    },
    "id": "TbnwGrJzGAjI",
    "outputId": "54de6748-d7e4-420e-fb7e-3719496a1c90"
   },
   "outputs": [
    {
     "name": "stdout",
     "output_type": "stream",
     "text": [
      "Pandas DataFrame\n"
     ]
    }
   ],
   "source": [
    "# isinstance(object, classinfo): This function checks if an object is an instance of a specified class or subclass.\n",
    "# function utilizing this function to check\n",
    "def check_type(R):\n",
    "    if isinstance(R, pd.DataFrame):\n",
    "        return \"Pandas DataFrame\"\n",
    "    elif isinstance(R, np.ndarray):\n",
    "        return \"NumPy array\"\n",
    "    else:\n",
    "        return \"Unknown type\"\n",
    "\n",
    "# Test the function\n",
    "print(check_type(R))  # Output: Pandas DataFrame"
   ]
  },
  {
   "cell_type": "markdown",
   "metadata": {
    "id": "ys-3fJhOHrIq"
   },
   "source": [
    "* Create a list whose keys are the column number and values are the vector of the columns."
   ]
  },
  {
   "cell_type": "code",
   "execution_count": 182,
   "metadata": {
    "colab": {
     "base_uri": "https://localhost:8080/"
    },
    "id": "lbqjigOmGZe7",
    "outputId": "a34b842b-1010-407e-e732-603af3be95b5"
   },
   "outputs": [
    {
     "name": "stdout",
     "output_type": "stream",
     "text": [
      "{0: [nan, nan, 2.0, 2.0, nan, nan, 0.0, nan, 2.0, 0.0, 1.0, 1.0, 2.0, 0.0, 1.0, 0.0, 0.0, nan, 1.0, nan, 2.0, 0.0, nan, 2.0, 0.0, 0.0, 2.0, nan, 1.0, 0.0, 0.0, 0.0, 1.0, 0.0, nan, 0.0, nan, 0.0, 0.0, 0.0, nan, 0.0, 0.0, 0.0, 0.0, nan, nan, 0.0, nan, 0.0], 1: [1.0, nan, 0.0, nan, 2.0, 0.0, 0.0, 1.0, 2.0, 1.0, 2.0, nan, 0.0, 2.0, nan, 1.0, nan, 2.0, nan, 2.0, 2.0, 0.0, nan, 0.0, 2.0, 0.0, 1.0, 0.0, 0.0, nan, 2.0, nan, nan, 1.0, 1.0, nan, nan, 0.0, 0.0, 0.0, 2.0, nan, 0.0, 1.0, nan, 0.0, 1.0, 0.0, nan, nan], 2: [0.0, nan, 0.0, 2.0, nan, 2.0, 0.0, 1.0, 2.0, 2.0, 1.0, 0.0, 0.0, 2.0, nan, nan, 0.0, nan, 0.0, nan, 1.0, nan, nan, 1.0, 1.0, 0.0, nan, 0.0, 2.0, nan, 0.0, 0.0, nan, nan, 0.0, 1.0, 1.0, 1.0, 0.0, 0.0, 0.0, nan, nan, nan, nan, 1.0, nan, 0.0, nan, nan], 3: [nan, 0.0, nan, 0.0, nan, nan, nan, nan, nan, 0.0, nan, nan, 1.0, 1.0, 2.0, nan, 0.0, 0.0, nan, nan, 2.0, 1.0, 0.0, 1.0, 0.0, 0.0, 1.0, 2.0, 0.0, 1.0, nan, 2.0, 1.0, 0.0, 0.0, 0.0, 0.0, 0.0, 2.0, nan, nan, nan, 1.0, nan, 0.0, nan, 1.0, 0.0, 0.0, 2.0], 4: [nan, nan, nan, 0.0, 0.0, 0.0, 2.0, 2.0, 0.0, 2.0, 1.0, 0.0, 1.0, 2.0, 1.0, nan, 0.0, 1.0, 2.0, 0.0, nan, 1.0, 0.0, nan, 0.0, nan, 0.0, 2.0, 0.0, 0.0, 2.0, nan, 2.0, 1.0, 0.0, nan, 0.0, 0.0, 0.0, 2.0, 2.0, nan, 0.0, nan, 0.0, nan, nan, 0.0, 0.0, 0.0], 5: [nan, 1.0, nan, 1.0, 0.0, nan, 0.0, nan, nan, 1.0, 2.0, 0.0, 0.0, nan, 2.0, 0.0, 1.0, 2.0, 2.0, 2.0, 0.0, nan, 0.0, nan, 1.0, 1.0, 0.0, 2.0, nan, 0.0, nan, 0.0, 2.0, 0.0, nan, 0.0, 1.0, 0.0, 0.0, nan, 1.0, 1.0, nan, 0.0, nan, 2.0, 0.0, 0.0, 0.0, 2.0], 6: [1.0, 2.0, 0.0, nan, 0.0, 0.0, 1.0, 0.0, 2.0, 1.0, 0.0, 2.0, 0.0, 0.0, 2.0, 0.0, nan, nan, nan, 0.0, 2.0, 1.0, 0.0, nan, 0.0, 0.0, nan, 1.0, 0.0, 0.0, 1.0, 2.0, nan, 0.0, 1.0, 1.0, nan, 2.0, nan, 0.0, 2.0, 2.0, 2.0, 1.0, nan, 0.0, 0.0, 0.0, 2.0, nan], 7: [2.0, 0.0, 2.0, nan, 1.0, 1.0, nan, 0.0, nan, 2.0, nan, 0.0, nan, nan, 0.0, 2.0, nan, 0.0, 0.0, nan, 2.0, 2.0, nan, nan, 1.0, nan, 1.0, 2.0, 0.0, 0.0, 2.0, 0.0, 2.0, 0.0, 2.0, 0.0, nan, 0.0, 0.0, 1.0, 2.0, nan, 1.0, 1.0, 1.0, 0.0, 2.0, 0.0, 2.0, 0.0], 8: [nan, nan, nan, nan, nan, nan, 0.0, 0.0, 0.0, 0.0, 0.0, nan, nan, 0.0, 0.0, 2.0, 0.0, 0.0, nan, 1.0, nan, 2.0, 1.0, 1.0, 0.0, 0.0, 1.0, 0.0, 2.0, 0.0, 1.0, 0.0, 2.0, 0.0, 0.0, 0.0, nan, 1.0, nan, nan, 2.0, 2.0, 1.0, 0.0, 2.0, 2.0, 1.0, nan, nan, 2.0], 9: [0.0, 0.0, nan, 1.0, 1.0, 0.0, 1.0, nan, 1.0, 0.0, 0.0, 0.0, 0.0, 1.0, nan, 2.0, 2.0, 1.0, 0.0, nan, nan, 1.0, 0.0, 0.0, nan, nan, nan, 0.0, 0.0, 0.0, 2.0, 2.0, 1.0, nan, 2.0, nan, 1.0, 0.0, nan, 0.0, nan, nan, 1.0, nan, 0.0, nan, 0.0, 0.0, nan, 0.0], 10: [nan, 0.0, 1.0, nan, 0.0, 0.0, nan, 0.0, 2.0, 0.0, nan, nan, 0.0, nan, 0.0, 1.0, 1.0, nan, 0.0, 1.0, nan, 0.0, 1.0, 0.0, nan, nan, nan, 0.0, 2.0, 0.0, nan, 0.0, 0.0, nan, 0.0, 1.0, 0.0, 1.0, 1.0, nan, 0.0, 0.0, 0.0, nan, nan, 0.0, 0.0, 0.0, nan, 0.0], 11: [2.0, 2.0, nan, nan, 1.0, 2.0, 0.0, 2.0, 0.0, nan, 0.0, nan, nan, nan, 0.0, nan, 0.0, 1.0, nan, nan, 2.0, 1.0, 1.0, nan, nan, 2.0, nan, nan, 0.0, 2.0, 0.0, 1.0, 0.0, 2.0, 1.0, 1.0, 0.0, nan, 2.0, 0.0, 1.0, 1.0, 2.0, 2.0, 1.0, 1.0, 1.0, 2.0, nan, nan], 12: [2.0, 2.0, nan, 0.0, 2.0, nan, 0.0, 2.0, 0.0, 0.0, 0.0, 0.0, nan, 0.0, 2.0, 0.0, 0.0, 2.0, nan, 1.0, 0.0, nan, 0.0, nan, 0.0, nan, nan, 0.0, 0.0, nan, 0.0, nan, 0.0, 1.0, 0.0, 1.0, 0.0, 1.0, nan, 2.0, 0.0, nan, 0.0, 1.0, nan, 2.0, 2.0, 0.0, nan, 0.0], 13: [nan, nan, 0.0, 0.0, 1.0, 2.0, 2.0, 0.0, 1.0, 0.0, 2.0, 2.0, 1.0, 2.0, nan, nan, nan, 2.0, nan, 2.0, nan, nan, 0.0, 0.0, 1.0, nan, 0.0, 2.0, 2.0, 0.0, 2.0, 2.0, 0.0, 2.0, 0.0, 0.0, 0.0, 0.0, nan, 0.0, nan, nan, nan, 0.0, 0.0, 0.0, 1.0, nan, 1.0, nan], 14: [0.0, 1.0, 1.0, 2.0, nan, nan, 2.0, 0.0, 1.0, 2.0, 0.0, 0.0, 1.0, nan, 2.0, nan, nan, 0.0, 1.0, nan, 0.0, 2.0, 0.0, 0.0, 1.0, 1.0, 0.0, nan, 2.0, 1.0, 1.0, nan, 0.0, nan, 1.0, nan, nan, 0.0, 0.0, 1.0, 2.0, nan, 0.0, nan, nan, 0.0, nan, 0.0, 1.0, 1.0], 15: [2.0, nan, 0.0, 1.0, 0.0, 2.0, 2.0, nan, 2.0, nan, 2.0, 2.0, 0.0, 0.0, 0.0, 1.0, nan, 0.0, 0.0, 0.0, 1.0, nan, 0.0, 1.0, 0.0, 0.0, 2.0, 0.0, 0.0, 2.0, 1.0, nan, 0.0, 1.0, 1.0, nan, nan, 0.0, 0.0, 0.0, 1.0, 0.0, 2.0, nan, 2.0, 1.0, 0.0, 0.0, nan, nan], 16: [nan, 2.0, nan, 2.0, 0.0, 0.0, 2.0, 1.0, 0.0, 2.0, nan, 2.0, 0.0, nan, 0.0, 2.0, nan, 2.0, nan, nan, nan, nan, 2.0, 0.0, 0.0, 0.0, nan, 0.0, nan, 2.0, 0.0, 2.0, nan, 0.0, 0.0, 0.0, nan, 1.0, 1.0, 2.0, nan, nan, nan, 0.0, 0.0, nan, nan, 1.0, 1.0, nan], 17: [0.0, nan, nan, nan, 1.0, nan, 2.0, nan, nan, nan, 2.0, nan, 1.0, 0.0, 0.0, 2.0, 1.0, 0.0, 2.0, 0.0, nan, nan, 2.0, 2.0, 2.0, nan, 0.0, nan, nan, 1.0, 1.0, nan, 0.0, 1.0, 2.0, nan, nan, nan, 0.0, 0.0, 0.0, 0.0, nan, 1.0, nan, nan, 0.0, 0.0, 1.0, 1.0], 18: [0.0, nan, 2.0, nan, nan, 2.0, nan, nan, nan, 2.0, 0.0, 2.0, 0.0, nan, 1.0, 1.0, 0.0, 2.0, 1.0, 0.0, 1.0, 1.0, nan, nan, 1.0, nan, 0.0, nan, nan, 2.0, nan, 0.0, nan, nan, 2.0, 2.0, 2.0, 0.0, 0.0, nan, nan, nan, 1.0, 1.0, 2.0, 1.0, nan, 2.0, 2.0, 2.0], 19: [0.0, nan, nan, nan, nan, 2.0, 1.0, 0.0, nan, 0.0, nan, nan, 2.0, nan, 2.0, nan, nan, 0.0, 1.0, 0.0, 1.0, nan, nan, nan, 0.0, 0.0, nan, 2.0, 0.0, 2.0, nan, 2.0, 2.0, 0.0, 2.0, 0.0, 0.0, 2.0, 1.0, 1.0, 2.0, 2.0, 0.0, 1.0, nan, 2.0, 0.0, nan, 2.0, 0.0], 20: [0.0, 0.0, 0.0, nan, nan, 2.0, 0.0, nan, 0.0, 0.0, 1.0, 1.0, 2.0, 0.0, nan, nan, nan, nan, 1.0, nan, 1.0, 0.0, nan, 0.0, 0.0, 0.0, nan, 0.0, nan, 0.0, 0.0, 0.0, 1.0, nan, nan, 2.0, 0.0, 1.0, 2.0, 1.0, nan, nan, 2.0, 1.0, 1.0, nan, nan, 0.0, 1.0, 0.0], 21: [0.0, 2.0, 1.0, 0.0, nan, nan, nan, 2.0, nan, nan, nan, nan, 0.0, nan, nan, 0.0, nan, nan, 0.0, 0.0, 0.0, 0.0, 2.0, nan, 2.0, 0.0, 0.0, 0.0, 0.0, 1.0, nan, 0.0, 0.0, 0.0, 0.0, 0.0, 1.0, 0.0, nan, 0.0, 2.0, 2.0, 2.0, 0.0, nan, 0.0, 0.0, 2.0, nan, nan], 22: [1.0, 1.0, 1.0, 2.0, 0.0, nan, nan, 2.0, nan, 0.0, nan, 0.0, 1.0, 0.0, nan, nan, 1.0, 0.0, nan, nan, 0.0, 1.0, nan, nan, 2.0, 1.0, 1.0, 1.0, 0.0, 0.0, 2.0, 0.0, nan, 0.0, 1.0, nan, 0.0, 1.0, 1.0, 2.0, nan, nan, 2.0, 0.0, 0.0, 1.0, 0.0, 0.0, 0.0, 0.0], 23: [nan, 1.0, 2.0, nan, 0.0, 0.0, nan, 1.0, 1.0, nan, 2.0, nan, 1.0, nan, 2.0, 2.0, 2.0, 1.0, 2.0, nan, 0.0, nan, 0.0, nan, 1.0, nan, 0.0, 0.0, nan, nan, 0.0, 1.0, 1.0, 0.0, 1.0, nan, nan, nan, 0.0, 2.0, 0.0, nan, 2.0, 0.0, 2.0, 0.0, 0.0, 1.0, 0.0, 1.0], 24: [0.0, 0.0, nan, 0.0, 2.0, 0.0, 0.0, nan, 1.0, 2.0, nan, 0.0, 0.0, 0.0, nan, 1.0, 2.0, 0.0, 0.0, nan, nan, 1.0, nan, 0.0, nan, 0.0, 1.0, nan, 0.0, 0.0, 0.0, 0.0, 0.0, 1.0, nan, 0.0, nan, 0.0, 0.0, 0.0, 0.0, 0.0, nan, 0.0, 2.0, nan, 0.0, 2.0, 2.0, 2.0], 25: [2.0, 1.0, 0.0, nan, 2.0, nan, 0.0, nan, 2.0, 0.0, 1.0, 2.0, 2.0, nan, 0.0, 0.0, 1.0, nan, 0.0, nan, nan, 1.0, 0.0, 0.0, nan, nan, 0.0, 0.0, nan, 2.0, 1.0, 2.0, 0.0, 2.0, 0.0, nan, 0.0, 0.0, 0.0, nan, 2.0, 2.0, 1.0, 1.0, 2.0, nan, 2.0, nan, 0.0, nan], 26: [nan, nan, 1.0, 0.0, nan, nan, nan, 2.0, 1.0, nan, 0.0, nan, 0.0, 0.0, 2.0, 2.0, 1.0, 1.0, 1.0, 0.0, nan, 0.0, 0.0, 1.0, nan, 0.0, 1.0, 0.0, 1.0, 2.0, 0.0, nan, 0.0, 1.0, 0.0, 0.0, nan, 1.0, 2.0, nan, 1.0, nan, nan, nan, 2.0, nan, 2.0, nan, 1.0, 0.0], 27: [nan, 1.0, 1.0, 0.0, nan, 1.0, 2.0, 0.0, 1.0, 0.0, 0.0, 2.0, 0.0, 0.0, nan, nan, 0.0, 0.0, nan, nan, 2.0, 0.0, nan, 1.0, nan, 2.0, nan, 0.0, 2.0, 0.0, 0.0, 0.0, 1.0, nan, 0.0, 0.0, 0.0, nan, 0.0, nan, 2.0, 1.0, 0.0, 0.0, 2.0, 2.0, 0.0, 1.0, 2.0, nan], 28: [0.0, 1.0, 0.0, 1.0, 0.0, 1.0, 1.0, 0.0, nan, nan, nan, nan, 2.0, 0.0, nan, 0.0, 2.0, 0.0, 2.0, nan, 1.0, 0.0, 2.0, 1.0, 0.0, 2.0, 2.0, 0.0, nan, 0.0, nan, nan, 1.0, 0.0, 0.0, nan, 0.0, 0.0, 1.0, 2.0, nan, 2.0, 0.0, 0.0, 0.0, nan, 2.0, 2.0, 0.0, 0.0], 29: [2.0, 0.0, 2.0, 1.0, nan, 1.0, nan, nan, 0.0, 0.0, 2.0, nan, 0.0, 2.0, 0.0, 0.0, 2.0, nan, nan, 0.0, 0.0, 0.0, 1.0, nan, nan, 1.0, 2.0, 1.0, 0.0, 0.0, 1.0, 0.0, nan, 0.0, 0.0, 0.0, nan, 0.0, nan, 0.0, nan, 1.0, 0.0, 0.0, nan, nan, 0.0, 2.0, 2.0, nan], 30: [1.0, 1.0, 0.0, 2.0, 0.0, 1.0, 0.0, nan, nan, 2.0, 1.0, nan, 1.0, 0.0, nan, 0.0, 2.0, 0.0, 0.0, nan, 0.0, 1.0, 0.0, 1.0, 0.0, 1.0, nan, 0.0, nan, 0.0, nan, 0.0, 0.0, 2.0, nan, nan, 2.0, 0.0, 0.0, nan, 1.0, 0.0, nan, 1.0, 0.0, 0.0, nan, 1.0, 0.0, 2.0], 31: [nan, 1.0, 2.0, 0.0, 2.0, 2.0, 2.0, 2.0, nan, nan, 1.0, 0.0, 0.0, nan, 0.0, 1.0, 2.0, 2.0, 0.0, nan, nan, 0.0, 0.0, 0.0, 1.0, nan, nan, nan, 0.0, nan, nan, nan, 2.0, nan, 2.0, nan, 2.0, nan, 0.0, nan, nan, 2.0, 0.0, nan, 2.0, 2.0, 1.0, 2.0, 2.0, 2.0], 32: [nan, 0.0, 0.0, 0.0, 0.0, nan, nan, 0.0, 0.0, 2.0, nan, nan, 0.0, nan, 2.0, nan, 0.0, nan, 0.0, 0.0, 0.0, 1.0, 2.0, 1.0, 0.0, 0.0, 0.0, nan, nan, 0.0, 2.0, nan, 0.0, 0.0, nan, 2.0, 0.0, 2.0, 0.0, 1.0, 2.0, 2.0, nan, nan, 1.0, nan, nan, 1.0, 0.0, nan], 33: [1.0, 1.0, 0.0, 2.0, 0.0, nan, 0.0, 0.0, 0.0, nan, nan, nan, nan, 2.0, nan, 1.0, 0.0, 0.0, 0.0, nan, 1.0, 0.0, nan, 2.0, 0.0, nan, nan, 2.0, 2.0, 1.0, nan, nan, 0.0, nan, 1.0, 1.0, 0.0, 0.0, 0.0, 0.0, 1.0, nan, 0.0, nan, nan, nan, 0.0, 0.0, 2.0, 0.0], 34: [nan, 0.0, nan, nan, 0.0, 2.0, 2.0, 2.0, nan, 1.0, 2.0, nan, nan, 1.0, 2.0, nan, 0.0, nan, 0.0, nan, nan, 0.0, 0.0, 2.0, 0.0, 1.0, 0.0, 1.0, nan, 1.0, 2.0, nan, 0.0, 0.0, 0.0, nan, nan, 2.0, 1.0, 0.0, 0.0, 1.0, 0.0, 0.0, 1.0, 0.0, 0.0, nan, nan, 0.0], 35: [1.0, 1.0, 1.0, 0.0, 0.0, nan, 1.0, 0.0, 0.0, nan, 0.0, 2.0, 2.0, nan, 1.0, nan, 0.0, 0.0, 0.0, nan, 2.0, nan, 1.0, 2.0, 2.0, 2.0, nan, nan, 0.0, 1.0, 0.0, nan, 0.0, 2.0, 2.0, 0.0, nan, 1.0, 0.0, nan, 0.0, nan, 0.0, nan, 1.0, nan, 0.0, 1.0, nan, nan], 36: [0.0, 0.0, 2.0, 1.0, 2.0, 0.0, 1.0, 0.0, nan, 0.0, 0.0, nan, 0.0, nan, 1.0, 2.0, 1.0, 2.0, 0.0, 0.0, nan, nan, 0.0, nan, nan, 0.0, 2.0, 1.0, 2.0, 0.0, 2.0, 1.0, 2.0, nan, nan, 0.0, nan, nan, nan, 2.0, nan, 1.0, 2.0, 1.0, 1.0, 0.0, 1.0, 0.0, 0.0, 0.0], 37: [0.0, 0.0, nan, 0.0, nan, 2.0, 1.0, 2.0, nan, 0.0, 2.0, nan, 0.0, 0.0, 0.0, nan, 1.0, 1.0, 2.0, 0.0, 0.0, 1.0, 2.0, 0.0, 2.0, 1.0, 2.0, 0.0, 0.0, 1.0, nan, nan, nan, 0.0, 0.0, nan, nan, 0.0, nan, 1.0, 0.0, 2.0, nan, 0.0, 2.0, nan, 0.0, 0.0, 0.0, nan], 38: [0.0, 0.0, nan, nan, nan, 2.0, 0.0, 0.0, 0.0, 0.0, 0.0, 2.0, nan, nan, 2.0, 0.0, nan, nan, 1.0, 1.0, 1.0, 1.0, nan, 1.0, nan, 1.0, 2.0, nan, 0.0, 0.0, 1.0, 2.0, nan, 1.0, nan, nan, 0.0, 1.0, nan, nan, 0.0, 2.0, nan, 0.0, 0.0, 2.0, nan, 1.0, nan, 2.0], 39: [0.0, nan, 1.0, 1.0, 2.0, 0.0, 1.0, 0.0, 0.0, 1.0, nan, 0.0, 0.0, 0.0, nan, 0.0, 0.0, 0.0, 0.0, 1.0, 2.0, 2.0, nan, 1.0, 0.0, 0.0, 2.0, 2.0, 1.0, nan, nan, 0.0, nan, 2.0, 1.0, 1.0, 0.0, 1.0, nan, 2.0, 0.0, nan, 2.0, nan, 0.0, 2.0, 2.0, 1.0, 1.0, 0.0], 40: [0.0, 1.0, 1.0, 0.0, 0.0, 1.0, 0.0, 2.0, nan, 1.0, 0.0, 2.0, 2.0, 2.0, 0.0, nan, nan, nan, 1.0, 0.0, 0.0, 0.0, 1.0, 0.0, nan, 0.0, 0.0, 2.0, 0.0, 0.0, 1.0, 0.0, nan, 0.0, 2.0, nan, 2.0, nan, 1.0, 1.0, nan, 0.0, 0.0, nan, 0.0, 0.0, nan, 0.0, 0.0, nan], 41: [0.0, 2.0, 0.0, 0.0, 0.0, nan, 0.0, nan, 0.0, 1.0, nan, 0.0, 0.0, 0.0, nan, 2.0, 0.0, 2.0, nan, 2.0, 0.0, 1.0, 1.0, nan, nan, 1.0, 1.0, nan, nan, 2.0, 0.0, 1.0, 1.0, nan, 0.0, nan, nan, 2.0, 0.0, 0.0, 0.0, 1.0, 0.0, 2.0, nan, 2.0, 1.0, 1.0, 0.0, nan], 42: [0.0, 0.0, 1.0, nan, nan, nan, 1.0, 0.0, 2.0, nan, nan, 0.0, 0.0, 2.0, 1.0, 2.0, 0.0, 0.0, nan, 0.0, 2.0, 1.0, 0.0, 0.0, 0.0, 2.0, 0.0, 2.0, 1.0, nan, nan, nan, nan, 1.0, 0.0, nan, 1.0, 0.0, 0.0, nan, 1.0, 2.0, 0.0, 0.0, 0.0, 1.0, nan, 2.0, 1.0, nan], 43: [nan, nan, nan, 0.0, 1.0, 2.0, 0.0, 2.0, nan, 2.0, nan, 0.0, 1.0, 0.0, 2.0, 0.0, 1.0, nan, nan, 0.0, nan, 0.0, 0.0, 0.0, 1.0, 2.0, 2.0, nan, 2.0, 0.0, 2.0, 2.0, 2.0, 0.0, 0.0, 1.0, nan, 2.0, 2.0, 0.0, nan, 1.0, 1.0, nan, 1.0, 1.0, nan, 0.0, nan, nan], 44: [2.0, 2.0, nan, nan, nan, 0.0, nan, 2.0, 0.0, 1.0, nan, 1.0, 0.0, nan, nan, 0.0, 2.0, 0.0, 0.0, 1.0, 0.0, 0.0, 2.0, 2.0, 0.0, 1.0, 2.0, 0.0, 0.0, 1.0, nan, nan, nan, 0.0, 0.0, nan, nan, 0.0, 0.0, 0.0, 2.0, 1.0, 2.0, nan, nan, 1.0, 1.0, nan, nan, nan], 45: [1.0, nan, nan, nan, 0.0, nan, 2.0, 1.0, 1.0, nan, nan, 1.0, 0.0, 0.0, 1.0, nan, nan, nan, 0.0, 0.0, 2.0, 0.0, 1.0, 0.0, 2.0, 1.0, 0.0, 2.0, 0.0, nan, nan, nan, 2.0, 1.0, 0.0, nan, 0.0, nan, 2.0, nan, 1.0, 0.0, nan, 2.0, 1.0, nan, 1.0, nan, 1.0, 0.0], 46: [2.0, 0.0, nan, nan, 0.0, nan, 0.0, nan, 0.0, 0.0, nan, 1.0, nan, 2.0, 0.0, 2.0, 1.0, 0.0, nan, 0.0, nan, nan, 0.0, 1.0, nan, 0.0, 2.0, 1.0, 0.0, 1.0, 1.0, nan, 0.0, nan, 0.0, nan, nan, nan, 2.0, nan, 2.0, nan, nan, 2.0, nan, 0.0, 0.0, 0.0, 2.0, 0.0], 47: [2.0, 0.0, 2.0, 0.0, nan, 2.0, 0.0, 0.0, nan, nan, 1.0, 0.0, nan, 1.0, 2.0, 0.0, 2.0, nan, 1.0, 0.0, 2.0, nan, nan, 2.0, nan, 1.0, 1.0, nan, 0.0, nan, 0.0, 0.0, 2.0, 2.0, 1.0, nan, nan, 0.0, 0.0, nan, 2.0, nan, 2.0, 0.0, 0.0, nan, 0.0, 1.0, 2.0, 0.0], 48: [nan, 1.0, 2.0, nan, nan, 0.0, nan, 2.0, 1.0, nan, nan, 2.0, 0.0, 2.0, 1.0, 1.0, 0.0, 2.0, 2.0, 0.0, nan, 0.0, 0.0, 0.0, 1.0, 0.0, nan, nan, 2.0, 0.0, nan, 1.0, 0.0, 1.0, nan, 0.0, 1.0, 2.0, 0.0, 1.0, 0.0, nan, 0.0, 0.0, 0.0, 1.0, nan, 1.0, 0.0, 2.0], 49: [1.0, 2.0, 0.0, 2.0, 2.0, 1.0, nan, nan, nan, 1.0, 1.0, 0.0, nan, 2.0, 0.0, 0.0, nan, 2.0, 0.0, 0.0, 2.0, 0.0, 0.0, 1.0, 1.0, 0.0, 0.0, nan, 0.0, 0.0, nan, nan, nan, nan, 0.0, 0.0, 0.0, 2.0, 0.0, nan, 1.0, 1.0, 0.0, 2.0, nan, 2.0, nan, 1.0, 0.0, 1.0]}\n"
     ]
    }
   ],
   "source": [
    "hm={}\n",
    "for col in R.columns:\n",
    "    hm[col]=(R[col].values).tolist()\n",
    "print(hm)"
   ]
  },
  {
   "cell_type": "markdown",
   "metadata": {
    "id": "9nv5y7PcIjmO"
   },
   "source": [
    "* Create a list whose keys are the column number and values are themselves a list with keys: \"min\" whose value is the minimum of the column, \"max\" whose value is the maximum of the column, \"pct_missing\" is the proportion of missingness in the column and \"first_NA\" whose value is the row number of the first time the NA appears. In R this was accomplished using lappy. In Python we will use dictionary comprehension in tandem with Numpy and Pandas operations."
   ]
  },
  {
   "cell_type": "code",
   "execution_count": 183,
   "metadata": {
    "colab": {
     "base_uri": "https://localhost:8080/"
    },
    "id": "PA9Y8De_JBKy",
    "outputId": "b2414bb1-aba9-4798-9213-1be8cf957deb"
   },
   "outputs": [
    {
     "name": "stdout",
     "output_type": "stream",
     "text": [
      "{0: {'min': 0.0, 'max': 2.0, 'pct_missing': 0.3}, 1: {'min': 0.0, 'max': 2.0, 'pct_missing': 0.32}, 2: {'min': 0.0, 'max': 2.0, 'pct_missing': 0.38}, 3: {'min': 0.0, 'max': 2.0, 'pct_missing': 0.36}, 4: {'min': 0.0, 'max': 2.0, 'pct_missing': 0.26}, 5: {'min': 0.0, 'max': 2.0, 'pct_missing': 0.28}, 6: {'min': 0.0, 'max': 2.0, 'pct_missing': 0.22}, 7: {'min': 0.0, 'max': 2.0, 'pct_missing': 0.26}, 8: {'min': 0.0, 'max': 2.0, 'pct_missing': 0.3}, 9: {'min': 0.0, 'max': 2.0, 'pct_missing': 0.32}, 10: {'min': 0.0, 'max': 2.0, 'pct_missing': 0.34}, 11: {'min': 0.0, 'max': 2.0, 'pct_missing': 0.32}, 12: {'min': 0.0, 'max': 2.0, 'pct_missing': 0.28}, 13: {'min': 0.0, 'max': 2.0, 'pct_missing': 0.3}, 14: {'min': 0.0, 'max': 2.0, 'pct_missing': 0.3}, 15: {'min': 0.0, 'max': 2.0, 'pct_missing': 0.22}, 16: {'min': 0.0, 'max': 2.0, 'pct_missing': 0.38}, 17: {'min': 0.0, 'max': 2.0, 'pct_missing': 0.4}, 18: {'min': 0.0, 'max': 2.0, 'pct_missing': 0.38}, 19: {'min': 0.0, 'max': 2.0, 'pct_missing': 0.34}, 20: {'min': 0.0, 'max': 2.0, 'pct_missing': 0.34}, 21: {'min': 0.0, 'max': 2.0, 'pct_missing': 0.34}, 22: {'min': 0.0, 'max': 2.0, 'pct_missing': 0.28}, 23: {'min': 0.0, 'max': 2.0, 'pct_missing': 0.32}, 24: {'min': 0.0, 'max': 2.0, 'pct_missing': 0.26}, 25: {'min': 0.0, 'max': 2.0, 'pct_missing': 0.3}, 26: {'min': 0.0, 'max': 2.0, 'pct_missing': 0.34}, 27: {'min': 0.0, 'max': 2.0, 'pct_missing': 0.26}, 28: {'min': 0.0, 'max': 2.0, 'pct_missing': 0.24}, 29: {'min': 0.0, 'max': 2.0, 'pct_missing': 0.3}, 30: {'min': 0.0, 'max': 2.0, 'pct_missing': 0.26}, 31: {'min': 0.0, 'max': 2.0, 'pct_missing': 0.36}, 32: {'min': 0.0, 'max': 2.0, 'pct_missing': 0.34}, 33: {'min': 0.0, 'max': 2.0, 'pct_missing': 0.34}, 34: {'min': 0.0, 'max': 2.0, 'pct_missing': 0.32}, 35: {'min': 0.0, 'max': 2.0, 'pct_missing': 0.32}, 36: {'min': 0.0, 'max': 2.0, 'pct_missing': 0.26}, 37: {'min': 0.0, 'max': 2.0, 'pct_missing': 0.28}, 38: {'min': 0.0, 'max': 2.0, 'pct_missing': 0.36}, 39: {'min': 0.0, 'max': 2.0, 'pct_missing': 0.2}, 40: {'min': 0.0, 'max': 2.0, 'pct_missing': 0.24}, 41: {'min': 0.0, 'max': 2.0, 'pct_missing': 0.28}, 42: {'min': 0.0, 'max': 2.0, 'pct_missing': 0.28}, 43: {'min': 0.0, 'max': 2.0, 'pct_missing': 0.3}, 44: {'min': 0.0, 'max': 2.0, 'pct_missing': 0.34}, 45: {'min': 0.0, 'max': 2.0, 'pct_missing': 0.36}, 46: {'min': 0.0, 'max': 2.0, 'pct_missing': 0.38}, 47: {'min': 0.0, 'max': 2.0, 'pct_missing': 0.3}, 48: {'min': 0.0, 'max': 2.0, 'pct_missing': 0.26}, 49: {'min': 0.0, 'max': 2.0, 'pct_missing': 0.26}}\n"
     ]
    }
   ],
   "source": [
    "hm={}\n",
    "for col in R.columns:\n",
    "    #np array of col\n",
    "    curr_col=R[col].values\n",
    "\n",
    "    #mask method of removing nans\n",
    "    mask= ~np.isnan(curr_col)\n",
    "    nan_less_col=curr_col[mask]\n",
    "\n",
    "    #create temp dict with keys and values\n",
    "    temp={}\n",
    "    temp[\"min\"]=np.min(nan_less_col)\n",
    "    temp[\"max\"]=np.max(nan_less_col)\n",
    "    temp[\"pct_missing\"]=(len(curr_col)-len(nan_less_col)) / len(curr_col)\n",
    "\n",
    "    #add temp dict to main dict\n",
    "    hm[col]=temp\n",
    "print(hm)"
   ]
  },
  {
   "cell_type": "markdown",
   "metadata": {
    "id": "ODDPcnZkJ5NC"
   },
   "source": [
    "* Set a seed and then create a vector `v` consisting of a sample of 1,000 iid normal realizations with mean -10 and variance 100."
   ]
  },
  {
   "cell_type": "code",
   "execution_count": 185,
   "metadata": {
    "colab": {
     "base_uri": "https://localhost:8080/"
    },
    "id": "nw2iaLlhJQqZ",
    "outputId": "f93873f8-979a-40c2-c95a-3d84a98fef3c"
   },
   "outputs": [
    {
     "name": "stdout",
     "output_type": "stream",
     "text": [
      "[-7.87551704e+00 -1.61826621e+01 -1.93192949e+01  8.21476003e+00\n",
      " -8.38698341e+00 -1.09994008e+01 -1.20084892e+01 -1.22613009e+01\n",
      " -1.35583980e+01 -8.13913280e+00  2.69733548e+00  1.05604888e+00\n",
      " -7.37103870e+00 -1.23985848e+01 -1.43841626e+01 -4.32643181e+00\n",
      " -2.81589371e+01 -2.18343002e+00 -1.95733970e+01 -1.22571036e+00\n",
      " -1.31261729e+01 -7.29294192e+00  5.41322607e+00  1.47363152e+00\n",
      " -2.14149095e+01 -1.10069451e+01 -2.30644877e+01 -1.19148184e+01\n",
      " -9.50641374e-02 -3.85781294e+00 -1.19067285e+01 -2.75351774e+01\n",
      "  1.93042715e+00 -5.37629128e+00 -9.95572806e+00 -4.73656958e+00\n",
      "  1.35252498e+01 -9.94233488e+00 -2.03682477e+01 -1.48897252e+01\n",
      " -1.07649779e-01 -1.37489460e+01 -5.04401563e+00 -2.02389977e+00\n",
      " -3.34829152e+01 -1.51976690e+01 -2.14008183e+01 -1.08031027e+01\n",
      " -1.56434662e+01 -1.86236534e+00 -1.73256089e+01  7.29557451e+00\n",
      " -1.65767023e+01 -1.92255870e+01 -2.92522274e+01  2.44478098e+00\n",
      " -4.75730139e+00 -1.13946497e+01 -1.06785214e+01 -7.03452549e+00\n",
      " -1.00782290e+01  3.15636711e+00 -2.16622732e+01 -1.09203591e+01\n",
      " -1.26963730e+01 -5.79283090e+00 -1.80440515e+01 -7.41901399e+00\n",
      " -2.37683005e+00 -1.30178847e+01 -3.10411422e+01 -1.08996580e+01\n",
      " -1.41136865e+01  1.76122216e+00 -2.25066287e+01 -2.75076664e+01\n",
      "  3.02123120e+00 -1.51062465e+01 -3.54710189e-02 -5.89455415e+00\n",
      "  5.98625774e+00 -1.04694083e+01 -2.19766452e+01 -2.54379039e+00\n",
      " -3.43094484e+01 -1.68754559e+00 -1.57315309e+01 -1.48415464e+01\n",
      " -3.15235380e+01  1.65714469e+01 -8.13974465e+00 -6.55113523e+00\n",
      " -3.28771369e+00 -3.10424011e+01 -1.01865347e+01 -1.52261923e+01\n",
      "  1.57532263e+01 -4.99731592e+00 -8.43681432e+00 -2.22069518e+00\n",
      " -8.49494689e+00 -5.68731058e+00 -1.10270193e+01  3.26597217e+00\n",
      " -1.86662390e+01 -2.06937083e-01  4.13040994e+00  9.27810846e+00\n",
      "  1.19925591e+00 -3.24314209e+01 -1.31368858e+01 -7.71946616e+00\n",
      " -1.32395906e+01 -1.38179338e+01  4.06571389e+00 -8.40245550e+00\n",
      " -1.05621668e+01 -1.97304680e+01 -1.88438387e+01 -1.25548666e+01\n",
      " -1.15672318e+01 -6.99257851e+00 -4.62119101e+00 -1.98681686e+01\n",
      "  1.02409954e+01 -2.14769960e+01 -1.08779217e+01 -1.73400239e+01\n",
      "  2.11563159e+00 -8.74676496e+00 -1.70325504e+01  8.94460515e+00\n",
      "  1.02433496e+01 -1.85174445e+01 -2.07622922e+00 -1.78435238e+01\n",
      " -7.16381372e+00 -5.06803882e+00 -6.94096367e+00 -1.56054929e+01\n",
      "  3.61230348e+00 -9.01245228e+00 -1.45045498e+01 -9.04334600e+00\n",
      " -2.86337739e+01 -2.09407389e+01 -1.38246242e+01  6.20806171e+00\n",
      " -1.81967996e+01 -1.31981738e+01 -1.87192302e+01 -2.15023895e+01\n",
      " -1.80746801e+01 -6.02477544e+00 -1.36283444e+01 -1.30357985e+01\n",
      " -1.36926640e+01 -1.67778453e+01  4.91324774e-01 -1.67802388e+01\n",
      " -1.05578878e+01  1.77139238e+00 -1.01686696e+01 -5.95922340e+00\n",
      " -1.45313558e+01 -8.39346248e+00 -1.11279034e+01 -2.44302904e+01\n",
      " -1.14698628e+01 -2.15243960e+01 -1.17913561e+01 -3.14445935e+00\n",
      " -1.16267087e+01 -5.74821419e+00 -1.46233322e+01  5.78913458e+00\n",
      " -9.80055552e-01 -1.59586872e+01  1.27039459e+00 -5.80588691e+00\n",
      "  1.34131705e+01 -1.19886661e+01 -2.58831512e+01 -1.90138402e+00\n",
      " -7.19620937e+00 -1.93828070e+01 -6.06237676e+00 -2.38656832e+00\n",
      " -2.48694919e+01 -1.54194658e+01 -8.37284077e+00 -4.20625173e-01\n",
      " -2.63501298e+01 -2.15696289e+01 -4.63523887e+00 -1.88782798e+01\n",
      " -2.68232387e+01 -7.51921389e+00  8.48749080e+00 -3.01599569e+01\n",
      " -3.87058076e+00 -1.97371553e+01 -1.54000708e+01 -2.21944955e+01\n",
      " -1.16089336e+01 -2.64763452e+01 -2.00061871e+01 -1.01582977e+01\n",
      "  1.03627781e+00 -1.30888336e+01 -5.68069692e+00 -2.16207786e+01\n",
      " -3.08827822e+01 -2.58448613e+00 -9.34587020e+00 -1.23901209e+00\n",
      " -1.72875628e+01  9.07932110e+00  1.49297916e+00 -1.70691756e+01\n",
      " -2.15421131e+01 -1.44882540e+01 -1.49873917e+01 -1.58438846e+01\n",
      " -5.20279797e-01  8.27703332e-01 -1.18717920e+01 -7.48130509e+00\n",
      "  4.09629781e+00 -1.43220604e+01 -9.11735775e+00  1.43913345e+00\n",
      " -1.76294041e+01 -1.56112271e+01 -5.81311900e+00 -1.65603404e+01\n",
      "  9.05081176e-01 -6.80293788e+00 -1.47502107e+01 -1.24522637e+01\n",
      " -1.72269510e+01 -3.19066977e+01 -1.46718469e+01 -1.80644271e+01\n",
      " -6.60594817e+00 -3.01465423e+00 -2.18355656e+01 -1.40081315e+01\n",
      " -1.35131024e+01 -1.19946790e+01 -6.88294109e+00 -3.10316836e+00\n",
      " -5.06697020e-01  2.29891097e+00 -2.61522605e+00  1.18903591e-01\n",
      " -1.62912537e+01 -1.51353601e+01 -1.81116974e+01 -1.91604676e+01\n",
      " -1.09414744e+01 -4.44950967e+01 -2.69207952e-01  1.84633851e+00\n",
      " -2.27469528e+00 -3.20288243e+01 -3.57375520e+01  1.65695536e+01\n",
      " -3.27022293e+01 -2.16027212e+01 -3.39190105e+00 -9.73678817e+00\n",
      " -3.15319319e+00 -5.93257488e+00 -4.75280815e+00 -1.38473230e+01\n",
      " -6.00016471e+00 -1.37002204e+01 -2.62609179e+01 -2.50669162e+00\n",
      " -2.17781501e+01 -4.96523588e+00 -1.75236355e+01 -5.88476397e+00\n",
      "  1.15597379e+01 -1.21255451e+01 -3.22703814e+01 -7.22008569e+00\n",
      "  8.62658203e-01 -3.14092574e+01 -1.08384785e+01  2.34006292e+01\n",
      " -4.46535191e+00 -4.67491837e+00 -1.78996976e+01 -6.43943972e+00\n",
      " -4.54394754e+00 -2.71103667e+01 -5.46715897e+00  4.53958978e+00\n",
      " -2.40414869e+01 -1.61672650e-02 -2.36065998e+01 -2.56878950e+01\n",
      " -1.03837599e+01 -5.81255130e+00 -2.10845820e+01 -2.12165296e+01\n",
      " -1.30457023e+01 -1.08046623e+01 -2.16355891e+01 -1.15172356e+01\n",
      " -2.15330970e+01 -9.73582191e+00 -3.87408852e+00 -8.41166231e+00\n",
      "  6.28242533e+00 -1.85999625e+01 -1.66344754e+01 -2.81095885e+00\n",
      "  4.33942291e+00 -1.76679280e+01 -9.55720038e+00  1.77362367e+00\n",
      " -7.95673066e+00 -1.31808762e+01 -2.16849761e+01 -1.66982336e+01\n",
      "  8.87619057e+00  1.92399908e+00 -4.68684312e+00 -3.72783940e+00\n",
      " -3.53458489e-01  1.47773573e+00 -8.91955191e+00 -2.86283653e+01\n",
      " -2.94638183e+01 -1.15696071e+01 -6.96936158e+00 -1.94765150e+01\n",
      "  1.91608379e-01  9.14558938e-01 -1.72747708e+00 -2.28277402e+01\n",
      "  8.70274893e+00 -8.85151135e+00 -1.81795816e+01 -4.87802007e+00\n",
      " -7.35352899e+00 -1.19335346e+01 -1.45609984e+01 -1.31744638e+01\n",
      "  9.03481831e+00 -1.23072087e+01 -1.07420729e+01 -3.57326612e+00\n",
      " -1.68354609e+01 -1.13097605e+01 -1.16020645e+01 -8.34640587e+00\n",
      " -1.31001146e+01 -1.54946681e+01 -2.84241687e+01 -1.35530259e+01\n",
      " -2.13879481e+01 -5.29800056e+00 -2.44929022e+00 -2.23966029e+01\n",
      " -1.55454001e+01 -1.37970360e+01 -4.67486353e-01 -1.40827999e+01\n",
      " -1.06956739e+01 -1.30003860e+01 -4.86949415e+00 -1.46254719e+00\n",
      " -6.93994128e+00 -1.84924243e+01 -1.77981420e+01 -1.41217913e+01\n",
      " -2.64831243e+00 -2.33059554e+01 -7.00232900e+00 -1.73391689e+01\n",
      " -6.63089837e+00  5.26943940e+00 -3.92785107e+00 -1.66702885e+00\n",
      " -1.34456915e+01 -2.43608865e+01  7.21000705e+00 -2.21438295e+01\n",
      " -1.38937648e+01 -2.68548261e+00 -1.76855971e+01 -1.84730440e+01\n",
      " -1.91645081e+01 -8.11700367e+00 -1.19394107e+01 -2.09425073e+01\n",
      " -2.23904403e+01 -1.10817302e+01 -9.30352718e+00  1.41605696e+00\n",
      "  2.85823397e+00 -4.97463489e+00 -1.11696708e+01 -1.18522234e+01\n",
      " -1.98202859e+00  9.06849994e+00 -3.31760969e+00 -8.27899835e+00\n",
      " -2.27743196e+01 -1.11226818e+01 -3.08698047e+01 -1.17737078e+01\n",
      " -9.95760524e+00 -1.02606512e+01 -6.67604966e+00 -2.20191244e+01\n",
      " -1.21891259e+01 -9.38046279e+00 -5.56575887e+01 -6.03150819e-01\n",
      " -2.12296900e+01 -1.75477376e+01 -3.51029482e+01 -1.64594256e+01\n",
      " -6.94562979e+00  9.59328156e+00 -1.92463720e+01 -1.72136249e+01\n",
      " -2.60224454e+00 -1.56600936e+01 -1.08226298e+01 -2.16530942e+01\n",
      " -9.21074681e+00 -9.14827246e+00 -3.07228780e+01  4.41547694e+00\n",
      "  6.68186259e+00 -2.56869219e+01 -1.58893364e+01 -1.92132155e+01\n",
      " -6.15398455e+00 -1.43526809e+01 -6.10976925e+00 -2.33656951e+00\n",
      " -1.40298729e+01 -2.78167349e+00 -1.13291492e+01 -1.49671535e+01\n",
      " -1.61682640e+01 -1.87366087e+01  5.73671118e+00  5.82096908e+00\n",
      " -1.18118073e+00 -1.02681328e+01 -1.54303874e+01 -5.26252322e+00\n",
      " -7.64262431e+00 -1.99087569e+00 -2.44115427e+01 -1.42117637e+01\n",
      " -2.03509457e+01 -1.27960977e+01 -2.63473212e+01 -1.64949840e+01\n",
      " -1.89349200e+01 -2.07820349e+01 -4.83929242e+00 -9.74884048e+00\n",
      " -7.70685816e+00  4.03035670e-01 -2.65311924e+01 -3.12755123e+00\n",
      " -2.22640614e+01 -5.84758966e-01 -4.77164216e+00 -1.21808762e+01\n",
      " -1.30204863e+01 -8.40425456e+00  3.52128060e+00 -1.07523552e+01\n",
      "  8.77487172e-01 -1.88819965e+01  2.72563883e+00 -2.09228092e+00\n",
      " -9.24424085e+00 -2.10162145e+00 -9.12102970e+00 -1.42837581e+01\n",
      " -1.79214053e+01 -1.64372379e+01 -1.55379574e+01 -1.13486271e+01\n",
      "  3.11776741e+00 -1.96849286e+01  1.92346925e+00 -5.18654825e+00\n",
      " -2.98877823e+00 -3.17158009e+00 -1.45963329e+01 -2.06118948e+01\n",
      " -2.92433632e+01  5.73100578e+00 -2.04739550e+01 -1.13904720e+01\n",
      " -1.26828662e+01 -1.59422320e+01  3.55455805e+00  1.94526479e+00\n",
      " -1.12270424e+01 -2.96310622e+00 -2.25232749e+00 -2.27482242e+01\n",
      " -1.03159471e+01 -1.88968843e+01 -6.98154529e+00 -2.44024077e+01\n",
      " -3.64540054e+01  5.17400005e+00 -2.04377973e+00 -2.14652476e+01\n",
      " -3.22244671e+00 -2.17370339e+01 -6.34373958e+00 -2.62481702e+01\n",
      " -8.54784856e+00  7.24334062e+00  2.90169364e+00 -7.09713188e+00\n",
      " -9.68553312e+00  1.46161013e+01  1.00200179e+01  3.09249017e+00\n",
      " -2.86884338e+01 -2.20981337e+01 -1.52931758e+01 -6.62007177e+00\n",
      " -1.75774476e+01 -6.68617815e+00 -1.82105818e+01  2.32344614e+00\n",
      "  2.44521648e-01 -1.47958686e+00  1.17659328e+01  1.25138036e+01\n",
      "  5.99001503e+00 -1.32830441e+00 -4.91907304e+00 -1.29189043e+01\n",
      " -2.31135260e+01 -7.39860294e+00 -2.44999394e+01 -1.15914118e+01\n",
      " -8.61001782e+00 -1.29176426e+01 -1.45685179e+01 -2.20359590e-01\n",
      "  6.86530372e+00 -1.14840298e+01 -1.75940523e+01 -3.33226665e+00\n",
      " -1.77568522e+00  1.17307030e+00 -1.98422001e+01 -1.84190669e+00\n",
      " -1.56224868e+01 -1.47245081e+01 -2.13578455e+00 -1.33010009e+01\n",
      " -1.99700025e+01 -3.13859790e+01 -8.26233912e+00 -1.94907557e+01\n",
      "  1.58155055e+00 -1.00293412e+01 -1.74564464e+01 -2.54257572e+00\n",
      " -2.48537038e-01 -2.77925042e+01 -1.33946276e+01 -1.14229096e+01\n",
      " -2.69282592e+01  8.23027499e-02 -3.97487153e+01 -1.95047165e+01\n",
      " -6.94544949e+00 -1.70122737e+01  2.62145518e+00 -1.65075437e+01\n",
      "  1.15177805e+01 -1.17809382e+01 -1.37875973e+01 -5.70985404e+00\n",
      "  1.34628862e+00 -1.96070948e+00  3.46032413e+00  1.44869147e+01\n",
      " -1.14892035e+01 -1.51529252e+00 -2.17345632e+01 -1.53922266e+01\n",
      " -2.26090893e+01  5.99542690e+00 -1.15329591e+00  2.45337217e+00\n",
      " -1.22271176e+01  6.97436688e+00  1.58271119e+01 -1.09412721e+01\n",
      "  8.05283379e-02 -2.28993542e+01  1.40433333e+00 -2.30596466e+01\n",
      " -2.57500354e+01 -2.45194584e+00 -1.62751107e+01 -1.54964599e+00\n",
      " -1.13926819e+01 -3.07231238e+00 -2.01338025e+01 -2.01588105e+01\n",
      " -7.93577795e+00 -1.27570271e+01 -1.78833339e+00 -7.77220496e+00\n",
      "  6.50814225e-01  6.48731548e-02 -7.20810664e+00 -1.15458854e+01\n",
      " -1.18304513e+01 -1.14106435e+01 -2.73589261e+00 -2.68304940e+00\n",
      " -2.12456175e+00 -4.84970755e+00 -3.55828880e+01 -1.21041990e+01\n",
      " -5.97453628e+00 -1.84351710e+00 -8.45094858e+00 -3.33450539e+00\n",
      "  7.35986614e-01 -2.24565241e+01  6.16622619e-01 -1.00457388e+01\n",
      " -8.11133214e+00 -1.42372823e+01 -1.46917598e+01 -1.39932125e+01\n",
      " -1.73943060e+01 -1.25704467e+01 -1.00266143e+01 -1.23907147e+01\n",
      "  4.95223186e+00 -1.44242700e+01 -2.01066949e+01 -9.18210994e+00\n",
      "  1.74889393e+00 -6.75987215e+00 -1.44421901e+01 -2.97997875e+01\n",
      " -1.79145632e+01 -1.98753428e+01 -1.13336073e+01 -1.54107018e+01\n",
      " -8.52190244e+00 -2.64651242e+01 -5.82507363e+00 -7.13570500e+00\n",
      " -2.25606952e+01 -3.87837788e+00  1.60349337e+01 -6.19307919e+00\n",
      " -1.92333848e+01  2.98804823e+00 -1.66165816e+01 -1.95424622e+01\n",
      " -1.59747246e+01 -7.86666006e+00 -1.99992983e+01 -1.87445491e+01\n",
      "  1.06652416e+01 -1.16878922e+01 -7.81396035e-01 -5.17002200e+00\n",
      " -4.28607510e+00  1.95767837e+00 -1.19601951e+01 -2.04112546e+01\n",
      " -1.40491599e+01 -4.01473409e+00 -1.18410412e+01 -1.83625540e+01\n",
      " -1.25642817e+01 -1.34324742e+01 -2.33069571e+01 -2.62891388e+01\n",
      " -2.51737470e+01 -6.98214924e+00 -2.10370518e+00  6.06013064e+00\n",
      " -2.81891179e+00 -2.47106363e+01 -8.22971469e+00  1.44537373e+00\n",
      " -8.38887229e+00 -7.43345930e+00  1.72214216e+01 -1.38141705e+01\n",
      " -5.90463727e+00 -1.83210494e+01 -3.94021785e+00 -9.86072848e+00\n",
      " -1.00929762e+01 -5.92048223e+00  2.05042656e+00 -7.00122782e-01\n",
      " -1.55840013e+01 -1.48836440e+01  2.21592820e-01 -7.40891315e-01\n",
      "  3.87047688e+00 -7.26565679e+00 -1.43366506e+01 -1.42820308e+01\n",
      " -2.56970666e+01 -1.27090514e+01 -1.11206184e+01 -3.22272487e+00\n",
      " -7.28349950e+00 -5.35699190e-01  1.77016386e+01 -2.33502809e+01\n",
      " -1.06759060e+01  1.64294896e+00 -4.30816147e+00 -1.01008155e+01\n",
      " -1.08351519e+01  6.51241808e+00 -1.62969159e+01  1.68343982e+01\n",
      "  9.39794093e+00 -6.53702802e+00 -1.81190838e+01 -3.75552906e+00\n",
      " -3.94467771e+00 -1.31526601e+01 -1.62740801e+01 -1.90223884e+01\n",
      " -2.18295903e+01 -9.35536823e+00  1.97625915e+00 -2.78579118e+01\n",
      " -1.78268653e+01 -4.27822759e+00  6.85581404e+00 -3.27323351e+00\n",
      "  2.79461119e+00  9.01194817e+00 -8.39749898e+00 -9.17534746e+00\n",
      " -8.65475511e+00 -2.00630631e+01 -2.21299550e+01 -1.06027601e+01\n",
      " -1.35876013e+01 -2.88642750e+00  1.37233530e+00 -4.20662110e+00\n",
      " -9.80507297e+00  1.49780672e+01 -1.63764364e+01 -5.02540631e+00\n",
      " -4.26125252e+00 -1.34185848e+01 -2.39787246e+01 -1.73708038e+01\n",
      "  5.39778864e+00  9.44894243e+00 -8.84434582e+00 -1.56535856e+01\n",
      " -7.90361046e+00 -3.44134497e+00 -2.33651100e+01 -2.97495360e+00\n",
      " -1.03947921e+01 -3.72307378e+00  8.10076916e-01  1.02544329e+01\n",
      " -1.68686847e+00 -1.72907364e+01 -7.32338304e+00  3.36319873e+00\n",
      " -3.78337262e+00 -1.66723350e+01 -1.20425580e+01 -2.21655065e+00\n",
      "  2.95443386e+00 -2.92489803e+00 -3.04887126e+00 -1.75191007e+01\n",
      " -1.87082365e+01 -1.11711626e+01 -2.04521012e+01 -3.18158326e+00\n",
      "  2.54782869e+00 -6.28280563e+00  3.93779374e+00 -1.03067185e+01\n",
      " -2.74981141e+01 -2.20442878e+01 -1.82608922e+01 -2.01591452e+01\n",
      " -2.41403409e+01 -2.11008127e+01 -2.58897468e+01 -1.37894783e+00\n",
      " -6.10692618e+00 -8.99969327e+00  4.62352243e+00 -1.36707868e+01\n",
      " -2.15699852e+01 -6.82994676e+00 -1.91864601e+01 -1.03630735e+01\n",
      "  1.02710172e+01 -2.88572265e+00 -3.04716718e+01 -7.54061757e+00\n",
      " -1.13712033e+01 -1.19633112e+01 -1.27927051e+01  4.81303785e+00\n",
      "  6.35819824e-01 -7.64691143e+00 -7.02335778e+00 -1.03259113e+01\n",
      " -1.82715221e+01 -1.85866114e+01 -9.73287214e+00 -4.40791294e+00\n",
      "  4.33567624e+00 -1.75894366e+01 -3.86879251e+00  7.27909026e-01\n",
      " -2.89013161e+00 -4.50405853e+00 -2.74037908e+00 -5.83156542e+00\n",
      " -9.85402288e+00 -2.34720479e+00 -1.97272465e+01 -6.95543926e+00\n",
      " -3.88386424e+00 -1.66655371e+01 -7.70524175e+00 -3.60374915e+00\n",
      " -1.02681219e+01  1.43669902e-01 -9.99356327e+00 -7.62488870e+00\n",
      " -1.62085634e+01 -1.26849459e+01 -1.77669278e+01 -8.89225976e+00\n",
      " -7.85781588e+00 -2.33017729e+01 -1.24103052e+01 -8.62172264e+00\n",
      "  1.12731358e+01 -1.16318998e+01  6.96118134e+00 -1.92339385e+01\n",
      " -1.26076089e+01  3.87611095e+00 -1.63944888e+01 -1.09102164e+01\n",
      "  1.15997159e+01 -3.51387905e+00 -7.69345521e+00  1.73320798e+00\n",
      " -1.22844320e+01 -1.10142834e+01  3.30444381e+00 -1.93865771e+01\n",
      " -5.86922165e+00 -1.18022592e+01 -9.54129768e+00 -3.77838635e+00\n",
      " -1.29836307e+01 -1.27302487e+01 -6.72544601e-01 -4.36510679e+00\n",
      "  2.48583403e+00 -1.71651300e+01  1.57787605e+00  9.19530213e+00\n",
      " -8.09882322e+00 -1.65373271e+01 -1.52246091e+01 -1.13001666e+01\n",
      " -1.70810074e+01 -1.12526969e+01 -1.69446993e+01 -1.64179345e+01\n",
      " -5.51564156e+00 -2.22473573e+01 -2.01102977e+00 -2.24646871e+01\n",
      "  2.75976067e+00 -1.17298246e+01  1.73674771e+00 -1.80127317e+01\n",
      " -2.19217259e+01 -1.07162805e+01 -1.56269510e+01 -1.52795248e+00\n",
      "  7.12657278e-01 -3.76436505e+00 -8.19061528e+00 -3.28750162e+01\n",
      " -5.03045468e+00 -1.68072490e+01 -6.38159403e+00 -1.33089871e+01\n",
      " -4.10894409e+00 -7.49373757e+00 -1.04828424e+01  5.25358862e+00\n",
      "  9.64254511e+00  2.20480106e+00 -2.41647305e+01 -1.69055878e+01\n",
      " -1.96771331e+01 -2.67087378e+01  6.96755933e+00 -1.44559819e+01\n",
      "  7.46590801e-02 -3.00013476e+00 -1.92919884e+01 -1.20933702e+01\n",
      " -1.58882718e+01 -1.77064896e+01 -7.46647471e+00  8.39811759e+00\n",
      " -1.15851756e+01 -2.45027644e+01 -4.08287724e+00  7.83974022e+00\n",
      " -1.34276139e+01 -1.19919597e+00 -3.40760269e+01  8.59475951e+00\n",
      " -2.08923226e+01 -2.99283881e+00  1.25062224e+01 -1.04296181e+01\n",
      " -1.38776740e+01  3.88753559e+00 -1.13950490e+01 -1.48642804e+01\n",
      " -2.99681199e+01 -1.29258426e+01  1.03034391e+01 -2.33464173e+01\n",
      " -3.30185009e+01 -4.62277621e-02 -3.00226146e+00 -1.34458275e+01\n",
      " -4.77289366e+00 -1.15847662e+01 -9.35686897e+00 -8.87840599e+00\n",
      "  3.86227128e+00 -2.50797433e+01  4.34697234e-01 -3.52695001e+00\n",
      " -1.23268673e+01 -1.94460780e+01 -1.90304868e+01 -6.04962263e+00\n",
      " -1.13955084e+01 -1.27856489e+01 -8.05674918e+00 -2.67053127e+01\n",
      " -1.95399666e+00 -4.72100451e+00 -1.18748722e+01 -4.20165937e+00\n",
      " -1.32921997e+01 -8.36292255e+00 -1.08765134e+01 -1.12467497e-01\n",
      " -3.60874795e+00 -1.93878018e+01 -1.00495501e+01 -1.83473506e+01]\n"
     ]
    }
   ],
   "source": [
    "#set seed\n",
    "np.random.seed(343)\n",
    "\n",
    "#draw iid normal with mean -10 and sd of 10 (variance 100)\n",
    "v = np.random.normal(loc=[-10], scale=[10], size=1000)\n",
    "print(v)"
   ]
  },
  {
   "cell_type": "markdown",
   "metadata": {
    "id": "tnKYRW5AKI7I"
   },
   "source": [
    "* Repeat this exercise by resetting the seed to ensure you obtain the same results. You can use the random module built in python or random.seed from numpy."
   ]
  },
  {
   "cell_type": "code",
   "execution_count": 186,
   "metadata": {
    "colab": {
     "base_uri": "https://localhost:8080/"
    },
    "id": "1QHAam3_KCdD",
    "outputId": "9dd29024-89b8-4ab5-d150-0999b39876ae"
   },
   "outputs": [
    {
     "name": "stdout",
     "output_type": "stream",
     "text": [
      "[-7.87551704e+00 -1.61826621e+01 -1.93192949e+01  8.21476003e+00\n",
      " -8.38698341e+00 -1.09994008e+01 -1.20084892e+01 -1.22613009e+01\n",
      " -1.35583980e+01 -8.13913280e+00  2.69733548e+00  1.05604888e+00\n",
      " -7.37103870e+00 -1.23985848e+01 -1.43841626e+01 -4.32643181e+00\n",
      " -2.81589371e+01 -2.18343002e+00 -1.95733970e+01 -1.22571036e+00\n",
      " -1.31261729e+01 -7.29294192e+00  5.41322607e+00  1.47363152e+00\n",
      " -2.14149095e+01 -1.10069451e+01 -2.30644877e+01 -1.19148184e+01\n",
      " -9.50641374e-02 -3.85781294e+00 -1.19067285e+01 -2.75351774e+01\n",
      "  1.93042715e+00 -5.37629128e+00 -9.95572806e+00 -4.73656958e+00\n",
      "  1.35252498e+01 -9.94233488e+00 -2.03682477e+01 -1.48897252e+01\n",
      " -1.07649779e-01 -1.37489460e+01 -5.04401563e+00 -2.02389977e+00\n",
      " -3.34829152e+01 -1.51976690e+01 -2.14008183e+01 -1.08031027e+01\n",
      " -1.56434662e+01 -1.86236534e+00 -1.73256089e+01  7.29557451e+00\n",
      " -1.65767023e+01 -1.92255870e+01 -2.92522274e+01  2.44478098e+00\n",
      " -4.75730139e+00 -1.13946497e+01 -1.06785214e+01 -7.03452549e+00\n",
      " -1.00782290e+01  3.15636711e+00 -2.16622732e+01 -1.09203591e+01\n",
      " -1.26963730e+01 -5.79283090e+00 -1.80440515e+01 -7.41901399e+00\n",
      " -2.37683005e+00 -1.30178847e+01 -3.10411422e+01 -1.08996580e+01\n",
      " -1.41136865e+01  1.76122216e+00 -2.25066287e+01 -2.75076664e+01\n",
      "  3.02123120e+00 -1.51062465e+01 -3.54710189e-02 -5.89455415e+00\n",
      "  5.98625774e+00 -1.04694083e+01 -2.19766452e+01 -2.54379039e+00\n",
      " -3.43094484e+01 -1.68754559e+00 -1.57315309e+01 -1.48415464e+01\n",
      " -3.15235380e+01  1.65714469e+01 -8.13974465e+00 -6.55113523e+00\n",
      " -3.28771369e+00 -3.10424011e+01 -1.01865347e+01 -1.52261923e+01\n",
      "  1.57532263e+01 -4.99731592e+00 -8.43681432e+00 -2.22069518e+00\n",
      " -8.49494689e+00 -5.68731058e+00 -1.10270193e+01  3.26597217e+00\n",
      " -1.86662390e+01 -2.06937083e-01  4.13040994e+00  9.27810846e+00\n",
      "  1.19925591e+00 -3.24314209e+01 -1.31368858e+01 -7.71946616e+00\n",
      " -1.32395906e+01 -1.38179338e+01  4.06571389e+00 -8.40245550e+00\n",
      " -1.05621668e+01 -1.97304680e+01 -1.88438387e+01 -1.25548666e+01\n",
      " -1.15672318e+01 -6.99257851e+00 -4.62119101e+00 -1.98681686e+01\n",
      "  1.02409954e+01 -2.14769960e+01 -1.08779217e+01 -1.73400239e+01\n",
      "  2.11563159e+00 -8.74676496e+00 -1.70325504e+01  8.94460515e+00\n",
      "  1.02433496e+01 -1.85174445e+01 -2.07622922e+00 -1.78435238e+01\n",
      " -7.16381372e+00 -5.06803882e+00 -6.94096367e+00 -1.56054929e+01\n",
      "  3.61230348e+00 -9.01245228e+00 -1.45045498e+01 -9.04334600e+00\n",
      " -2.86337739e+01 -2.09407389e+01 -1.38246242e+01  6.20806171e+00\n",
      " -1.81967996e+01 -1.31981738e+01 -1.87192302e+01 -2.15023895e+01\n",
      " -1.80746801e+01 -6.02477544e+00 -1.36283444e+01 -1.30357985e+01\n",
      " -1.36926640e+01 -1.67778453e+01  4.91324774e-01 -1.67802388e+01\n",
      " -1.05578878e+01  1.77139238e+00 -1.01686696e+01 -5.95922340e+00\n",
      " -1.45313558e+01 -8.39346248e+00 -1.11279034e+01 -2.44302904e+01\n",
      " -1.14698628e+01 -2.15243960e+01 -1.17913561e+01 -3.14445935e+00\n",
      " -1.16267087e+01 -5.74821419e+00 -1.46233322e+01  5.78913458e+00\n",
      " -9.80055552e-01 -1.59586872e+01  1.27039459e+00 -5.80588691e+00\n",
      "  1.34131705e+01 -1.19886661e+01 -2.58831512e+01 -1.90138402e+00\n",
      " -7.19620937e+00 -1.93828070e+01 -6.06237676e+00 -2.38656832e+00\n",
      " -2.48694919e+01 -1.54194658e+01 -8.37284077e+00 -4.20625173e-01\n",
      " -2.63501298e+01 -2.15696289e+01 -4.63523887e+00 -1.88782798e+01\n",
      " -2.68232387e+01 -7.51921389e+00  8.48749080e+00 -3.01599569e+01\n",
      " -3.87058076e+00 -1.97371553e+01 -1.54000708e+01 -2.21944955e+01\n",
      " -1.16089336e+01 -2.64763452e+01 -2.00061871e+01 -1.01582977e+01\n",
      "  1.03627781e+00 -1.30888336e+01 -5.68069692e+00 -2.16207786e+01\n",
      " -3.08827822e+01 -2.58448613e+00 -9.34587020e+00 -1.23901209e+00\n",
      " -1.72875628e+01  9.07932110e+00  1.49297916e+00 -1.70691756e+01\n",
      " -2.15421131e+01 -1.44882540e+01 -1.49873917e+01 -1.58438846e+01\n",
      " -5.20279797e-01  8.27703332e-01 -1.18717920e+01 -7.48130509e+00\n",
      "  4.09629781e+00 -1.43220604e+01 -9.11735775e+00  1.43913345e+00\n",
      " -1.76294041e+01 -1.56112271e+01 -5.81311900e+00 -1.65603404e+01\n",
      "  9.05081176e-01 -6.80293788e+00 -1.47502107e+01 -1.24522637e+01\n",
      " -1.72269510e+01 -3.19066977e+01 -1.46718469e+01 -1.80644271e+01\n",
      " -6.60594817e+00 -3.01465423e+00 -2.18355656e+01 -1.40081315e+01\n",
      " -1.35131024e+01 -1.19946790e+01 -6.88294109e+00 -3.10316836e+00\n",
      " -5.06697020e-01  2.29891097e+00 -2.61522605e+00  1.18903591e-01\n",
      " -1.62912537e+01 -1.51353601e+01 -1.81116974e+01 -1.91604676e+01\n",
      " -1.09414744e+01 -4.44950967e+01 -2.69207952e-01  1.84633851e+00\n",
      " -2.27469528e+00 -3.20288243e+01 -3.57375520e+01  1.65695536e+01\n",
      " -3.27022293e+01 -2.16027212e+01 -3.39190105e+00 -9.73678817e+00\n",
      " -3.15319319e+00 -5.93257488e+00 -4.75280815e+00 -1.38473230e+01\n",
      " -6.00016471e+00 -1.37002204e+01 -2.62609179e+01 -2.50669162e+00\n",
      " -2.17781501e+01 -4.96523588e+00 -1.75236355e+01 -5.88476397e+00\n",
      "  1.15597379e+01 -1.21255451e+01 -3.22703814e+01 -7.22008569e+00\n",
      "  8.62658203e-01 -3.14092574e+01 -1.08384785e+01  2.34006292e+01\n",
      " -4.46535191e+00 -4.67491837e+00 -1.78996976e+01 -6.43943972e+00\n",
      " -4.54394754e+00 -2.71103667e+01 -5.46715897e+00  4.53958978e+00\n",
      " -2.40414869e+01 -1.61672650e-02 -2.36065998e+01 -2.56878950e+01\n",
      " -1.03837599e+01 -5.81255130e+00 -2.10845820e+01 -2.12165296e+01\n",
      " -1.30457023e+01 -1.08046623e+01 -2.16355891e+01 -1.15172356e+01\n",
      " -2.15330970e+01 -9.73582191e+00 -3.87408852e+00 -8.41166231e+00\n",
      "  6.28242533e+00 -1.85999625e+01 -1.66344754e+01 -2.81095885e+00\n",
      "  4.33942291e+00 -1.76679280e+01 -9.55720038e+00  1.77362367e+00\n",
      " -7.95673066e+00 -1.31808762e+01 -2.16849761e+01 -1.66982336e+01\n",
      "  8.87619057e+00  1.92399908e+00 -4.68684312e+00 -3.72783940e+00\n",
      " -3.53458489e-01  1.47773573e+00 -8.91955191e+00 -2.86283653e+01\n",
      " -2.94638183e+01 -1.15696071e+01 -6.96936158e+00 -1.94765150e+01\n",
      "  1.91608379e-01  9.14558938e-01 -1.72747708e+00 -2.28277402e+01\n",
      "  8.70274893e+00 -8.85151135e+00 -1.81795816e+01 -4.87802007e+00\n",
      " -7.35352899e+00 -1.19335346e+01 -1.45609984e+01 -1.31744638e+01\n",
      "  9.03481831e+00 -1.23072087e+01 -1.07420729e+01 -3.57326612e+00\n",
      " -1.68354609e+01 -1.13097605e+01 -1.16020645e+01 -8.34640587e+00\n",
      " -1.31001146e+01 -1.54946681e+01 -2.84241687e+01 -1.35530259e+01\n",
      " -2.13879481e+01 -5.29800056e+00 -2.44929022e+00 -2.23966029e+01\n",
      " -1.55454001e+01 -1.37970360e+01 -4.67486353e-01 -1.40827999e+01\n",
      " -1.06956739e+01 -1.30003860e+01 -4.86949415e+00 -1.46254719e+00\n",
      " -6.93994128e+00 -1.84924243e+01 -1.77981420e+01 -1.41217913e+01\n",
      " -2.64831243e+00 -2.33059554e+01 -7.00232900e+00 -1.73391689e+01\n",
      " -6.63089837e+00  5.26943940e+00 -3.92785107e+00 -1.66702885e+00\n",
      " -1.34456915e+01 -2.43608865e+01  7.21000705e+00 -2.21438295e+01\n",
      " -1.38937648e+01 -2.68548261e+00 -1.76855971e+01 -1.84730440e+01\n",
      " -1.91645081e+01 -8.11700367e+00 -1.19394107e+01 -2.09425073e+01\n",
      " -2.23904403e+01 -1.10817302e+01 -9.30352718e+00  1.41605696e+00\n",
      "  2.85823397e+00 -4.97463489e+00 -1.11696708e+01 -1.18522234e+01\n",
      " -1.98202859e+00  9.06849994e+00 -3.31760969e+00 -8.27899835e+00\n",
      " -2.27743196e+01 -1.11226818e+01 -3.08698047e+01 -1.17737078e+01\n",
      " -9.95760524e+00 -1.02606512e+01 -6.67604966e+00 -2.20191244e+01\n",
      " -1.21891259e+01 -9.38046279e+00 -5.56575887e+01 -6.03150819e-01\n",
      " -2.12296900e+01 -1.75477376e+01 -3.51029482e+01 -1.64594256e+01\n",
      " -6.94562979e+00  9.59328156e+00 -1.92463720e+01 -1.72136249e+01\n",
      " -2.60224454e+00 -1.56600936e+01 -1.08226298e+01 -2.16530942e+01\n",
      " -9.21074681e+00 -9.14827246e+00 -3.07228780e+01  4.41547694e+00\n",
      "  6.68186259e+00 -2.56869219e+01 -1.58893364e+01 -1.92132155e+01\n",
      " -6.15398455e+00 -1.43526809e+01 -6.10976925e+00 -2.33656951e+00\n",
      " -1.40298729e+01 -2.78167349e+00 -1.13291492e+01 -1.49671535e+01\n",
      " -1.61682640e+01 -1.87366087e+01  5.73671118e+00  5.82096908e+00\n",
      " -1.18118073e+00 -1.02681328e+01 -1.54303874e+01 -5.26252322e+00\n",
      " -7.64262431e+00 -1.99087569e+00 -2.44115427e+01 -1.42117637e+01\n",
      " -2.03509457e+01 -1.27960977e+01 -2.63473212e+01 -1.64949840e+01\n",
      " -1.89349200e+01 -2.07820349e+01 -4.83929242e+00 -9.74884048e+00\n",
      " -7.70685816e+00  4.03035670e-01 -2.65311924e+01 -3.12755123e+00\n",
      " -2.22640614e+01 -5.84758966e-01 -4.77164216e+00 -1.21808762e+01\n",
      " -1.30204863e+01 -8.40425456e+00  3.52128060e+00 -1.07523552e+01\n",
      "  8.77487172e-01 -1.88819965e+01  2.72563883e+00 -2.09228092e+00\n",
      " -9.24424085e+00 -2.10162145e+00 -9.12102970e+00 -1.42837581e+01\n",
      " -1.79214053e+01 -1.64372379e+01 -1.55379574e+01 -1.13486271e+01\n",
      "  3.11776741e+00 -1.96849286e+01  1.92346925e+00 -5.18654825e+00\n",
      " -2.98877823e+00 -3.17158009e+00 -1.45963329e+01 -2.06118948e+01\n",
      " -2.92433632e+01  5.73100578e+00 -2.04739550e+01 -1.13904720e+01\n",
      " -1.26828662e+01 -1.59422320e+01  3.55455805e+00  1.94526479e+00\n",
      " -1.12270424e+01 -2.96310622e+00 -2.25232749e+00 -2.27482242e+01\n",
      " -1.03159471e+01 -1.88968843e+01 -6.98154529e+00 -2.44024077e+01\n",
      " -3.64540054e+01  5.17400005e+00 -2.04377973e+00 -2.14652476e+01\n",
      " -3.22244671e+00 -2.17370339e+01 -6.34373958e+00 -2.62481702e+01\n",
      " -8.54784856e+00  7.24334062e+00  2.90169364e+00 -7.09713188e+00\n",
      " -9.68553312e+00  1.46161013e+01  1.00200179e+01  3.09249017e+00\n",
      " -2.86884338e+01 -2.20981337e+01 -1.52931758e+01 -6.62007177e+00\n",
      " -1.75774476e+01 -6.68617815e+00 -1.82105818e+01  2.32344614e+00\n",
      "  2.44521648e-01 -1.47958686e+00  1.17659328e+01  1.25138036e+01\n",
      "  5.99001503e+00 -1.32830441e+00 -4.91907304e+00 -1.29189043e+01\n",
      " -2.31135260e+01 -7.39860294e+00 -2.44999394e+01 -1.15914118e+01\n",
      " -8.61001782e+00 -1.29176426e+01 -1.45685179e+01 -2.20359590e-01\n",
      "  6.86530372e+00 -1.14840298e+01 -1.75940523e+01 -3.33226665e+00\n",
      " -1.77568522e+00  1.17307030e+00 -1.98422001e+01 -1.84190669e+00\n",
      " -1.56224868e+01 -1.47245081e+01 -2.13578455e+00 -1.33010009e+01\n",
      " -1.99700025e+01 -3.13859790e+01 -8.26233912e+00 -1.94907557e+01\n",
      "  1.58155055e+00 -1.00293412e+01 -1.74564464e+01 -2.54257572e+00\n",
      " -2.48537038e-01 -2.77925042e+01 -1.33946276e+01 -1.14229096e+01\n",
      " -2.69282592e+01  8.23027499e-02 -3.97487153e+01 -1.95047165e+01\n",
      " -6.94544949e+00 -1.70122737e+01  2.62145518e+00 -1.65075437e+01\n",
      "  1.15177805e+01 -1.17809382e+01 -1.37875973e+01 -5.70985404e+00\n",
      "  1.34628862e+00 -1.96070948e+00  3.46032413e+00  1.44869147e+01\n",
      " -1.14892035e+01 -1.51529252e+00 -2.17345632e+01 -1.53922266e+01\n",
      " -2.26090893e+01  5.99542690e+00 -1.15329591e+00  2.45337217e+00\n",
      " -1.22271176e+01  6.97436688e+00  1.58271119e+01 -1.09412721e+01\n",
      "  8.05283379e-02 -2.28993542e+01  1.40433333e+00 -2.30596466e+01\n",
      " -2.57500354e+01 -2.45194584e+00 -1.62751107e+01 -1.54964599e+00\n",
      " -1.13926819e+01 -3.07231238e+00 -2.01338025e+01 -2.01588105e+01\n",
      " -7.93577795e+00 -1.27570271e+01 -1.78833339e+00 -7.77220496e+00\n",
      "  6.50814225e-01  6.48731548e-02 -7.20810664e+00 -1.15458854e+01\n",
      " -1.18304513e+01 -1.14106435e+01 -2.73589261e+00 -2.68304940e+00\n",
      " -2.12456175e+00 -4.84970755e+00 -3.55828880e+01 -1.21041990e+01\n",
      " -5.97453628e+00 -1.84351710e+00 -8.45094858e+00 -3.33450539e+00\n",
      "  7.35986614e-01 -2.24565241e+01  6.16622619e-01 -1.00457388e+01\n",
      " -8.11133214e+00 -1.42372823e+01 -1.46917598e+01 -1.39932125e+01\n",
      " -1.73943060e+01 -1.25704467e+01 -1.00266143e+01 -1.23907147e+01\n",
      "  4.95223186e+00 -1.44242700e+01 -2.01066949e+01 -9.18210994e+00\n",
      "  1.74889393e+00 -6.75987215e+00 -1.44421901e+01 -2.97997875e+01\n",
      " -1.79145632e+01 -1.98753428e+01 -1.13336073e+01 -1.54107018e+01\n",
      " -8.52190244e+00 -2.64651242e+01 -5.82507363e+00 -7.13570500e+00\n",
      " -2.25606952e+01 -3.87837788e+00  1.60349337e+01 -6.19307919e+00\n",
      " -1.92333848e+01  2.98804823e+00 -1.66165816e+01 -1.95424622e+01\n",
      " -1.59747246e+01 -7.86666006e+00 -1.99992983e+01 -1.87445491e+01\n",
      "  1.06652416e+01 -1.16878922e+01 -7.81396035e-01 -5.17002200e+00\n",
      " -4.28607510e+00  1.95767837e+00 -1.19601951e+01 -2.04112546e+01\n",
      " -1.40491599e+01 -4.01473409e+00 -1.18410412e+01 -1.83625540e+01\n",
      " -1.25642817e+01 -1.34324742e+01 -2.33069571e+01 -2.62891388e+01\n",
      " -2.51737470e+01 -6.98214924e+00 -2.10370518e+00  6.06013064e+00\n",
      " -2.81891179e+00 -2.47106363e+01 -8.22971469e+00  1.44537373e+00\n",
      " -8.38887229e+00 -7.43345930e+00  1.72214216e+01 -1.38141705e+01\n",
      " -5.90463727e+00 -1.83210494e+01 -3.94021785e+00 -9.86072848e+00\n",
      " -1.00929762e+01 -5.92048223e+00  2.05042656e+00 -7.00122782e-01\n",
      " -1.55840013e+01 -1.48836440e+01  2.21592820e-01 -7.40891315e-01\n",
      "  3.87047688e+00 -7.26565679e+00 -1.43366506e+01 -1.42820308e+01\n",
      " -2.56970666e+01 -1.27090514e+01 -1.11206184e+01 -3.22272487e+00\n",
      " -7.28349950e+00 -5.35699190e-01  1.77016386e+01 -2.33502809e+01\n",
      " -1.06759060e+01  1.64294896e+00 -4.30816147e+00 -1.01008155e+01\n",
      " -1.08351519e+01  6.51241808e+00 -1.62969159e+01  1.68343982e+01\n",
      "  9.39794093e+00 -6.53702802e+00 -1.81190838e+01 -3.75552906e+00\n",
      " -3.94467771e+00 -1.31526601e+01 -1.62740801e+01 -1.90223884e+01\n",
      " -2.18295903e+01 -9.35536823e+00  1.97625915e+00 -2.78579118e+01\n",
      " -1.78268653e+01 -4.27822759e+00  6.85581404e+00 -3.27323351e+00\n",
      "  2.79461119e+00  9.01194817e+00 -8.39749898e+00 -9.17534746e+00\n",
      " -8.65475511e+00 -2.00630631e+01 -2.21299550e+01 -1.06027601e+01\n",
      " -1.35876013e+01 -2.88642750e+00  1.37233530e+00 -4.20662110e+00\n",
      " -9.80507297e+00  1.49780672e+01 -1.63764364e+01 -5.02540631e+00\n",
      " -4.26125252e+00 -1.34185848e+01 -2.39787246e+01 -1.73708038e+01\n",
      "  5.39778864e+00  9.44894243e+00 -8.84434582e+00 -1.56535856e+01\n",
      " -7.90361046e+00 -3.44134497e+00 -2.33651100e+01 -2.97495360e+00\n",
      " -1.03947921e+01 -3.72307378e+00  8.10076916e-01  1.02544329e+01\n",
      " -1.68686847e+00 -1.72907364e+01 -7.32338304e+00  3.36319873e+00\n",
      " -3.78337262e+00 -1.66723350e+01 -1.20425580e+01 -2.21655065e+00\n",
      "  2.95443386e+00 -2.92489803e+00 -3.04887126e+00 -1.75191007e+01\n",
      " -1.87082365e+01 -1.11711626e+01 -2.04521012e+01 -3.18158326e+00\n",
      "  2.54782869e+00 -6.28280563e+00  3.93779374e+00 -1.03067185e+01\n",
      " -2.74981141e+01 -2.20442878e+01 -1.82608922e+01 -2.01591452e+01\n",
      " -2.41403409e+01 -2.11008127e+01 -2.58897468e+01 -1.37894783e+00\n",
      " -6.10692618e+00 -8.99969327e+00  4.62352243e+00 -1.36707868e+01\n",
      " -2.15699852e+01 -6.82994676e+00 -1.91864601e+01 -1.03630735e+01\n",
      "  1.02710172e+01 -2.88572265e+00 -3.04716718e+01 -7.54061757e+00\n",
      " -1.13712033e+01 -1.19633112e+01 -1.27927051e+01  4.81303785e+00\n",
      "  6.35819824e-01 -7.64691143e+00 -7.02335778e+00 -1.03259113e+01\n",
      " -1.82715221e+01 -1.85866114e+01 -9.73287214e+00 -4.40791294e+00\n",
      "  4.33567624e+00 -1.75894366e+01 -3.86879251e+00  7.27909026e-01\n",
      " -2.89013161e+00 -4.50405853e+00 -2.74037908e+00 -5.83156542e+00\n",
      " -9.85402288e+00 -2.34720479e+00 -1.97272465e+01 -6.95543926e+00\n",
      " -3.88386424e+00 -1.66655371e+01 -7.70524175e+00 -3.60374915e+00\n",
      " -1.02681219e+01  1.43669902e-01 -9.99356327e+00 -7.62488870e+00\n",
      " -1.62085634e+01 -1.26849459e+01 -1.77669278e+01 -8.89225976e+00\n",
      " -7.85781588e+00 -2.33017729e+01 -1.24103052e+01 -8.62172264e+00\n",
      "  1.12731358e+01 -1.16318998e+01  6.96118134e+00 -1.92339385e+01\n",
      " -1.26076089e+01  3.87611095e+00 -1.63944888e+01 -1.09102164e+01\n",
      "  1.15997159e+01 -3.51387905e+00 -7.69345521e+00  1.73320798e+00\n",
      " -1.22844320e+01 -1.10142834e+01  3.30444381e+00 -1.93865771e+01\n",
      " -5.86922165e+00 -1.18022592e+01 -9.54129768e+00 -3.77838635e+00\n",
      " -1.29836307e+01 -1.27302487e+01 -6.72544601e-01 -4.36510679e+00\n",
      "  2.48583403e+00 -1.71651300e+01  1.57787605e+00  9.19530213e+00\n",
      " -8.09882322e+00 -1.65373271e+01 -1.52246091e+01 -1.13001666e+01\n",
      " -1.70810074e+01 -1.12526969e+01 -1.69446993e+01 -1.64179345e+01\n",
      " -5.51564156e+00 -2.22473573e+01 -2.01102977e+00 -2.24646871e+01\n",
      "  2.75976067e+00 -1.17298246e+01  1.73674771e+00 -1.80127317e+01\n",
      " -2.19217259e+01 -1.07162805e+01 -1.56269510e+01 -1.52795248e+00\n",
      "  7.12657278e-01 -3.76436505e+00 -8.19061528e+00 -3.28750162e+01\n",
      " -5.03045468e+00 -1.68072490e+01 -6.38159403e+00 -1.33089871e+01\n",
      " -4.10894409e+00 -7.49373757e+00 -1.04828424e+01  5.25358862e+00\n",
      "  9.64254511e+00  2.20480106e+00 -2.41647305e+01 -1.69055878e+01\n",
      " -1.96771331e+01 -2.67087378e+01  6.96755933e+00 -1.44559819e+01\n",
      "  7.46590801e-02 -3.00013476e+00 -1.92919884e+01 -1.20933702e+01\n",
      " -1.58882718e+01 -1.77064896e+01 -7.46647471e+00  8.39811759e+00\n",
      " -1.15851756e+01 -2.45027644e+01 -4.08287724e+00  7.83974022e+00\n",
      " -1.34276139e+01 -1.19919597e+00 -3.40760269e+01  8.59475951e+00\n",
      " -2.08923226e+01 -2.99283881e+00  1.25062224e+01 -1.04296181e+01\n",
      " -1.38776740e+01  3.88753559e+00 -1.13950490e+01 -1.48642804e+01\n",
      " -2.99681199e+01 -1.29258426e+01  1.03034391e+01 -2.33464173e+01\n",
      " -3.30185009e+01 -4.62277621e-02 -3.00226146e+00 -1.34458275e+01\n",
      " -4.77289366e+00 -1.15847662e+01 -9.35686897e+00 -8.87840599e+00\n",
      "  3.86227128e+00 -2.50797433e+01  4.34697234e-01 -3.52695001e+00\n",
      " -1.23268673e+01 -1.94460780e+01 -1.90304868e+01 -6.04962263e+00\n",
      " -1.13955084e+01 -1.27856489e+01 -8.05674918e+00 -2.67053127e+01\n",
      " -1.95399666e+00 -4.72100451e+00 -1.18748722e+01 -4.20165937e+00\n",
      " -1.32921997e+01 -8.36292255e+00 -1.08765134e+01 -1.12467497e-01\n",
      " -3.60874795e+00 -1.93878018e+01 -1.00495501e+01 -1.83473506e+01]\n"
     ]
    }
   ],
   "source": [
    "#set seed\n",
    "np.random.seed(343)\n",
    "\n",
    "#draw iid normal with mean -10 and sd of 10 (variance 100)\n",
    "v = np.random.normal(loc=[-10], scale=[10], size=1000)\n",
    "print(v)"
   ]
  },
  {
   "cell_type": "markdown",
   "metadata": {
    "id": "RH1j1mgNKnc1"
   },
   "source": [
    "* Find the average of `v` and the standard error of `v`."
   ]
  },
  {
   "cell_type": "code",
   "execution_count": 187,
   "metadata": {
    "colab": {
     "base_uri": "https://localhost:8080/"
    },
    "id": "HWJZzmV3KPww",
    "outputId": "72de329e-cfa0-485a-f99f-afd0714804ef"
   },
   "outputs": [
    {
     "name": "stdout",
     "output_type": "stream",
     "text": [
      "-9.723988808367439\n",
      "10.186388231081471\n"
     ]
    }
   ],
   "source": [
    "v_mean = np.mean(v)\n",
    "v_sd = np.std(v)\n",
    "\n",
    "print(v_mean)\n",
    "print(v_sd)"
   ]
  },
  {
   "cell_type": "markdown",
   "metadata": {
    "id": "rH-Sf7vqLBxz"
   },
   "source": [
    "* Find the 5%ile of `v` and use the `norm` function from scipy.stats to compute what it theoretically should be. Is the estimate about what is expected by theory?"
   ]
  },
  {
   "cell_type": "code",
   "execution_count": 189,
   "metadata": {
    "colab": {
     "base_uri": "https://localhost:8080/"
    },
    "id": "aBMMfyNBLAzS",
    "outputId": "644d6a5c-9cea-4d4b-b7b2-a21b82c6a347"
   },
   "outputs": [
    {
     "name": "stdout",
     "output_type": "stream",
     "text": [
      "-26.35587956614618\n",
      "-26.44853626951473\n"
     ]
    }
   ],
   "source": [
    "from scipy.stats import norm\n",
    "\n",
    "realized = np.percentile(v, 5)\n",
    "theoretical = norm.ppf(0.05, loc=-10, scale=10)\n",
    "\n",
    "print(realized)\n",
    "print(theoretical)\n",
    "\n",
    "#Yes it's about as expected"
   ]
  },
  {
   "cell_type": "markdown",
   "metadata": {
    "id": "8R9DHC_yLq57"
   },
   "source": [
    "* What is the percentile of `v` that corresponds to the value 0? What should it be theoretically? Is the estimate about what is expected by theory?"
   ]
  },
  {
   "cell_type": "code",
   "execution_count": 190,
   "metadata": {
    "colab": {
     "base_uri": "https://localhost:8080/"
    },
    "id": "zf-4WAiKLefJ",
    "outputId": "e131bf75-069c-42ba-b577-7b119d641679"
   },
   "outputs": [
    {
     "name": "stdout",
     "output_type": "stream",
     "text": [
      "83.1\n",
      "84.1344746068543\n"
     ]
    }
   ],
   "source": [
    "#its about 1 sd above the mean so i'd expect a value close to 85\n",
    "\n",
    "#set values less than (0) to 1\n",
    "v_leq_0 = np.where(v<=0, 1, 0)\n",
    "\n",
    "#get percentage of values below (0)\n",
    "v_0_real = (np.sum(v_leq_0)/len(v))*100\n",
    "\n",
    "#percentile of 0 in this dist.\n",
    "theoretical = norm.cdf(0, loc=-10, scale=10)\n",
    "\n",
    "print(v_0_real)\n",
    "print(theoretical * 100)\n",
    "\n",
    "#Yes this is about as expected"
   ]
  },
  {
   "cell_type": "markdown",
   "metadata": {
    "id": "494OABRdM6CZ"
   },
   "source": [
    "* Create a function `my_reverse` which takes as required input a vector `v` and returns the vector in reverse where the first entry is the last entry, etc. No function calls are allowed inside your function otherwise that would defeat the purpose of the exercise! (Yes, there is a base R function that does this called `rev`). "
   ]
  },
  {
   "cell_type": "code",
   "execution_count": 192,
   "metadata": {
    "colab": {
     "base_uri": "https://localhost:8080/"
    },
    "id": "FNXIBb6ZM2yq",
    "outputId": "175eaaa6-2a71-46c5-b22c-9fc94d83ef15"
   },
   "outputs": [],
   "source": [
    "def my_reverse(v):\n",
    "    v_reversed = v[::-1]\n",
    "    return v_reversed"
   ]
  },
  {
   "cell_type": "markdown",
   "metadata": {
    "id": "lCutgH2kOMDd"
   },
   "source": [
    " * Built in methods in python to reverse a list."
   ]
  },
  {
   "cell_type": "code",
   "execution_count": 193,
   "metadata": {
    "colab": {
     "base_uri": "https://localhost:8080/"
    },
    "id": "_F67NrC8N5nl",
    "outputId": "38ec40dc-3f57-4ada-d253-045c1b4bf985"
   },
   "outputs": [
    {
     "name": "stdout",
     "output_type": "stream",
     "text": [
      "[5, 4, 3, 2, 1]\n",
      "[5, 4, 3, 2, 1]\n"
     ]
    }
   ],
   "source": [
    "#reverse using slicing\n",
    "v = [1, 2, 3, 4, 5]\n",
    "v_reversed = v[::-1]\n",
    "print(v_reversed)\n",
    "\n",
    "#using the .reverse method\n",
    "v = [1, 2, 3, 4, 5]\n",
    "v.reverse()\n",
    "print(v)"
   ]
  },
  {
   "cell_type": "markdown",
   "metadata": {
    "id": "4VZDnJUFNp9d"
   },
   "source": [
    "* Create a function `flip_matrix` which takes as required input a matrix, an argument `dim_to_rev` that returns the matrix with the rows in reverse order or the columns in reverse order depending on the `dim_to_rev` argument. Let the default be the dimension of the matrix that is greater."
   ]
  },
  {
   "cell_type": "code",
   "execution_count": 194,
   "metadata": {
    "colab": {
     "base_uri": "https://localhost:8080/"
    },
    "id": "KJzPP76INONa",
    "outputId": "44dd9b1f-9e5b-48ed-edcb-37be5f026df9"
   },
   "outputs": [
    {
     "name": "stdout",
     "output_type": "stream",
     "text": [
      "[[0 1 2]\n",
      " [3 4 5]\n",
      " [6 7 8]]\n",
      "[[2 1 0]\n",
      " [5 4 3]\n",
      " [8 7 6]]\n",
      "[[6 7 8]\n",
      " [3 4 5]\n",
      " [0 1 2]]\n"
     ]
    }
   ],
   "source": [
    "#function that flips matrix on dim_to_rev axis\n",
    "def flip_matrix(matrix, dim_to_rev=\"col\"):\n",
    "    if(dim_to_rev==\"row\"):\n",
    "        return matrix[::-1]\n",
    "    else:\n",
    "        return matrix[:,::-1]\n",
    "\n",
    "m=np.array([[0,1,2],[3,4,5],[6,7,8]])   #create matrix\n",
    "\n",
    "#print matrix, matrix flipped by column, matrix flipped by row\n",
    "print(m)\n",
    "print(flip_matrix(m,\"col\"))\n",
    "print(flip_matrix(m,\"row\"))"
   ]
  },
  {
   "cell_type": "markdown",
   "metadata": {
    "id": "1n-VzTJTPpoU"
   },
   "source": [
    "* Create a list named `my_list` with keys \"A\", \"B\", ... where the entries are arrays of size 1, 2 x 2, 3 x 3 x 3, etc. Fill the array with the numbers 1, 2, 3, etc. Make 8 entries according to this sequence."
   ]
  },
  {
   "cell_type": "code",
   "execution_count": 195,
   "metadata": {
    "colab": {
     "base_uri": "https://localhost:8080/"
    },
    "id": "vGYjxbVcPNLN",
    "outputId": "165888fb-2728-4a4c-daf3-5183e6e1c66b"
   },
   "outputs": [
    {
     "data": {
      "text/plain": [
       "{'A': array([[1]]),\n",
       " 'B': array([[2, 2],\n",
       "        [2, 2]]),\n",
       " 'C': array([[3, 3, 3],\n",
       "        [3, 3, 3],\n",
       "        [3, 3, 3]]),\n",
       " 'D': array([[4, 4, 4, 4],\n",
       "        [4, 4, 4, 4],\n",
       "        [4, 4, 4, 4],\n",
       "        [4, 4, 4, 4]]),\n",
       " 'E': array([[5, 5, 5, 5, 5],\n",
       "        [5, 5, 5, 5, 5],\n",
       "        [5, 5, 5, 5, 5],\n",
       "        [5, 5, 5, 5, 5],\n",
       "        [5, 5, 5, 5, 5]]),\n",
       " 'F': array([[6, 6, 6, 6, 6, 6],\n",
       "        [6, 6, 6, 6, 6, 6],\n",
       "        [6, 6, 6, 6, 6, 6],\n",
       "        [6, 6, 6, 6, 6, 6],\n",
       "        [6, 6, 6, 6, 6, 6],\n",
       "        [6, 6, 6, 6, 6, 6]]),\n",
       " 'G': array([[7, 7, 7, 7, 7, 7, 7],\n",
       "        [7, 7, 7, 7, 7, 7, 7],\n",
       "        [7, 7, 7, 7, 7, 7, 7],\n",
       "        [7, 7, 7, 7, 7, 7, 7],\n",
       "        [7, 7, 7, 7, 7, 7, 7],\n",
       "        [7, 7, 7, 7, 7, 7, 7],\n",
       "        [7, 7, 7, 7, 7, 7, 7]]),\n",
       " 'H': array([[8, 8, 8, 8, 8, 8, 8, 8],\n",
       "        [8, 8, 8, 8, 8, 8, 8, 8],\n",
       "        [8, 8, 8, 8, 8, 8, 8, 8],\n",
       "        [8, 8, 8, 8, 8, 8, 8, 8],\n",
       "        [8, 8, 8, 8, 8, 8, 8, 8],\n",
       "        [8, 8, 8, 8, 8, 8, 8, 8],\n",
       "        [8, 8, 8, 8, 8, 8, 8, 8],\n",
       "        [8, 8, 8, 8, 8, 8, 8, 8]])}"
      ]
     },
     "execution_count": 195,
     "metadata": {},
     "output_type": "execute_result"
    }
   ],
   "source": [
    "my_list={}\n",
    "\n",
    "#create list of keys\n",
    "keys=[\"A\",\"B\",\"C\",\"D\",\"E\",\"F\",\"G\",\"H\"]\n",
    "\n",
    "for i in range(1, 9):\n",
    "    #pair key with matrix full of respective value\n",
    "    my_list[keys[i-1]]=np.full((i,i),i)\n",
    "\n",
    "my_list"
   ]
  },
  {
   "cell_type": "markdown",
   "metadata": {
    "id": "mZExH8G6Qr-s"
   },
   "source": [
    "* Run the following code:"
   ]
  },
  {
   "cell_type": "code",
   "execution_count": 196,
   "metadata": {
    "colab": {
     "base_uri": "https://localhost:8080/"
    },
    "id": "iV2anQ8cQBw_",
    "outputId": "c9bf96a4-5f98-41f8-9ef6-2b95f9ccfeb9"
   },
   "outputs": [
    {
     "name": "stdout",
     "output_type": "stream",
     "text": [
      "Key: A, Size: 132 bytes\n",
      "Key: B, Size: 144 bytes\n",
      "Key: C, Size: 164 bytes\n",
      "Key: D, Size: 192 bytes\n",
      "Key: E, Size: 228 bytes\n",
      "Key: F, Size: 272 bytes\n",
      "Key: G, Size: 324 bytes\n",
      "Key: H, Size: 384 bytes\n"
     ]
    }
   ],
   "source": [
    "import sys\n",
    "\n",
    "sizes = {key: sys.getsizeof(value) for key, value in my_list.items()}\n",
    "\n",
    "\n",
    "# Print the sizes\n",
    "for key, size in sizes.items():\n",
    "    print(f\"Key: {key}, Size: {size} bytes\")"
   ]
  },
  {
   "cell_type": "markdown",
   "metadata": {
    "id": "GG32YkXnSxqM"
   },
   "source": [
    "* Create vector `v` consisting of all numbers from -100 to 100 and test using the second line of code"
   ]
  },
  {
   "cell_type": "code",
   "execution_count": 197,
   "metadata": {
    "colab": {
     "base_uri": "https://localhost:8080/"
    },
    "id": "LnkySK_uSSlb",
    "outputId": "b0de8d3e-cc41-4123-f08c-0a03e395b3d5"
   },
   "outputs": [
    {
     "name": "stdout",
     "output_type": "stream",
     "text": [
      "[-100  -99  -98  -97  -96  -95  -94  -93  -92  -91  -90  -89  -88  -87\n",
      "  -86  -85  -84  -83  -82  -81  -80  -79  -78  -77  -76  -75  -74  -73\n",
      "  -72  -71  -70  -69  -68  -67  -66  -65  -64  -63  -62  -61  -60  -59\n",
      "  -58  -57  -56  -55  -54  -53  -52  -51  -50  -49  -48  -47  -46  -45\n",
      "  -44  -43  -42  -41  -40  -39  -38  -37  -36  -35  -34  -33  -32  -31\n",
      "  -30  -29  -28  -27  -26  -25  -24  -23  -22  -21  -20  -19  -18  -17\n",
      "  -16  -15  -14  -13  -12  -11  -10   -9   -8   -7   -6   -5   -4   -3\n",
      "   -2   -1    0    1    2    3    4    5    6    7    8    9   10   11\n",
      "   12   13   14   15   16   17   18   19   20   21   22   23   24   25\n",
      "   26   27   28   29   30   31   32   33   34   35   36   37   38   39\n",
      "   40   41   42   43   44   45   46   47   48   49   50   51   52   53\n",
      "   54   55   56   57   58   59   60   61   62   63   64   65   66   67\n",
      "   68   69   70   71   72   73   74   75   76   77   78   79   80   81\n",
      "   82   83   84   85   86   87   88   89   90   91   92   93   94   95\n",
      "   96   97   98   99  100]\n"
     ]
    }
   ],
   "source": [
    "v=np.arange(-100, 101)\n",
    "print(v)"
   ]
  },
  {
   "cell_type": "markdown",
   "metadata": {
    "id": "dH4AjtFUVphe"
   },
   "source": [
    "* Test the `my_reverse` function using the following code:"
   ]
  },
  {
   "cell_type": "code",
   "execution_count": 198,
   "metadata": {
    "colab": {
     "base_uri": "https://localhost:8080/"
    },
    "id": "zAJAaua1SbqD",
    "outputId": "f1922dde-f8d2-47a8-edd5-f0d70144d9c2"
   },
   "outputs": [
    {
     "name": "stdout",
     "output_type": "stream",
     "text": [
      "[1, 2, 3, 4, 5, 6, 7, 8, 9, 10]\n",
      "[10, 9, 8, 7, 6, 5, 4, 3, 2, 1]\n"
     ]
    }
   ],
   "source": [
    "# Test the function\n",
    "v = list(range(1, 11))\n",
    "v_reversed = my_reverse(v)\n",
    "print(v)\n",
    "print(v_reversed)\n",
    "type(v_reversed)\n",
    "\n",
    "assert my_reverse(v) == v[::-1], \"my_reverse failed for numerical vector\"\n",
    "\n",
    " # Test with character vector\n",
    "v_char = [\"A\", \"B\", \"C\"]\n",
    "assert my_reverse(v_char) == v_char[::-1], \"my_reverse failed for character vector\""
   ]
  },
  {
   "cell_type": "markdown",
   "metadata": {
    "id": "B4ch5SmkVzfz"
   },
   "source": [
    "## A little about strings\n",
    "\n",
    "* Use the `re.split` function by importing the re module and `random` from the random module to put the sentences in the string `lorem` below in random order. You will also need to manipulate the output of `re.split` which is a list. You may need to learn basic concepts of regular expressions."
   ]
  },
  {
   "cell_type": "code",
   "execution_count": 199,
   "metadata": {
    "colab": {
     "base_uri": "https://localhost:8080/"
    },
    "id": "tVRqWzFCVzAX",
    "outputId": "c58a0650-9033-4ef6-d02e-4f3f6ee21251"
   },
   "outputs": [
    {
     "name": "stdout",
     "output_type": "stream",
     "text": [
      "Morbi faucibus ligula id massa ultricies viverra.\n",
      "Donec vehicula sagittis nisi non semper Curabitur est augue, congue eget quam in, scelerisque semper magna.\n",
      "Aenean nulla ante, iaculis sed vehicula ac, finibus vel arcu Lorem ipsum dolor sit amet, consectetur adipiscing elit.\n",
      "Morbi posuere varius volutpat Donec at tempor erat.\n",
      "Integer dapibus mi lectus, eu posuere arcu ultricies in.\n",
      "Cras suscipit id nibh lacinia elementum Mauris at sodales augue.\n"
     ]
    }
   ],
   "source": [
    "import re\n",
    "import random\n",
    "\n",
    "lorem = \"\"\"Lorem ipsum dolor sit amet, consectetur adipiscing elit.\n",
    "Morbi posuere varius volutpat. Morbi faucibus ligula id massa ultricies viverra.\n",
    "Donec vehicula sagittis nisi non semper. Donec at tempor erat.\n",
    "Integer dapibus mi lectus, eu posuere arcu ultricies in.\n",
    "Cras suscipit id nibh lacinia elementum. Curabitur est augue, congue eget quam in, scelerisque semper magna.\n",
    "Aenean nulla ante, iaculis sed vehicula ac, finibus vel arcu. Mauris at sodales augue.\"\"\"\n",
    "\n",
    "#split sentence by period\n",
    "sentence_split=re.split(r\"\\. \", lorem)\n",
    "\n",
    "#shuffle the list of sentences\n",
    "random.shuffle(sentence_split)\n",
    "\n",
    "#join the list to a string\n",
    "shuffled_lorem=\" \".join(sentence_split)\n",
    "\n",
    "print(shuffled_lorem)"
   ]
  },
  {
   "cell_type": "markdown",
   "metadata": {
    "id": "40eoQu9LWrBo"
   },
   "source": [
    "* You have a set of names divided by gender (M / F) and generation (Boomer / GenX / Millenial):\n",
    "\n",
    "M / Boomer      \"Theodore, Bernard, Gene, Herbert, Ray, Tom, Lee, Alfred, Leroy, Eddie\"\n",
    "\n",
    "M / GenX        \"Marc, Jamie, Greg, Darryl, Tim, Dean, Jon, Chris, Troy, Jeff\"\n",
    "\n",
    "M / Millennial  \"Zachary, Dylan, Christian, Wesley, Seth, Austin, Gabriel, Evan, Casey, Luis\"\n",
    "\n",
    "F / Boomer      \"Gloria, Joan, Dorothy, Shirley, Betty, Dianne, Kay, Marjorie, Lorraine, Mildred\"\n",
    "\n",
    "F / GenX        \"Tracy, Dawn, Tina, Tammy, Melinda, Tamara, Tracey, Colleen, Sherri, Heidi\"\n",
    "\n",
    "F / Millennial  \"Samantha, Alexis, Brittany, Lauren, Taylor, Bethany, Latoya, Candice, Brittney, Cheyenne\"\n",
    "\n",
    "Create python dictionary to store this data.\n"
   ]
  },
  {
   "cell_type": "code",
   "execution_count": 201,
   "metadata": {
    "colab": {
     "base_uri": "https://localhost:8080/"
    },
    "id": "KMpxbhglWYoA",
    "outputId": "334af4d7-a902-4c79-c3fe-03988d6654ab"
   },
   "outputs": [
    {
     "name": "stdout",
     "output_type": "stream",
     "text": [
      "{'M': {'Boomer': ['Theodore', 'Bernard', 'Gene', 'Herbert', 'Ray', 'Tom', 'Lee', 'Alfred', 'Leroy', 'Eddie'], 'Genx': ['Marc', 'Jamie', 'Greg', 'Darryl', 'Tim', 'Dean', 'Jon', 'Chris', 'Troy', 'Jeff'], 'Millennial': ['Zachary', 'Dylan', 'Christian', 'Wesley', 'Seth', 'Austin', 'Gabriel', 'Evan', 'Casey', 'Luis']}, 'F': {'Boomer': ['Gloria', 'Joan', 'Dorothy', 'Shirley', 'Betty', 'Dianne', 'Kay', 'Marjorie', 'Lorraine', 'Mildred'], 'Genx': ['Tracy', 'Dawn', 'Tina', 'Tammy', 'Melinda', 'Tamara', 'Tracey', 'Colleen', 'Sherri', 'Heidi'], 'Millennial': ['Samantha', 'Alexis', 'Brittany', 'Lauren', 'Taylor', 'Bethany', 'Latoya', 'Candice', 'Brittney', 'Cheyenne']}}\n"
     ]
    }
   ],
   "source": [
    "#create a dict for men where key is generation and value is list of names\n",
    "males={}\n",
    "males[\"Boomer\"] = [\"Theodore\", \"Bernard\", \"Gene\", \"Herbert\", \"Ray\", \"Tom\", \"Lee\", \"Alfred\", \"Leroy\", \"Eddie\"]\n",
    "males[\"Genx\"] = [\"Marc\", \"Jamie\", \"Greg\", \"Darryl\", \"Tim\", \"Dean\", \"Jon\", \"Chris\", \"Troy\", \"Jeff\"]\n",
    "males[\"Millennial\"] = [\"Zachary\", \"Dylan\", \"Christian\", \"Wesley\", \"Seth\", \"Austin\", \"Gabriel\", \"Evan\", \"Casey\", \"Luis\"]\n",
    "\n",
    "#create a dict for women where key is generation and value is list of names\n",
    "females={}\n",
    "females[\"Boomer\"] = [\"Gloria\", \"Joan\", \"Dorothy\", \"Shirley\", \"Betty\", \"Dianne\", \"Kay\", \"Marjorie\", \"Lorraine\", \"Mildred\"]\n",
    "females[\"Genx\"] = [\"Tracy\", \"Dawn\", \"Tina\", \"Tammy\", \"Melinda\", \"Tamara\", \"Tracey\", \"Colleen\", \"Sherri\", \"Heidi\"]\n",
    "females[\"Millennial\"] = [\"Samantha\", \"Alexis\", \"Brittany\", \"Lauren\", \"Taylor\", \"Bethany\", \"Latoya\", \"Candice\", \"Brittney\", \"Cheyenne\"]\n",
    "\n",
    "#create a dict where key is gender (M or F) and value is dict of names by generation\n",
    "gender_generation_name_hm={\"M\":males, \"F\":females}\n",
    "\n",
    "print(gender_generation_name_hm)"
   ]
  },
  {
   "cell_type": "markdown",
   "metadata": {
    "id": "mE0YVNtiWzC2"
   },
   "source": [
    "* Now cleanup the namespace by deleting all stored objects and functions:"
   ]
  },
  {
   "cell_type": "code",
   "execution_count": 126,
   "metadata": {
    "colab": {
     "base_uri": "https://localhost:8080/"
    },
    "id": "cqUJBY1uWzty",
    "outputId": "7a5eae8c-2613-4e44-a460-25d06818e769"
   },
   "outputs": [],
   "source": [
    "%reset"
   ]
  }
 ],
 "metadata": {
  "colab": {
   "provenance": []
  },
  "kernelspec": {
   "display_name": "Python 3",
   "language": "python",
   "name": "python3"
  },
  "language_info": {
   "codemirror_mode": {
    "name": "ipython",
    "version": 3
   },
   "file_extension": ".py",
   "mimetype": "text/x-python",
   "name": "python",
   "nbconvert_exporter": "python",
   "pygments_lexer": "ipython3",
   "version": "3.12.7"
  }
 },
 "nbformat": 4,
 "nbformat_minor": 1
}
